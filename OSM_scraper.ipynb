{
 "cells": [
  {
   "cell_type": "code",
   "execution_count": null,
   "id": "ac09ce5e",
   "metadata": {},
   "outputs": [],
   "source": [
    "import osmnx as ox\n",
    "import geopandas as gpd\n",
    "from shapely.geometry import Point\n",
    "import pandas as pd"
   ]
  },
  {
   "cell_type": "code",
   "execution_count": null,
   "id": "142e8ff3",
   "metadata": {},
   "outputs": [
    {
     "name": "stderr",
     "output_type": "stream",
     "text": [
      "C:\\Users\\Ahmad Hassan\\AppData\\Local\\Packages\\PythonSoftwareFoundation.Python.3.11_qbz5n2kfra8p0\\LocalCache\\local-packages\\Python311\\site-packages\\osmnx\\_overpass.py:267: UserWarning: This area is 562 times your configured Overpass max query area size. It will automatically be divided up into multiple sub-queries accordingly. This may take a long time.\n",
      "  multi_poly_proj = utils_geo._consolidate_subdivide_geometry(poly_proj)\n",
      "Exception ignored in: <bound method IPythonKernel._clean_thread_parent_frames of <ipykernel.ipkernel.IPythonKernel object at 0x000001C33661B310>>\n",
      "Traceback (most recent call last):\n",
      "  File \"C:\\Users\\Ahmad Hassan\\AppData\\Local\\Packages\\PythonSoftwareFoundation.Python.3.11_qbz5n2kfra8p0\\LocalCache\\local-packages\\Python311\\site-packages\\ipykernel\\ipkernel.py\", line 775, in _clean_thread_parent_frames\n",
      "    def _clean_thread_parent_frames(\n",
      "\n",
      "KeyboardInterrupt: \n"
     ]
    }
   ],
   "source": [
    "# 1. Download Pakistan’s drivable road network\n",
    "G = ox.graph_from_place(\"Pakistan\", network_type=\"drive\")\n",
    "\n",
    "# 2. Load your district centroids\n",
    "gdf = gpd.read_file(\"Districts_Pakistan.geojson\") # Replace w Lahore\n",
    "gdf['centroid'] = gdf.geometry.centroid\n",
    "\n",
    "# 3. For each district, compute avg distance to nearest primary road\n",
    "#    (as a simple proxy for accessibility)\n",
    "def get_nearest_dist(pt):\n",
    "    # find nearest node in graph\n",
    "    u = ox.nearest_nodes(G, pt.x, pt.y)\n",
    "    # get all edge lengths, take minimum\n",
    "    lengths = [data['length'] for _, _, data in G.edges(u, data=True)]\n",
    "    return min(lengths) if lengths else None\n",
    "\n",
    "gdf['road_dist_m'] = gdf['centroid'].apply(get_nearest_dist)\n",
    "\n",
    "# 4. Save results\n",
    "gdf[['DISTRICT','road_dist_m']].to_csv(\"district_road_access.csv\", index=False)\n"
   ]
  },
  {
   "cell_type": "code",
   "execution_count": 8,
   "id": "daaaa8c8",
   "metadata": {},
   "outputs": [
    {
     "name": "stderr",
     "output_type": "stream",
     "text": [
      "  0%|          | 0/161 [00:02<?, ?it/s]\n"
     ]
    },
    {
     "ename": "KeyboardInterrupt",
     "evalue": "",
     "output_type": "error",
     "traceback": [
      "\u001b[31m---------------------------------------------------------------------------\u001b[39m",
      "\u001b[31mKeyboardInterrupt\u001b[39m                         Traceback (most recent call last)",
      "\u001b[36mCell\u001b[39m\u001b[36m \u001b[39m\u001b[32mIn[8]\u001b[39m\u001b[32m, line 16\u001b[39m\n\u001b[32m     13\u001b[39m geom = row[\u001b[33m\"\u001b[39m\u001b[33mgeometry\u001b[39m\u001b[33m\"\u001b[39m]\n\u001b[32m     15\u001b[39m \u001b[38;5;28;01mtry\u001b[39;00m:\n\u001b[32m---> \u001b[39m\u001b[32m16\u001b[39m     G = \u001b[43mox\u001b[49m\u001b[43m.\u001b[49m\u001b[43mgraph_from_polygon\u001b[49m\u001b[43m(\u001b[49m\u001b[43mgeom\u001b[49m\u001b[43m,\u001b[49m\u001b[43m \u001b[49m\u001b[43mnetwork_type\u001b[49m\u001b[43m=\u001b[49m\u001b[33;43m\"\u001b[39;49m\u001b[33;43mdrive\u001b[39;49m\u001b[33;43m\"\u001b[39;49m\u001b[43m)\u001b[49m\n\u001b[32m     17\u001b[39m     all_graphs[district_name] = G\n\u001b[32m     18\u001b[39m \u001b[38;5;28;01mexcept\u001b[39;00m \u001b[38;5;167;01mException\u001b[39;00m \u001b[38;5;28;01mas\u001b[39;00m e:\n",
      "\u001b[36mFile \u001b[39m\u001b[32m~\\AppData\\Local\\Packages\\PythonSoftwareFoundation.Python.3.11_qbz5n2kfra8p0\\LocalCache\\local-packages\\Python311\\site-packages\\osmnx\\graph.py:505\u001b[39m, in \u001b[36mgraph_from_polygon\u001b[39m\u001b[34m(polygon, network_type, simplify, retain_all, truncate_by_edge, custom_filter)\u001b[39m\n\u001b[32m    503\u001b[39m \u001b[38;5;66;03m# keep only the largest weakly connected component if retain_all is False\u001b[39;00m\n\u001b[32m    504\u001b[39m \u001b[38;5;28;01mif\u001b[39;00m \u001b[38;5;129;01mnot\u001b[39;00m retain_all:\n\u001b[32m--> \u001b[39m\u001b[32m505\u001b[39m     G_buff = \u001b[43mtruncate\u001b[49m\u001b[43m.\u001b[49m\u001b[43mlargest_component\u001b[49m\u001b[43m(\u001b[49m\u001b[43mG_buff\u001b[49m\u001b[43m,\u001b[49m\u001b[43m \u001b[49m\u001b[43mstrongly\u001b[49m\u001b[43m=\u001b[49m\u001b[38;5;28;43;01mFalse\u001b[39;49;00m\u001b[43m)\u001b[49m\n\u001b[32m    507\u001b[39m \u001b[38;5;66;03m# simplify the graph topology\u001b[39;00m\n\u001b[32m    508\u001b[39m \u001b[38;5;28;01mif\u001b[39;00m simplify:\n",
      "\u001b[36mFile \u001b[39m\u001b[32m~\\AppData\\Local\\Packages\\PythonSoftwareFoundation.Python.3.11_qbz5n2kfra8p0\\LocalCache\\local-packages\\Python311\\site-packages\\osmnx\\truncate.py:196\u001b[39m, in \u001b[36mlargest_component\u001b[39m\u001b[34m(G, strongly)\u001b[39m\n\u001b[32m    193\u001b[39m n = \u001b[38;5;28mlen\u001b[39m(G)\n\u001b[32m    195\u001b[39m \u001b[38;5;66;03m# induce (frozen) subgraph then unfreeze it by making new MultiDiGraph\u001b[39;00m\n\u001b[32m--> \u001b[39m\u001b[32m196\u001b[39m G = \u001b[43mnx\u001b[49m\u001b[43m.\u001b[49m\u001b[43mMultiDiGraph\u001b[49m\u001b[43m(\u001b[49m\u001b[43mG\u001b[49m\u001b[43m.\u001b[49m\u001b[43msubgraph\u001b[49m\u001b[43m(\u001b[49m\u001b[43mlargest_cc\u001b[49m\u001b[43m)\u001b[49m\u001b[43m)\u001b[49m\n\u001b[32m    198\u001b[39m msg = \u001b[33mf\u001b[39m\u001b[33m\"\u001b[39m\u001b[33mGot largest \u001b[39m\u001b[38;5;132;01m{\u001b[39;00mkind\u001b[38;5;132;01m}\u001b[39;00m\u001b[33m connected component (\u001b[39m\u001b[38;5;132;01m{\u001b[39;00m\u001b[38;5;28mlen\u001b[39m(G)\u001b[38;5;132;01m:\u001b[39;00m\u001b[33m,\u001b[39m\u001b[38;5;132;01m}\u001b[39;00m\u001b[33m of \u001b[39m\u001b[38;5;132;01m{\u001b[39;00mn\u001b[38;5;132;01m:\u001b[39;00m\u001b[33m,\u001b[39m\u001b[38;5;132;01m}\u001b[39;00m\u001b[33m total nodes)\u001b[39m\u001b[33m\"\u001b[39m\n\u001b[32m    199\u001b[39m utils.log(msg, level=lg.INFO)\n",
      "\u001b[36mFile \u001b[39m\u001b[32m~\\AppData\\Local\\Packages\\PythonSoftwareFoundation.Python.3.11_qbz5n2kfra8p0\\LocalCache\\local-packages\\Python311\\site-packages\\networkx\\classes\\multidigraph.py:363\u001b[39m, in \u001b[36mMultiDiGraph.__init__\u001b[39m\u001b[34m(self, incoming_graph_data, multigraph_input, **attr)\u001b[39m\n\u001b[32m    361\u001b[39m         DiGraph.\u001b[34m__init__\u001b[39m(\u001b[38;5;28mself\u001b[39m, incoming_graph_data, **attr)\n\u001b[32m    362\u001b[39m \u001b[38;5;28;01melse\u001b[39;00m:\n\u001b[32m--> \u001b[39m\u001b[32m363\u001b[39m     \u001b[43mDiGraph\u001b[49m\u001b[43m.\u001b[49m\u001b[34;43m__init__\u001b[39;49m\u001b[43m(\u001b[49m\u001b[38;5;28;43mself\u001b[39;49m\u001b[43m,\u001b[49m\u001b[43m \u001b[49m\u001b[43mincoming_graph_data\u001b[49m\u001b[43m,\u001b[49m\u001b[43m \u001b[49m\u001b[43m*\u001b[49m\u001b[43m*\u001b[49m\u001b[43mattr\u001b[49m\u001b[43m)\u001b[49m\n",
      "\u001b[36mFile \u001b[39m\u001b[32m~\\AppData\\Local\\Packages\\PythonSoftwareFoundation.Python.3.11_qbz5n2kfra8p0\\LocalCache\\local-packages\\Python311\\site-packages\\networkx\\classes\\digraph.py:379\u001b[39m, in \u001b[36mDiGraph.__init__\u001b[39m\u001b[34m(self, incoming_graph_data, **attr)\u001b[39m\n\u001b[32m    377\u001b[39m \u001b[38;5;66;03m# attempt to load graph with data\u001b[39;00m\n\u001b[32m    378\u001b[39m \u001b[38;5;28;01mif\u001b[39;00m incoming_graph_data \u001b[38;5;129;01mis\u001b[39;00m \u001b[38;5;129;01mnot\u001b[39;00m \u001b[38;5;28;01mNone\u001b[39;00m:\n\u001b[32m--> \u001b[39m\u001b[32m379\u001b[39m     \u001b[43mconvert\u001b[49m\u001b[43m.\u001b[49m\u001b[43mto_networkx_graph\u001b[49m\u001b[43m(\u001b[49m\u001b[43mincoming_graph_data\u001b[49m\u001b[43m,\u001b[49m\u001b[43m \u001b[49m\u001b[43mcreate_using\u001b[49m\u001b[43m=\u001b[49m\u001b[38;5;28;43mself\u001b[39;49m\u001b[43m)\u001b[49m\n\u001b[32m    380\u001b[39m \u001b[38;5;66;03m# load graph attributes (must be after convert)\u001b[39;00m\n\u001b[32m    381\u001b[39m \u001b[38;5;28mself\u001b[39m.graph.update(attr)\n",
      "\u001b[36mFile \u001b[39m\u001b[32m~\\AppData\\Local\\Packages\\PythonSoftwareFoundation.Python.3.11_qbz5n2kfra8p0\\LocalCache\\local-packages\\Python311\\site-packages\\networkx\\convert.py:76\u001b[39m, in \u001b[36mto_networkx_graph\u001b[39m\u001b[34m(data, create_using, multigraph_input)\u001b[39m\n\u001b[32m     74\u001b[39m \u001b[38;5;28;01mif\u001b[39;00m \u001b[38;5;28mhasattr\u001b[39m(data, \u001b[33m\"\u001b[39m\u001b[33madj\u001b[39m\u001b[33m\"\u001b[39m):\n\u001b[32m     75\u001b[39m     \u001b[38;5;28;01mtry\u001b[39;00m:\n\u001b[32m---> \u001b[39m\u001b[32m76\u001b[39m         result = \u001b[43mfrom_dict_of_dicts\u001b[49m\u001b[43m(\u001b[49m\n\u001b[32m     77\u001b[39m \u001b[43m            \u001b[49m\u001b[43mdata\u001b[49m\u001b[43m.\u001b[49m\u001b[43madj\u001b[49m\u001b[43m,\u001b[49m\n\u001b[32m     78\u001b[39m \u001b[43m            \u001b[49m\u001b[43mcreate_using\u001b[49m\u001b[43m=\u001b[49m\u001b[43mcreate_using\u001b[49m\u001b[43m,\u001b[49m\n\u001b[32m     79\u001b[39m \u001b[43m            \u001b[49m\u001b[43mmultigraph_input\u001b[49m\u001b[43m=\u001b[49m\u001b[43mdata\u001b[49m\u001b[43m.\u001b[49m\u001b[43mis_multigraph\u001b[49m\u001b[43m(\u001b[49m\u001b[43m)\u001b[49m\u001b[43m,\u001b[49m\n\u001b[32m     80\u001b[39m \u001b[43m        \u001b[49m\u001b[43m)\u001b[49m\n\u001b[32m     81\u001b[39m         \u001b[38;5;66;03m# data.graph should be dict-like\u001b[39;00m\n\u001b[32m     82\u001b[39m         result.graph.update(data.graph)\n",
      "\u001b[36mFile \u001b[39m\u001b[32m~\\AppData\\Local\\Packages\\PythonSoftwareFoundation.Python.3.11_qbz5n2kfra8p0\\LocalCache\\local-packages\\Python311\\site-packages\\networkx\\utils\\decorators.py:784\u001b[39m, in \u001b[36margmap.__call__.<locals>.func\u001b[39m\u001b[34m(_argmap__wrapper, *args, **kwargs)\u001b[39m\n\u001b[32m    783\u001b[39m \u001b[38;5;28;01mdef\u001b[39;00m\u001b[38;5;250m \u001b[39m\u001b[34mfunc\u001b[39m(*args, __wrapper=\u001b[38;5;28;01mNone\u001b[39;00m, **kwargs):\n\u001b[32m--> \u001b[39m\u001b[32m784\u001b[39m     \u001b[38;5;28;01mreturn\u001b[39;00m \u001b[43margmap\u001b[49m\u001b[43m.\u001b[49m\u001b[43m_lazy_compile\u001b[49m\u001b[43m(\u001b[49m\u001b[43m__wrapper\u001b[49m\u001b[43m)\u001b[49m\u001b[43m(\u001b[49m\u001b[43m*\u001b[49m\u001b[43margs\u001b[49m\u001b[43m,\u001b[49m\u001b[43m \u001b[49m\u001b[43m*\u001b[49m\u001b[43m*\u001b[49m\u001b[43mkwargs\u001b[49m\u001b[43m)\u001b[49m\n",
      "\u001b[36mFile \u001b[39m\u001b[32m<class 'networkx.utils.decorators.argmap'> compilation 18:3\u001b[39m, in \u001b[36margmap_from_dict_of_dicts_15\u001b[39m\u001b[34m(d, create_using, multigraph_input, backend, **backend_kwargs)\u001b[39m\n\u001b[32m      1\u001b[39m \u001b[38;5;28;01mimport\u001b[39;00m\u001b[38;5;250m \u001b[39m\u001b[34;01mbz2\u001b[39;00m\n\u001b[32m      2\u001b[39m \u001b[38;5;28;01mimport\u001b[39;00m\u001b[38;5;250m \u001b[39m\u001b[34;01mcollections\u001b[39;00m\n\u001b[32m----> \u001b[39m\u001b[32m3\u001b[39m \u001b[38;5;28;01mimport\u001b[39;00m\u001b[38;5;250m \u001b[39m\u001b[34;01mgzip\u001b[39;00m\n\u001b[32m      4\u001b[39m \u001b[38;5;28;01mimport\u001b[39;00m\u001b[38;5;250m \u001b[39m\u001b[34;01minspect\u001b[39;00m\n\u001b[32m      5\u001b[39m \u001b[38;5;28;01mimport\u001b[39;00m\u001b[38;5;250m \u001b[39m\u001b[34;01mitertools\u001b[39;00m\n",
      "\u001b[36mFile \u001b[39m\u001b[32m~\\AppData\\Local\\Packages\\PythonSoftwareFoundation.Python.3.11_qbz5n2kfra8p0\\LocalCache\\local-packages\\Python311\\site-packages\\networkx\\utils\\backends.py:535\u001b[39m, in \u001b[36m_dispatchable._call_if_no_backends_installed\u001b[39m\u001b[34m(self, backend, *args, **kwargs)\u001b[39m\n\u001b[32m    529\u001b[39m \u001b[38;5;28;01mif\u001b[39;00m \u001b[33m\"\u001b[39m\u001b[33mnetworkx\u001b[39m\u001b[33m\"\u001b[39m \u001b[38;5;129;01mnot\u001b[39;00m \u001b[38;5;129;01min\u001b[39;00m \u001b[38;5;28mself\u001b[39m.backends:\n\u001b[32m    530\u001b[39m     \u001b[38;5;28;01mraise\u001b[39;00m \u001b[38;5;167;01mNotImplementedError\u001b[39;00m(\n\u001b[32m    531\u001b[39m         \u001b[33mf\u001b[39m\u001b[33m\"\u001b[39m\u001b[33m'\u001b[39m\u001b[38;5;132;01m{\u001b[39;00m\u001b[38;5;28mself\u001b[39m.name\u001b[38;5;132;01m}\u001b[39;00m\u001b[33m'\u001b[39m\u001b[33m is not implemented by \u001b[39m\u001b[33m'\u001b[39m\u001b[33mnetworkx\u001b[39m\u001b[33m'\u001b[39m\u001b[33m backend. \u001b[39m\u001b[33m\"\u001b[39m\n\u001b[32m    532\u001b[39m         \u001b[33m\"\u001b[39m\u001b[33mThis function is included in NetworkX as an API to dispatch to \u001b[39m\u001b[33m\"\u001b[39m\n\u001b[32m    533\u001b[39m         \u001b[33m\"\u001b[39m\u001b[33mother backends.\u001b[39m\u001b[33m\"\u001b[39m\n\u001b[32m    534\u001b[39m     )\n\u001b[32m--> \u001b[39m\u001b[32m535\u001b[39m \u001b[38;5;28;01mreturn\u001b[39;00m \u001b[38;5;28;43mself\u001b[39;49m\u001b[43m.\u001b[49m\u001b[43morig_func\u001b[49m\u001b[43m(\u001b[49m\u001b[43m*\u001b[49m\u001b[43margs\u001b[49m\u001b[43m,\u001b[49m\u001b[43m \u001b[49m\u001b[43m*\u001b[49m\u001b[43m*\u001b[49m\u001b[43mkwargs\u001b[49m\u001b[43m)\u001b[49m\n",
      "\u001b[36mFile \u001b[39m\u001b[32m~\\AppData\\Local\\Packages\\PythonSoftwareFoundation.Python.3.11_qbz5n2kfra8p0\\LocalCache\\local-packages\\Python311\\site-packages\\networkx\\convert.py:408\u001b[39m, in \u001b[36mfrom_dict_of_dicts\u001b[39m\u001b[34m(d, create_using, multigraph_input)\u001b[39m\n\u001b[32m    406\u001b[39m \u001b[38;5;28;01mif\u001b[39;00m G.is_directed():\n\u001b[32m    407\u001b[39m     \u001b[38;5;28;01mif\u001b[39;00m G.is_multigraph():\n\u001b[32m--> \u001b[39m\u001b[32m408\u001b[39m         \u001b[43mG\u001b[49m\u001b[43m.\u001b[49m\u001b[43madd_edges_from\u001b[49m\u001b[43m(\u001b[49m\n\u001b[32m    409\u001b[39m \u001b[43m            \u001b[49m\u001b[43m(\u001b[49m\u001b[43mu\u001b[49m\u001b[43m,\u001b[49m\u001b[43m \u001b[49m\u001b[43mv\u001b[49m\u001b[43m,\u001b[49m\u001b[43m \u001b[49m\u001b[43mkey\u001b[49m\u001b[43m,\u001b[49m\u001b[43m \u001b[49m\u001b[43mdata\u001b[49m\u001b[43m)\u001b[49m\n\u001b[32m    410\u001b[39m \u001b[43m            \u001b[49m\u001b[38;5;28;43;01mfor\u001b[39;49;00m\u001b[43m \u001b[49m\u001b[43mu\u001b[49m\u001b[43m,\u001b[49m\u001b[43m \u001b[49m\u001b[43mnbrs\u001b[49m\u001b[43m \u001b[49m\u001b[38;5;129;43;01min\u001b[39;49;00m\u001b[43m \u001b[49m\u001b[43md\u001b[49m\u001b[43m.\u001b[49m\u001b[43mitems\u001b[49m\u001b[43m(\u001b[49m\u001b[43m)\u001b[49m\n\u001b[32m    411\u001b[39m \u001b[43m            \u001b[49m\u001b[38;5;28;43;01mfor\u001b[39;49;00m\u001b[43m \u001b[49m\u001b[43mv\u001b[49m\u001b[43m,\u001b[49m\u001b[43m \u001b[49m\u001b[43mdatadict\u001b[49m\u001b[43m \u001b[49m\u001b[38;5;129;43;01min\u001b[39;49;00m\u001b[43m \u001b[49m\u001b[43mnbrs\u001b[49m\u001b[43m.\u001b[49m\u001b[43mitems\u001b[49m\u001b[43m(\u001b[49m\u001b[43m)\u001b[49m\n\u001b[32m    412\u001b[39m \u001b[43m            \u001b[49m\u001b[38;5;28;43;01mfor\u001b[39;49;00m\u001b[43m \u001b[49m\u001b[43mkey\u001b[49m\u001b[43m,\u001b[49m\u001b[43m \u001b[49m\u001b[43mdata\u001b[49m\u001b[43m \u001b[49m\u001b[38;5;129;43;01min\u001b[39;49;00m\u001b[43m \u001b[49m\u001b[43mdatadict\u001b[49m\u001b[43m.\u001b[49m\u001b[43mitems\u001b[49m\u001b[43m(\u001b[49m\u001b[43m)\u001b[49m\n\u001b[32m    413\u001b[39m \u001b[43m        \u001b[49m\u001b[43m)\u001b[49m\n\u001b[32m    414\u001b[39m     \u001b[38;5;28;01melse\u001b[39;00m:\n\u001b[32m    415\u001b[39m         G.add_edges_from(\n\u001b[32m    416\u001b[39m             (u, v, data)\n\u001b[32m    417\u001b[39m             \u001b[38;5;28;01mfor\u001b[39;00m u, nbrs \u001b[38;5;129;01min\u001b[39;00m d.items()\n\u001b[32m    418\u001b[39m             \u001b[38;5;28;01mfor\u001b[39;00m v, datadict \u001b[38;5;129;01min\u001b[39;00m nbrs.items()\n\u001b[32m    419\u001b[39m             \u001b[38;5;28;01mfor\u001b[39;00m key, data \u001b[38;5;129;01min\u001b[39;00m datadict.items()\n\u001b[32m    420\u001b[39m         )\n",
      "\u001b[36mFile \u001b[39m\u001b[32m~\\AppData\\Local\\Packages\\PythonSoftwareFoundation.Python.3.11_qbz5n2kfra8p0\\LocalCache\\local-packages\\Python311\\site-packages\\networkx\\classes\\multigraph.py:596\u001b[39m, in \u001b[36mMultiGraph.add_edges_from\u001b[39m\u001b[34m(self, ebunch_to_add, **attr)\u001b[39m\n\u001b[32m    528\u001b[39m \u001b[38;5;250m\u001b[39m\u001b[33;03m\"\"\"Add all the edges in ebunch_to_add.\u001b[39;00m\n\u001b[32m    529\u001b[39m \n\u001b[32m    530\u001b[39m \u001b[33;03mParameters\u001b[39;00m\n\u001b[32m   (...)\u001b[39m\u001b[32m    593\u001b[39m \u001b[33;03m>>> assigned_keys = G.add_edges_from(list((5, n) for n in G.nodes))\u001b[39;00m\n\u001b[32m    594\u001b[39m \u001b[33;03m\"\"\"\u001b[39;00m\n\u001b[32m    595\u001b[39m keylist = []\n\u001b[32m--> \u001b[39m\u001b[32m596\u001b[39m \u001b[43m\u001b[49m\u001b[38;5;28;43;01mfor\u001b[39;49;00m\u001b[43m \u001b[49m\u001b[43me\u001b[49m\u001b[43m \u001b[49m\u001b[38;5;129;43;01min\u001b[39;49;00m\u001b[43m \u001b[49m\u001b[43mebunch_to_add\u001b[49m\u001b[43m:\u001b[49m\n\u001b[32m    597\u001b[39m \u001b[43m    \u001b[49m\u001b[43mne\u001b[49m\u001b[43m \u001b[49m\u001b[43m=\u001b[49m\u001b[43m \u001b[49m\u001b[38;5;28;43mlen\u001b[39;49m\u001b[43m(\u001b[49m\u001b[43me\u001b[49m\u001b[43m)\u001b[49m\n\u001b[32m    598\u001b[39m \u001b[43m    \u001b[49m\u001b[38;5;28;43;01mif\u001b[39;49;00m\u001b[43m \u001b[49m\u001b[43mne\u001b[49m\u001b[43m \u001b[49m\u001b[43m==\u001b[49m\u001b[43m \u001b[49m\u001b[32;43m4\u001b[39;49m\u001b[43m:\u001b[49m\n",
      "\u001b[36mFile \u001b[39m\u001b[32m~\\AppData\\Local\\Packages\\PythonSoftwareFoundation.Python.3.11_qbz5n2kfra8p0\\LocalCache\\local-packages\\Python311\\site-packages\\networkx\\convert.py:408\u001b[39m, in \u001b[36m<genexpr>\u001b[39m\u001b[34m(.0)\u001b[39m\n\u001b[32m    406\u001b[39m \u001b[38;5;28;01mif\u001b[39;00m G.is_directed():\n\u001b[32m    407\u001b[39m     \u001b[38;5;28;01mif\u001b[39;00m G.is_multigraph():\n\u001b[32m--> \u001b[39m\u001b[32m408\u001b[39m         G.add_edges_from\u001b[43m(\u001b[49m\n\u001b[32m    409\u001b[39m \u001b[43m            \u001b[49m\u001b[43m(\u001b[49m\u001b[43mu\u001b[49m\u001b[43m,\u001b[49m\u001b[43m \u001b[49m\u001b[43mv\u001b[49m\u001b[43m,\u001b[49m\u001b[43m \u001b[49m\u001b[43mkey\u001b[49m\u001b[43m,\u001b[49m\u001b[43m \u001b[49m\u001b[43mdata\u001b[49m\u001b[43m)\u001b[49m\n\u001b[32m    410\u001b[39m \u001b[43m            \u001b[49m\u001b[38;5;28;43;01mfor\u001b[39;49;00m\u001b[43m \u001b[49m\u001b[43mu\u001b[49m\u001b[43m,\u001b[49m\u001b[43m \u001b[49m\u001b[43mnbrs\u001b[49m\u001b[43m \u001b[49m\u001b[38;5;129;43;01min\u001b[39;49;00m\u001b[43m \u001b[49m\u001b[43md\u001b[49m\u001b[43m.\u001b[49m\u001b[43mitems\u001b[49m\u001b[43m(\u001b[49m\u001b[43m)\u001b[49m\n\u001b[32m    411\u001b[39m \u001b[43m            \u001b[49m\u001b[38;5;28;43;01mfor\u001b[39;49;00m\u001b[43m \u001b[49m\u001b[43mv\u001b[49m\u001b[43m,\u001b[49m\u001b[43m \u001b[49m\u001b[43mdatadict\u001b[49m\u001b[43m \u001b[49m\u001b[38;5;129;43;01min\u001b[39;49;00m\u001b[43m \u001b[49m\u001b[43mnbrs\u001b[49m\u001b[43m.\u001b[49m\u001b[43mitems\u001b[49m\u001b[43m(\u001b[49m\u001b[43m)\u001b[49m\n\u001b[32m    412\u001b[39m \u001b[43m            \u001b[49m\u001b[38;5;28;43;01mfor\u001b[39;49;00m\u001b[43m \u001b[49m\u001b[43mkey\u001b[49m\u001b[43m,\u001b[49m\u001b[43m \u001b[49m\u001b[43mdata\u001b[49m\u001b[43m \u001b[49m\u001b[38;5;129;43;01min\u001b[39;49;00m\u001b[43m \u001b[49m\u001b[43mdatadict\u001b[49m\u001b[43m.\u001b[49m\u001b[43mitems\u001b[49m\u001b[43m(\u001b[49m\u001b[43m)\u001b[49m\n\u001b[32m    413\u001b[39m \u001b[43m        \u001b[49m\u001b[43m)\u001b[49m\n\u001b[32m    414\u001b[39m     \u001b[38;5;28;01melse\u001b[39;00m:\n\u001b[32m    415\u001b[39m         G.add_edges_from(\n\u001b[32m    416\u001b[39m             (u, v, data)\n\u001b[32m    417\u001b[39m             \u001b[38;5;28;01mfor\u001b[39;00m u, nbrs \u001b[38;5;129;01min\u001b[39;00m d.items()\n\u001b[32m    418\u001b[39m             \u001b[38;5;28;01mfor\u001b[39;00m v, datadict \u001b[38;5;129;01min\u001b[39;00m nbrs.items()\n\u001b[32m    419\u001b[39m             \u001b[38;5;28;01mfor\u001b[39;00m key, data \u001b[38;5;129;01min\u001b[39;00m datadict.items()\n\u001b[32m    420\u001b[39m         )\n",
      "\u001b[36mFile \u001b[39m\u001b[32m<frozen _collections_abc>:860\u001b[39m, in \u001b[36m__iter__\u001b[39m\u001b[34m(self)\u001b[39m\n",
      "\u001b[36mFile \u001b[39m\u001b[32m~\\AppData\\Local\\Packages\\PythonSoftwareFoundation.Python.3.11_qbz5n2kfra8p0\\LocalCache\\local-packages\\Python311\\site-packages\\networkx\\classes\\coreviews.py:390\u001b[39m, in \u001b[36mFilterMultiInner.__iter__\u001b[39m\u001b[34m(self)\u001b[39m\n\u001b[32m    388\u001b[39m \u001b[38;5;28;01melse\u001b[39;00m:\n\u001b[32m    389\u001b[39m     my_nodes = (n \u001b[38;5;28;01mfor\u001b[39;00m n \u001b[38;5;129;01min\u001b[39;00m \u001b[38;5;28mself\u001b[39m._atlas \u001b[38;5;28;01mif\u001b[39;00m \u001b[38;5;28mself\u001b[39m.NODE_OK(n))\n\u001b[32m--> \u001b[39m\u001b[32m390\u001b[39m \u001b[43m\u001b[49m\u001b[38;5;28;43;01mfor\u001b[39;49;00m\u001b[43m \u001b[49m\u001b[43mn\u001b[49m\u001b[43m \u001b[49m\u001b[38;5;129;43;01min\u001b[39;49;00m\u001b[43m \u001b[49m\u001b[43mmy_nodes\u001b[49m\u001b[43m:\u001b[49m\n\u001b[32m    391\u001b[39m \u001b[43m    \u001b[49m\u001b[43msome_keys_ok\u001b[49m\u001b[43m \u001b[49m\u001b[43m=\u001b[49m\u001b[43m \u001b[49m\u001b[38;5;28;43;01mFalse\u001b[39;49;00m\n\u001b[32m    392\u001b[39m \u001b[43m    \u001b[49m\u001b[38;5;28;43;01mfor\u001b[39;49;00m\u001b[43m \u001b[49m\u001b[43mkey\u001b[49m\u001b[43m \u001b[49m\u001b[38;5;129;43;01min\u001b[39;49;00m\u001b[43m \u001b[49m\u001b[38;5;28;43mself\u001b[39;49m\u001b[43m.\u001b[49m\u001b[43m_atlas\u001b[49m\u001b[43m[\u001b[49m\u001b[43mn\u001b[49m\u001b[43m]\u001b[49m\u001b[43m:\u001b[49m\n",
      "\u001b[36mFile \u001b[39m\u001b[32m~\\AppData\\Local\\Packages\\PythonSoftwareFoundation.Python.3.11_qbz5n2kfra8p0\\LocalCache\\local-packages\\Python311\\site-packages\\networkx\\classes\\coreviews.py:389\u001b[39m, in \u001b[36m<genexpr>\u001b[39m\u001b[34m(.0)\u001b[39m\n\u001b[32m    387\u001b[39m     my_nodes = (n \u001b[38;5;28;01mfor\u001b[39;00m n \u001b[38;5;129;01min\u001b[39;00m \u001b[38;5;28mself\u001b[39m.NODE_OK.nodes \u001b[38;5;28;01mif\u001b[39;00m n \u001b[38;5;129;01min\u001b[39;00m \u001b[38;5;28mself\u001b[39m._atlas)\n\u001b[32m    388\u001b[39m \u001b[38;5;28;01melse\u001b[39;00m:\n\u001b[32m--> \u001b[39m\u001b[32m389\u001b[39m     my_nodes = (n \u001b[38;5;28;01mfor\u001b[39;00m n \u001b[38;5;129;01min\u001b[39;00m \u001b[38;5;28mself\u001b[39m._atlas \u001b[38;5;28;01mif\u001b[39;00m \u001b[38;5;28;43mself\u001b[39;49m\u001b[43m.\u001b[49m\u001b[43mNODE_OK\u001b[49m\u001b[43m(\u001b[49m\u001b[43mn\u001b[49m\u001b[43m)\u001b[49m)\n\u001b[32m    390\u001b[39m \u001b[38;5;28;01mfor\u001b[39;00m n \u001b[38;5;129;01min\u001b[39;00m my_nodes:\n\u001b[32m    391\u001b[39m     some_keys_ok = \u001b[38;5;28;01mFalse\u001b[39;00m\n",
      "\u001b[31mKeyboardInterrupt\u001b[39m: "
     ]
    }
   ],
   "source": [
    "from tqdm import tqdm\n",
    "import osmnx as ox\n",
    "import geopandas as gpd\n",
    "\n",
    "# Load your GeoJSON districts\n",
    "gdf = gpd.read_file(\"../Districts_Pakistan.geojson\")\n",
    "\n",
    "# Store result\n",
    "all_graphs = {}\n",
    "\n",
    "for i, row in tqdm(gdf.iterrows(), total=len(gdf)):\n",
    "    district_name = row[\"DistrictCo\"]\n",
    "    geom = row[\"geometry\"]\n",
    "\n",
    "    try:\n",
    "        G = ox.graph_from_polygon(geom, network_type=\"drive\")\n",
    "        all_graphs[district_name] = G\n",
    "    except Exception as e:\n",
    "        print(f\"Failed for {district_name}: {e}\")\n",
    "\n",
    "\n"
   ]
  },
  {
   "cell_type": "code",
   "execution_count": 7,
   "id": "52151d90",
   "metadata": {},
   "outputs": [
    {
     "ename": "NameError",
     "evalue": "name 'tqdm' is not defined",
     "output_type": "error",
     "traceback": [
      "\u001b[31m---------------------------------------------------------------------------\u001b[39m",
      "\u001b[31mNameError\u001b[39m                                 Traceback (most recent call last)",
      "\u001b[36mCell\u001b[39m\u001b[36m \u001b[39m\u001b[32mIn[7]\u001b[39m\u001b[32m, line 12\u001b[39m\n\u001b[32m      9\u001b[39m \u001b[38;5;66;03m# Export all graphs and create shapefiles with stats\u001b[39;00m\n\u001b[32m     10\u001b[39m district_stats = []\n\u001b[32m---> \u001b[39m\u001b[32m12\u001b[39m \u001b[38;5;28;01mfor\u001b[39;00m district_name, G \u001b[38;5;129;01min\u001b[39;00m \u001b[43mtqdm\u001b[49m(all_graphs.items(), desc=\u001b[33m\"\u001b[39m\u001b[33mExporting graphs and shapefiles\u001b[39m\u001b[33m\"\u001b[39m):\n\u001b[32m     13\u001b[39m     \u001b[38;5;28;01mtry\u001b[39;00m:\n\u001b[32m     14\u001b[39m         \u001b[38;5;66;03m# 1. Save GraphML file\u001b[39;00m\n\u001b[32m     15\u001b[39m         ox.save_graphml(G, filepath=\u001b[33mf\u001b[39m\u001b[33m\"\u001b[39m\u001b[33mgraphs/\u001b[39m\u001b[38;5;132;01m{\u001b[39;00mdistrict_name\u001b[38;5;132;01m}\u001b[39;00m\u001b[33m.graphml\u001b[39m\u001b[33m\"\u001b[39m)\n",
      "\u001b[31mNameError\u001b[39m: name 'tqdm' is not defined"
     ]
    }
   ],
   "source": [
    "import os\n",
    "import pandas as pd\n",
    "\n",
    "# Create directories for exports\n",
    "os.makedirs(\"graphs\", exist_ok=True)\n",
    "os.makedirs(\"shapefiles\", exist_ok=True)\n",
    "os.makedirs(\"stats\", exist_ok=True)\n",
    "\n",
    "# Export all graphs and create shapefiles with stats\n",
    "district_stats = []\n",
    "\n",
    "for district_name, G in tqdm(all_graphs.items(), desc=\"Exporting graphs and shapefiles\"):\n",
    "    try:\n",
    "        # 1. Save GraphML file\n",
    "        ox.save_graphml(G, filepath=f\"graphs/{district_name}.graphml\")\n",
    "        \n",
    "        # 2. Convert to GeoDataFrames and save as shapefiles\n",
    "        # Nodes (intersections)\n",
    "        nodes_gdf = ox.graph_to_gdfs(G, edges=False)\n",
    "        nodes_gdf.to_file(f\"shapefiles/{district_name}_nodes.shp\")\n",
    "        \n",
    "        # Edges (roads)\n",
    "        edges_gdf = ox.graph_to_gdfs(G, nodes=False)\n",
    "        edges_gdf.to_file(f\"shapefiles/{district_name}_edges.shp\")\n",
    "        \n",
    "        # 3. Calculate network statistics\n",
    "        stats = {\n",
    "            'district': district_name,\n",
    "            'num_nodes': len(G.nodes),\n",
    "            'num_edges': len(G.edges),\n",
    "            'total_length_km': edges_gdf['length'].sum() / 1000,\n",
    "            'avg_edge_length_m': edges_gdf['length'].mean(),\n",
    "            'max_edge_length_m': edges_gdf['length'].max(),\n",
    "            'min_edge_length_m': edges_gdf['length'].min(),\n",
    "            'network_density': len(G.edges) / len(G.nodes) if len(G.nodes) > 0 else 0\n",
    "        }\n",
    "        \n",
    "        # Add connectivity metrics if graph has edges\n",
    "        if len(G.edges) > 0:\n",
    "            stats['avg_degree'] = sum(dict(G.degree()).values()) / len(G.nodes)\n",
    "            stats['is_connected'] = ox.is_strongly_connected(G)\n",
    "        else:\n",
    "            stats['avg_degree'] = 0\n",
    "            stats['is_connected'] = False\n",
    "            \n",
    "        district_stats.append(stats)\n",
    "        \n",
    "        print(f\"✓ Exported {district_name}: {stats['num_nodes']} nodes, {stats['num_edges']} edges\")\n",
    "        \n",
    "    except Exception as e:\n",
    "        print(f\"✗ Failed to export {district_name}: {e}\")\n",
    "        # Add error entry to stats\n",
    "        district_stats.append({\n",
    "            'district': district_name,\n",
    "            'num_nodes': 0,\n",
    "            'num_edges': 0,\n",
    "            'total_length_km': 0,\n",
    "            'avg_edge_length_m': 0,\n",
    "            'max_edge_length_m': 0,\n",
    "            'min_edge_length_m': 0,\n",
    "            'network_density': 0,\n",
    "            'avg_degree': 0,\n",
    "            'is_connected': False,\n",
    "            'error': str(e)\n",
    "        })"
   ]
  },
  {
   "cell_type": "code",
   "execution_count": 5,
   "id": "8ad69f11",
   "metadata": {},
   "outputs": [
    {
     "ename": "NameError",
     "evalue": "name 'district_stats' is not defined",
     "output_type": "error",
     "traceback": [
      "\u001b[31m---------------------------------------------------------------------------\u001b[39m",
      "\u001b[31mNameError\u001b[39m                                 Traceback (most recent call last)",
      "\u001b[36mCell\u001b[39m\u001b[36m \u001b[39m\u001b[32mIn[5]\u001b[39m\u001b[32m, line 2\u001b[39m\n\u001b[32m      1\u001b[39m \u001b[38;5;66;03m# Save comprehensive statistics\u001b[39;00m\n\u001b[32m----> \u001b[39m\u001b[32m2\u001b[39m stats_df = pd.DataFrame(\u001b[43mdistrict_stats\u001b[49m)\n\u001b[32m      3\u001b[39m stats_df.to_csv(\u001b[33m\"\u001b[39m\u001b[33mstats/district_road_network_stats.csv\u001b[39m\u001b[33m\"\u001b[39m, index=\u001b[38;5;28;01mFalse\u001b[39;00m)\n\u001b[32m      5\u001b[39m \u001b[38;5;66;03m# Create summary report\u001b[39;00m\n",
      "\u001b[31mNameError\u001b[39m: name 'district_stats' is not defined"
     ]
    }
   ],
   "source": [
    "# Save comprehensive statistics\n",
    "stats_df = pd.DataFrame(district_stats)\n",
    "stats_df.to_csv(\"stats/district_road_network_stats.csv\", index=False)\n",
    "\n",
    "# Create summary report\n",
    "print(\"\\n\" + \"=\"*60)\n",
    "print(\"EXPORT SUMMARY\")\n",
    "print(\"=\"*60)\n",
    "print(f\"Total districts processed: {len(all_graphs)}\")\n",
    "print(f\"Successfully exported: {len([s for s in district_stats if s.get('num_edges', 0) > 0])}\")\n",
    "print(f\"Failed exports: {len([s for s in district_stats if 'error' in s])}\")\n",
    "\n",
    "print(f\"\\nFiles created:\")\n",
    "print(f\"- GraphML files: graphs/\")\n",
    "print(f\"- Node shapefiles: shapefiles/*_nodes.shp\")\n",
    "print(f\"- Edge shapefiles: shapefiles/*_edges.shp\") \n",
    "print(f\"- Statistics CSV: stats/district_road_network_stats.csv\")\n",
    "\n",
    "# Display top 10 districts by road network size\n",
    "top_districts = stats_df.nlargest(10, 'total_length_km')[['district', 'total_length_km', 'num_nodes', 'num_edges']]\n",
    "print(f\"\\nTop 10 districts by total road length:\")\n",
    "print(top_districts.to_string(index=False))\n",
    "\n",
    "# Show basic statistics\n",
    "print(f\"\\nNetwork Statistics Summary:\")\n",
    "print(f\"Total road length across all districts: {stats_df['total_length_km'].sum():.2f} km\")\n",
    "print(f\"Average road length per district: {stats_df['total_length_km'].mean():.2f} km\")\n",
    "print(f\"Total road intersections: {stats_df['num_nodes'].sum():,}\")\n",
    "print(f\"Total road segments: {stats_df['num_edges'].sum():,}\")\n",
    "\n",
    "print(\"\\n\" + \"=\"*60)"
   ]
  },
  {
   "cell_type": "code",
   "execution_count": null,
   "id": "aa853fe4",
   "metadata": {},
   "outputs": [],
   "source": [
    "import os\n",
    "import osmnx as ox\n",
    "import pandas as pd\n",
    "\n",
    "# Folder where graphs are saved\n",
    "graph_folder = \"./graphs\"\n",
    "\n",
    "# List to store stats\n",
    "stats_list = []\n",
    "\n",
    "for fname in os.listdir(graph_folder):\n",
    "    if fname.endswith(\".graphml\"):\n",
    "        district = fname.replace(\".graphml\", \"\")\n",
    "        try:\n",
    "            G = ox.load_graphml(os.path.join(graph_folder, fname))\n",
    "            stats = ox.basic_stats(G)\n",
    "            stats[\"district\"] = district\n",
    "            stats_list.append(stats)\n",
    "        except Exception as e:\n",
    "            print(f\"Error loading {district}: {e}\")\n",
    "\n",
    "df_stats = pd.DataFrame(stats_list)\n",
    "df_stats.to_csv(\"district_road_network_stats.csv\", index=False)\n"
   ]
  },
  {
   "cell_type": "code",
   "execution_count": null,
   "id": "79b9ca3f",
   "metadata": {},
   "outputs": [],
   "source": []
  }
 ],
 "metadata": {
  "kernelspec": {
   "display_name": "Python 3",
   "language": "python",
   "name": "python3"
  },
  "language_info": {
   "codemirror_mode": {
    "name": "ipython",
    "version": 3
   },
   "file_extension": ".py",
   "mimetype": "text/x-python",
   "name": "python",
   "nbconvert_exporter": "python",
   "pygments_lexer": "ipython3",
   "version": "3.11.9"
  }
 },
 "nbformat": 4,
 "nbformat_minor": 5
}
