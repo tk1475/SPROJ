{
 "cells": [
  {
   "cell_type": "code",
   "execution_count": 20,
   "id": "7be8dd9a",
   "metadata": {},
   "outputs": [],
   "source": [
    "import pandas as pd\n",
    "import geopandas as gpd\n",
    "from pathlib import Path\n",
    "from dbfread import DBF\n",
    "import folium\n"
   ]
  },
  {
   "cell_type": "code",
   "execution_count": 13,
   "id": "f822bd34",
   "metadata": {},
   "outputs": [
    {
     "name": "stdout",
     "output_type": "stream",
     "text": [
      "Loaded DBF attributes only (no geometry): Merged_PCT_Vectorized.dbf\n",
      "(1809807, 2)\n"
     ]
    },
    {
     "data": {
      "text/html": [
       "<div>\n",
       "<style scoped>\n",
       "    .dataframe tbody tr th:only-of-type {\n",
       "        vertical-align: middle;\n",
       "    }\n",
       "\n",
       "    .dataframe tbody tr th {\n",
       "        vertical-align: top;\n",
       "    }\n",
       "\n",
       "    .dataframe thead th {\n",
       "        text-align: right;\n",
       "    }\n",
       "</style>\n",
       "<table border=\"1\" class=\"dataframe\">\n",
       "  <thead>\n",
       "    <tr style=\"text-align: right;\">\n",
       "      <th></th>\n",
       "      <th>DN</th>\n",
       "      <th>Area</th>\n",
       "    </tr>\n",
       "  </thead>\n",
       "  <tbody>\n",
       "    <tr>\n",
       "      <th>0</th>\n",
       "      <td>8</td>\n",
       "      <td>57.853</td>\n",
       "    </tr>\n",
       "    <tr>\n",
       "      <th>1</th>\n",
       "      <td>3</td>\n",
       "      <td>4.132</td>\n",
       "    </tr>\n",
       "    <tr>\n",
       "      <th>2</th>\n",
       "      <td>3</td>\n",
       "      <td>8.265</td>\n",
       "    </tr>\n",
       "  </tbody>\n",
       "</table>\n",
       "</div>"
      ],
      "text/plain": [
       "   DN    Area\n",
       "0   8  57.853\n",
       "1   3   4.132\n",
       "2   3   8.265"
      ]
     },
     "execution_count": 13,
     "metadata": {},
     "output_type": "execute_result"
    }
   ],
   "source": [
    "\n",
    "base = Path('society-maps/DHA')\n",
    "dbf_path = base / 'Merged_PCT_Vectorized.dbf'\n",
    "if not dbf_path.exists():\n",
    "    raise FileNotFoundError(f\"DBF not found: {dbf_path}\")\n",
    "\n",
    "# Load DBF attributes (no geometry)\n",
    "records = list(DBF(str(dbf_path), load=True))\n",
    "dha = pd.DataFrame(records)\n",
    "print(f'Loaded DBF attributes only (no geometry): {dbf_path.name}')\n",
    "\n",
    "# Quick preview\n",
    "print(dha.shape)\n",
    "dha.head(3)"
   ]
  },
  {
   "cell_type": "code",
   "execution_count": 51,
   "id": "9be93663",
   "metadata": {},
   "outputs": [],
   "source": [
    "id_mappings = { \n",
    "    \"1\": \"DHA Phase 3\",\n",
    "    \"2\": \"DHA Phase 1,2\",\n",
    "    \"3\": \"DHA Phase 4\",\n",
    "    \"4\": \"DHA Phase 5\",\n",
    "    \"5\": \"DHA Phase 9 Town\",\n",
    "    \"6\": \"Askari 11\",\n",
    "    \"7\": \"DHA Phase 8 - Ex Park View\",\n",
    "    \"8\": \"DHA Phase 8 - Ex Air Avenue\",\n",
    "    \"9\": \"DHA Phase 8\",\n",
    "    \"10\": \"DHA Phase 8\",\n",
    "    \"11\": \"DHA Phase 6\",\n",
    "    \"12\": \"DHA Phase 7\",\n",
    "    \"13\": \"DHA Phase 7\",\n",
    "    \"14\": \"DHA Phase 7\"\n",
    "}"
   ]
  },
  {
   "cell_type": "code",
   "execution_count": 52,
   "id": "a1ad109d",
   "metadata": {},
   "outputs": [
    {
     "name": "stdout",
     "output_type": "stream",
     "text": [
      "   id                                           geometry\n",
      "0   1  POLYGON ((74.35763 31.4775, 74.38137 31.48744,...\n",
      "1   2  POLYGON ((74.38145 31.48739, 74.38211 31.48971...\n",
      "2   3  POLYGON ((74.36678 31.46315, 74.38894 31.4703,...\n",
      "3   4  POLYGON ((74.39345 31.4538, 74.39259 31.46683,...\n",
      "4   5  POLYGON ((74.44678 31.45479, 74.45226 31.45042...\n",
      "EPSG:4326\n",
      "GeoJSON saved to: society-maps\\DHA\\Split_Areas\\DHA_AREA_split.geojson\n",
      "Map saved to: society-maps\\DHA\\Split_Areas\\dha_map.html\n"
     ]
    },
    {
     "name": "stderr",
     "output_type": "stream",
     "text": [
      "C:\\Users\\Ahmad Hassan\\AppData\\Local\\Temp\\ipykernel_45556\\3826196193.py:21: UserWarning: Geometry is in a geographic CRS. Results from 'centroid' are likely incorrect. Use 'GeoSeries.to_crs()' to re-project geometries to a projected CRS before this operation.\n",
      "\n",
      "  m = folium.Map(location=[gdf.geometry.centroid.y.mean(),\n",
      "C:\\Users\\Ahmad Hassan\\AppData\\Local\\Temp\\ipykernel_45556\\3826196193.py:22: UserWarning: Geometry is in a geographic CRS. Results from 'centroid' are likely incorrect. Use 'GeoSeries.to_crs()' to re-project geometries to a projected CRS before this operation.\n",
      "\n",
      "  gdf.geometry.centroid.x.mean()],\n"
     ]
    }
   ],
   "source": [
    "\n",
    "\n",
    "split_base = Path(\"society-maps/DHA/Split_Areas\")\n",
    "shp_path = split_base / \"DHA_AREA_split.shp\"\n",
    "\n",
    "# Read shapefile\n",
    "gdf = gpd.read_file(shp_path)\n",
    "\n",
    "# Optional: inspect the data\n",
    "print(gdf.head())\n",
    "print(gdf.crs)  # Check projection\n",
    "\n",
    "# If CRS is not WGS84, convert so folium works properly\n",
    "if gdf.crs and gdf.crs.to_string() != \"EPSG:4326\":\n",
    "    gdf = gdf.to_crs(epsg=4326)\n",
    "\n",
    "# Save to GeoJSON\n",
    "geojson_path = split_base / \"DHA_AREA_split.geojson\"\n",
    "gdf.to_file(geojson_path, driver=\"GeoJSON\")\n",
    "print(f\"GeoJSON saved to: {geojson_path}\")\n",
    "\n",
    "# Create folium map centered on the data\n",
    "m = folium.Map(location=[gdf.geometry.centroid.y.mean(),\n",
    "                         gdf.geometry.centroid.x.mean()],\n",
    "               zoom_start=14)\n",
    "\n",
    "gdf[\"Name\"] = gdf[\"id\"].astype(str).map(id_mappings) if gdf[\"id\"].astype(str).map(id_mappings).notna().any() else gdf[\"id\"].astype(str)\n",
    "\n",
    "# Add the GeoJSON layer\n",
    "folium.GeoJson(\n",
    "    gdf,\n",
    "    name=\"DHA Areas\",\n",
    "    popup=folium.GeoJsonPopup(fields=[\"Name\"], aliases=[\"Area ID:\"])\n",
    ").add_to(m)\n",
    "\n",
    "# Add layer control\n",
    "folium.LayerControl().add_to(m)\n",
    "\n",
    "# Save map to HTML\n",
    "map_path = split_base / \"dha_map.html\"\n",
    "m.save(map_path)\n",
    "print(f\"Map saved to: {map_path}\")\n"
   ]
  },
  {
   "cell_type": "code",
   "execution_count": null,
   "id": "1069d20e",
   "metadata": {},
   "outputs": [
    {
     "name": "stdout",
     "output_type": "stream",
     "text": [
      "   id                                           geometry\n",
      "0   1  POLYGON ((74.35763 31.4775, 74.38137 31.48744,...\n",
      "1   2  POLYGON ((74.38145 31.48739, 74.38211 31.48971...\n",
      "2   3  POLYGON ((74.36678 31.46315, 74.38894 31.4703,...\n",
      "3   4  POLYGON ((74.39345 31.4538, 74.39259 31.46683,...\n",
      "4   5  POLYGON ((74.44678 31.45479, 74.45226 31.45042...\n",
      "EPSG:4326\n",
      "GeoJSON saved to: society-maps\\DHA\\Split_Areas\\DHA_AREA_split.geojson\n",
      "Map saved to: society-maps\\DHA\\Split_Areas\\dha_map.html\n"
     ]
    },
    {
     "name": "stderr",
     "output_type": "stream",
     "text": [
      "C:\\Users\\Ahmad Hassan\\AppData\\Local\\Temp\\ipykernel_45556\\3694315906.py:23: UserWarning: Geometry is in a geographic CRS. Results from 'centroid' are likely incorrect. Use 'GeoSeries.to_crs()' to re-project geometries to a projected CRS before this operation.\n",
      "\n",
      "  m = folium.Map(location=[gdf.geometry.centroid.y.mean(),\n",
      "C:\\Users\\Ahmad Hassan\\AppData\\Local\\Temp\\ipykernel_45556\\3694315906.py:24: UserWarning: Geometry is in a geographic CRS. Results from 'centroid' are likely incorrect. Use 'GeoSeries.to_crs()' to re-project geometries to a projected CRS before this operation.\n",
      "\n",
      "  gdf.geometry.centroid.x.mean()],\n"
     ]
    }
   ],
   "source": [
    "\n",
    "df = pd.read_csv('./data/zameen_lahore_data.csv')5\n",
    "\n",
    "split_base = Path(\"society-maps/DHA/Split_Areas\")\n",
    "shp_path = split_base / \"DHA_AREA_split.shp\"\n",
    "\n",
    "# Read shapefile\n",
    "gdf = gpd.read_file(shp_path)\n",
    "\n",
    "# Optional: inspect the data\n",
    "print(gdf.head())\n",
    "print(gdf.crs)  # Check projection\n",
    "\n",
    "# If CRS is not WGS84, convert so folium works properly\n",
    "if gdf.crs and gdf.crs.to_string() != \"EPSG:4326\":\n",
    "    gdf = gdf.to_crs(epsg=4326)\n",
    "\n",
    "# Save to GeoJSON\n",
    "geojson_path = split_base / \"DHA_AREA_split.geojson\"\n",
    "gdf.to_file(geojson_path, driver=\"GeoJSON\")\n",
    "print(f\"GeoJSON saved to: {geojson_path}\")\n",
    "\n",
    "# Create folium map centered on the data\n",
    "m = folium.Map(location=[gdf.geometry.centroid.y.mean(),\n",
    "                         gdf.geometry.centroid.x.mean()],\n",
    "               zoom_start=14)\n",
    "\n",
    "gdf[\"Name\"] = gdf[\"id\"].astype(str).map(id_mappings) if gdf[\"id\"].astype(str).map(id_mappings).notna().any() else gdf[\"id\"].astype(str)\n",
    "\n",
    "# Add the GeoJSON layer\n",
    "folium.GeoJson(\n",
    "    gdf,\n",
    "    name=\"DHA Areas\",\n",
    "    popup=folium.GeoJsonPopup(fields=[\"Name\"], aliases=[\"Area ID:\"])\n",
    ").add_to(m)\n",
    "\n",
    "# Add layer control\n",
    "folium.LayerControl().add_to(m)\n",
    "\n",
    "# Save map to HTML\n",
    "map_path = split_base / \"dha_map.html\"\n",
    "m.save(map_path)\n",
    "print(f\"Map saved to: {map_path}\")\n"
   ]
  }
 ],
 "metadata": {
  "kernelspec": {
   "display_name": "Python 3",
   "language": "python",
   "name": "python3"
  },
  "language_info": {
   "codemirror_mode": {
    "name": "ipython",
    "version": 3
   },
   "file_extension": ".py",
   "mimetype": "text/x-python",
   "name": "python",
   "nbconvert_exporter": "python",
   "pygments_lexer": "ipython3",
   "version": "3.11.9"
  }
 },
 "nbformat": 4,
 "nbformat_minor": 5
}
