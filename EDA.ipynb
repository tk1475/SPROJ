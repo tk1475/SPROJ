{
 "cells": [
  {
   "cell_type": "markdown",
   "id": "8ba58977",
   "metadata": {},
   "source": [
    "# 🏠 Lahore Real Estate Market Analysis\n",
    "## Exploratory Data Analysis (EDA)\n",
    "\n",
    "This notebook combines data from two major Pakistani property portals:\n",
    "- **Zameen.com** - Pakistan's leading property portal\n",
    "- **Graana.com** - Growing property marketplace\n",
    "\n",
    "### 📊 Analysis Objectives:\n",
    "1. **Data Integration** - Combine datasets from both sources\n",
    "2. **Market Overview** - Price distributions and property types\n",
    "3. **Location Analysis** - Average pricing by area/location\n",
    "4. **Comparative Analysis** - Price differences between portals\n",
    "5. **Market Insights** - Trends and patterns in Lahore real estate\n",
    "\n",
    "### 🎯 Key Questions:\n",
    "- Which areas have the highest property prices?\n",
    "- How do prices compare between Zameen and Graana?\n",
    "- What's the distribution of property types and sizes?\n",
    "- Are there pricing patterns by location and property features?"
   ]
  },
  {
   "cell_type": "code",
   "execution_count": 50,
   "id": "0326e1cb",
   "metadata": {},
   "outputs": [],
   "source": [
    "import pandas as pd\n",
    "import numpy as np\n",
    "import matplotlib.pyplot as plt\n",
    "import seaborn as sns\n",
    "import plotly.express as px\n",
    "import plotly.graph_objects as go\n",
    "from plotly.subplots import make_subplots\n",
    "import warnings\n",
    "import re \n",
    "warnings.filterwarnings('ignore')\n",
    "\n",
    "# Configure display options\n",
    "pd.set_option('display.max_columns', None)\n",
    "pd.set_option('display.max_rows', 100)\n",
    "plt.style.use('seaborn-v0_8')\n",
    "sns.set_palette(\"husl\")\n"
   ]
  },
  {
   "cell_type": "code",
   "execution_count": 51,
   "id": "383049aa",
   "metadata": {},
   "outputs": [
    {
     "name": "stdout",
     "output_type": "stream",
     "text": [
      "✅ Zameen.com data loaded: 3061 records\n",
      "✅ Graana.com data loaded: 1514 records\n",
      "\n",
      "🔍 ZAMEEN.COM DATASET OVERVIEW:\n",
      "==================================================\n",
      "Shape: (3061, 7)\n",
      "Columns: ['Category', 'Title', 'Price', 'Location', 'Area', 'URL', 'source']\n",
      "\n",
      "First few rows:\n",
      "  Category                                              Title       Price  \\\n",
      "0    Homes  3 Years Installment Plan Luxury Brand New Hous...  1.15 Crore   \n",
      "1    Homes  2 KANAL FURNISHED BUNGALOW WITHOUT COMMISSION ...    59 Crore   \n",
      "2    Homes  Original Pictures Semi Furnished Full Basement...    13 Crore   \n",
      "3    Homes  KANAL BUNGALOW WITHOUT COMMISSION WITH AFTER S...  9.95 Crore   \n",
      "4    Homes  Fully Furnished 1 Kanal Elegant And Prime Loca...  9.75 Crore   \n",
      "\n",
      "                             Location       Area  \\\n",
      "0              Park View City, Lahore  3.5 Marla   \n",
      "1            DHA Phase 6, DHA Defence    2 Kanal   \n",
      "2            DHA Phase 5, DHA Defence    1 Kanal   \n",
      "3  DHA Phase 7 - Block Y, DHA Phase 7    1 Kanal   \n",
      "4            DHA Phase 8, DHA Defence    1 Kanal   \n",
      "\n",
      "                                                 URL      source  \n",
      "0  https://www.zameen.com/Property/lahore_park_vi...  Zameen.com  \n",
      "1  https://www.zameen.com/Property/dha_defence_dh...  Zameen.com  \n",
      "2  https://www.zameen.com/Property/dha_defence_dh...  Zameen.com  \n",
      "3  https://www.zameen.com/Property/dha_phase_7_dh...  Zameen.com  \n",
      "4  https://www.zameen.com/Property/dha_defence_dh...  Zameen.com  \n",
      "\n",
      "🔍 GRAANA.COM DATASET OVERVIEW:\n",
      "==================================================\n",
      "Shape: (1514, 7)\n",
      "Columns: ['Category', 'Title', 'Price', 'Location', 'Area', 'URL', 'source']\n",
      "\n",
      "First few rows:\n",
      "         Category                                              Title  \\\n",
      "0  Homes for Sale  10 Marla House for sale in DHA Phase 3, Lahore...   \n",
      "1  Homes for Sale  1 Kanal House for sale in DHA Phase 6, Lahore ...   \n",
      "2  Plots for Sale  10 Marla Residential Plot for sale in Al Jalil...   \n",
      "3  Plots for Sale  10 Marla Residential Plot for sale in Bahria T...   \n",
      "4         Rentals  5 Marla House for rent in Gulberg 3, Lahore | ...   \n",
      "\n",
      "        Price                        Location      Area  \\\n",
      "0  5.35 Crore             DHA Phase 3, Lahore         4   \n",
      "1  12.5 Crore             DHA Phase 6, Lahore         5   \n",
      "2  1.05 Crore         Al Jalil Garden, Lahore  10 marla   \n",
      "3   1.9 Crore  Bahria Town - Sector F, Lahore  10 marla   \n",
      "4    1.75 Lac               Gulberg 3, Lahore         3   \n",
      "\n",
      "                                                 URL      source  \n",
      "0  https://www.graana.com/property/10-marla-house...  Graana.com  \n",
      "1  https://www.graana.com/property/1-kanal-house-...  Graana.com  \n",
      "2  https://www.graana.com/property/10-marla-resid...  Graana.com  \n",
      "3  https://www.graana.com/property/10-marla-resid...  Graana.com  \n",
      "4  https://www.graana.com/property/5-marla-house-...  Graana.com  \n"
     ]
    }
   ],
   "source": [
    "\n",
    "\n",
    "zameen_df = pd.read_csv('data/zameen_lahore_data.csv')\n",
    "zameen_df['source'] = 'Zameen.com'\n",
    "print(f\"✅ Zameen.com data loaded: {len(zameen_df)} records\")\n",
    "\n",
    "graana_df = pd.read_csv('data/graana_lahore_data.csv')\n",
    "graana_df['source'] = 'Graana.com'\n",
    "print(f\"✅ Graana.com data loaded: {len(graana_df)} records\")\n",
    "    \n",
    "\n",
    "\n",
    "# Display basic info about each dataset\n",
    "print(\"\\n🔍 ZAMEEN.COM DATASET OVERVIEW:\")\n",
    "print(\"=\"*50)\n",
    "print(f\"Shape: {zameen_df.shape}\")\n",
    "print(f\"Columns: {list(zameen_df.columns)}\")\n",
    "print(\"\\nFirst few rows:\")\n",
    "print(zameen_df.head())\n",
    "\n",
    "print(\"\\n🔍 GRAANA.COM DATASET OVERVIEW:\")\n",
    "print(\"=\"*50)\n",
    "print(f\"Shape: {graana_df.shape}\")\n",
    "print(f\"Columns: {list(graana_df.columns)}\")\n",
    "print(\"\\nFirst few rows:\")\n",
    "print(graana_df.head())"
   ]
  },
  {
   "cell_type": "code",
   "execution_count": 52,
   "id": "3ada0444",
   "metadata": {},
   "outputs": [
    {
     "name": "stdout",
     "output_type": "stream",
     "text": [
      "\n",
      "📊 DATASET SHAPES:\n",
      "Zameen Commerciak:  (529, 7)\n",
      "Graana Commercial:  (34, 7) \n",
      "\n",
      "Zameen Residential:  (860, 7)\n",
      "Graana Residential:  (450, 7) \n",
      "\n",
      "📊 COMBINED DATASET SHAPES:\n",
      "All Commercial:  (563, 7)\n",
      "All Residential:  (1310, 7) \n",
      "\n"
     ]
    }
   ],
   "source": [
    "zameen_residential = zameen_df[zameen_df['Category'] == 'Homes']\n",
    "zameen_commercial = zameen_df[zameen_df['Category'] == 'Commercial']\n",
    "\n",
    "graana_residential = graana_df[graana_df['Category'] == 'Homes for Sale']\n",
    "graana_commercial = graana_df[graana_df['Category'] == 'Commercial for Sale']\n",
    "\n",
    "print(\"\\n📊 DATASET SHAPES:\")\n",
    "print(\"Zameen Commerciak: \",zameen_commercial.shape)\n",
    "print(\"Graana Commercial: \",graana_commercial.shape, \"\\n\")\n",
    "\n",
    "print(\"Zameen Residential: \", zameen_residential.shape)\n",
    "print(\"Graana Residential: \", graana_residential.shape, \"\\n\")\n",
    "\n",
    "all_commercial = pd.concat([zameen_commercial, graana_commercial], ignore_index=True)\n",
    "all_residential = pd.concat([zameen_residential, graana_residential], ignore_index=True)\n",
    "\n",
    "print(\"📊 COMBINED DATASET SHAPES:\")\n",
    "print(\"All Commercial: \", all_commercial.shape)\n",
    "print(\"All Residential: \", all_residential.shape, \"\\n\")"
   ]
  },
  {
   "cell_type": "code",
   "execution_count": 65,
   "id": "ce2ed358",
   "metadata": {},
   "outputs": [
    {
     "name": "stdout",
     "output_type": "stream",
     "text": [
      "✅ Data cleaning functions defined!\n",
      "🧹 Ready to clean and standardize datasets\n"
     ]
    }
   ],
   "source": [
    "# Data Cleaning and Standardization Functions\n",
    "def clean_price_column(df, price_col='Price'):\n",
    " \n",
    "    df_clean = df.copy()\n",
    "    \n",
    "    df_clean['price_numeric'] = np.nan\n",
    "    df_clean['price_unit'] = 'Unknown'\n",
    "    \n",
    "    for idx, price in enumerate(df_clean[price_col]):\n",
    "        if pd.isna(price) or price == 'N/A':\n",
    "            continue\n",
    "            \n",
    "        price_str = str(price).strip()\n",
    "        \n",
    "        try:\n",
    "            # Extract numbers from price string\n",
    "            numbers = re.findall(r'[\\d,]+\\.?\\d*', price_str)\n",
    "            if numbers:\n",
    "                # Remove commas and convert to float\n",
    "                amount = float(numbers[0].replace(',', ''))\n",
    "\n",
    "                # Determine unit and convert to standard PKR\n",
    "                price_str_lower = price_str.lower()\n",
    "                if 'crore' in price_str_lower or 'cr' in price_str_lower:\n",
    "                    df_clean.loc[idx, 'price_numeric'] = amount * 10000000  # Convert Crore to PKR\n",
    "                    df_clean.loc[idx, 'price_unit'] = 'PKR'\n",
    "                elif 'lac' in price_str_lower or 'lakh' in price_str_lower:\n",
    "                    df_clean.loc[idx, 'price_numeric'] = amount * 100000  # Convert Lac to PKR\n",
    "                    df_clean.loc[idx, 'price_unit'] = 'PKR'\n",
    "                elif 'thousand' in price_str_lower or 'k' in price_str_lower:\n",
    "                    df_clean.loc[idx, 'price_numeric'] = amount * 1000  # Convert Thousand to PKR\n",
    "                    df_clean.loc[idx, 'price_unit'] = 'PKR'\n",
    "                else:\n",
    "                    df_clean.loc[idx, 'price_numeric'] = amount  # Assume already in PKR\n",
    "                    df_clean.loc[idx, 'price_unit'] = 'PKR'\n",
    "\n",
    "                # print(f\"Price {price_str} cleaned to {df_clean.loc[idx, 'price_numeric']} {df_clean.loc[idx, 'price_unit']}\")\n",
    "        except Exception as e:\n",
    "            continue\n",
    "    \n",
    "    return df_clean\n",
    "\n",
    "def standardize_location(df, location_col='Location'):\n",
    "    \"\"\"\n",
    "    Standardize location names for better grouping\n",
    "    \"\"\"\n",
    "    df_clean = df.copy()\n",
    "    df_clean['location_standardized'] = df_clean[location_col].str.strip()\n",
    "    \n",
    "    # Common location mappings for standardization\n",
    "    location_mappings = {\n",
    "        'Defence Housing Authority': 'DHA',\n",
    "        'Defence': 'DHA',\n",
    "        'DHA Phase': 'DHA',\n",
    "        'Johar Town': 'Johar Town',\n",
    "        'Model Town': 'Model Town',\n",
    "        'Gulberg': 'Gulberg',\n",
    "        'Garden Town': 'Garden Town',\n",
    "        'Cantonment': 'Cantt',\n",
    "        'Cantt': 'Cantt',\n",
    "        'Faisal Town': 'Faisal Town',\n",
    "        'Allama Iqbal Town': 'Allama Iqbal Town',\n",
    "        'Wapda Town': 'Wapda Town',\n",
    "        'Bahria Town': 'Bahria Town',\n",
    "    }\n",
    "    \n",
    "    # Apply mappings\n",
    "    for original, standardized in location_mappings.items():\n",
    "        mask = df_clean['location_standardized'].str.contains(original, case=False, na=False)\n",
    "        df_clean.loc[mask, 'location_standardized'] = standardized\n",
    "    \n",
    "\n",
    "    return df_clean\n",
    "\n",
    "\n",
    "\n",
    "print(\"✅ Data cleaning functions defined!\")\n",
    "print(\"🧹 Ready to clean and standardize datasets\")"
   ]
  },
  {
   "cell_type": "code",
   "execution_count": 67,
   "id": "22eb5fc9",
   "metadata": {},
   "outputs": [
    {
     "name": "stdout",
     "output_type": "stream",
     "text": [
      "Standardised 13 locations\n"
     ]
    }
   ],
   "source": [
    "all_commercial_cleaned = standardize_location(all_commercial)\n",
    "all_commercial_cleaned = clean_price_column(all_commercial_cleaned)\n",
    "\n",
    "# all_commercial_cleaned.to_csv('data/all_commercial_cleaned.csv', index=False)\n"
   ]
  },
  {
   "cell_type": "code",
   "execution_count": 68,
   "id": "2d3edc5d",
   "metadata": {},
   "outputs": [
    {
     "name": "stdout",
     "output_type": "stream",
     "text": [
      "Standardised 13 locations\n"
     ]
    }
   ],
   "source": [
    "all_residential_cleaned = standardize_location(all_residential)\n",
    "all_residential_cleaned = clean_price_column(all_residential_cleaned)\n"
   ]
  },
  {
   "cell_type": "code",
   "execution_count": 74,
   "id": "61f1c1b9",
   "metadata": {},
   "outputs": [
    {
     "name": "stdout",
     "output_type": "stream",
     "text": [
      "['Homes for Sale']\n",
      "Category\n",
      "Homes for Sale    1310\n",
      "Name: count, dtype: int64\n",
      "['Commercial for Sale']\n",
      "Category\n",
      "Commercial for Sale    563\n",
      "Name: count, dtype: int64\n"
     ]
    }
   ],
   "source": [
    "all_residential_cleaned['Category'] = all_residential_cleaned['Category'].replace('Homes', 'Homes for Sale')\n",
    "print(all_residential_cleaned['Category'].unique())\n",
    "print(all_residential_cleaned['Category'].value_counts())\n",
    "\n",
    "\n",
    "all_commercial_cleaned['Category'] = all_commercial_cleaned['Category'].replace('Commercial', 'Commercial for Sale')\n",
    "print(all_commercial_cleaned['Category'].unique())\n",
    "print(all_commercial_cleaned['Category'].value_counts())"
   ]
  },
  {
   "cell_type": "code",
   "execution_count": 76,
   "id": "273ef35d",
   "metadata": {},
   "outputs": [
    {
     "data": {
      "text/html": [
       "<div>\n",
       "<style scoped>\n",
       "    .dataframe tbody tr th:only-of-type {\n",
       "        vertical-align: middle;\n",
       "    }\n",
       "\n",
       "    .dataframe tbody tr th {\n",
       "        vertical-align: top;\n",
       "    }\n",
       "\n",
       "    .dataframe thead th {\n",
       "        text-align: right;\n",
       "    }\n",
       "</style>\n",
       "<table border=\"1\" class=\"dataframe\">\n",
       "  <thead>\n",
       "    <tr style=\"text-align: right;\">\n",
       "      <th></th>\n",
       "      <th>Category</th>\n",
       "      <th>Title</th>\n",
       "      <th>Price</th>\n",
       "      <th>Location</th>\n",
       "      <th>Area</th>\n",
       "      <th>URL</th>\n",
       "      <th>source</th>\n",
       "      <th>location_standardized</th>\n",
       "      <th>price_numeric</th>\n",
       "      <th>price_unit</th>\n",
       "    </tr>\n",
       "  </thead>\n",
       "  <tbody>\n",
       "    <tr>\n",
       "      <th>0</th>\n",
       "      <td>Homes for Sale</td>\n",
       "      <td>3 Years Installment Plan Luxury Brand New Hous...</td>\n",
       "      <td>1.15 Crore</td>\n",
       "      <td>Park View City, Lahore</td>\n",
       "      <td>3.5 Marla</td>\n",
       "      <td>https://www.zameen.com/Property/lahore_park_vi...</td>\n",
       "      <td>Zameen.com</td>\n",
       "      <td>Park View City, Lahore</td>\n",
       "      <td>11500000.0</td>\n",
       "      <td>PKR</td>\n",
       "    </tr>\n",
       "    <tr>\n",
       "      <th>1</th>\n",
       "      <td>Homes for Sale</td>\n",
       "      <td>2 KANAL FURNISHED BUNGALOW WITHOUT COMMISSION ...</td>\n",
       "      <td>59 Crore</td>\n",
       "      <td>DHA Phase 6, DHA Defence</td>\n",
       "      <td>2 Kanal</td>\n",
       "      <td>https://www.zameen.com/Property/dha_defence_dh...</td>\n",
       "      <td>Zameen.com</td>\n",
       "      <td>DHA</td>\n",
       "      <td>590000000.0</td>\n",
       "      <td>PKR</td>\n",
       "    </tr>\n",
       "    <tr>\n",
       "      <th>2</th>\n",
       "      <td>Homes for Sale</td>\n",
       "      <td>Original Pictures Semi Furnished Full Basement...</td>\n",
       "      <td>13 Crore</td>\n",
       "      <td>DHA Phase 5, DHA Defence</td>\n",
       "      <td>1 Kanal</td>\n",
       "      <td>https://www.zameen.com/Property/dha_defence_dh...</td>\n",
       "      <td>Zameen.com</td>\n",
       "      <td>DHA</td>\n",
       "      <td>130000000.0</td>\n",
       "      <td>PKR</td>\n",
       "    </tr>\n",
       "    <tr>\n",
       "      <th>3</th>\n",
       "      <td>Homes for Sale</td>\n",
       "      <td>KANAL BUNGALOW WITHOUT COMMISSION WITH AFTER S...</td>\n",
       "      <td>9.95 Crore</td>\n",
       "      <td>DHA Phase 7 - Block Y, DHA Phase 7</td>\n",
       "      <td>1 Kanal</td>\n",
       "      <td>https://www.zameen.com/Property/dha_phase_7_dh...</td>\n",
       "      <td>Zameen.com</td>\n",
       "      <td>DHA</td>\n",
       "      <td>99500000.0</td>\n",
       "      <td>PKR</td>\n",
       "    </tr>\n",
       "    <tr>\n",
       "      <th>4</th>\n",
       "      <td>Homes for Sale</td>\n",
       "      <td>Fully Furnished 1 Kanal Elegant And Prime Loca...</td>\n",
       "      <td>9.75 Crore</td>\n",
       "      <td>DHA Phase 8, DHA Defence</td>\n",
       "      <td>1 Kanal</td>\n",
       "      <td>https://www.zameen.com/Property/dha_defence_dh...</td>\n",
       "      <td>Zameen.com</td>\n",
       "      <td>DHA</td>\n",
       "      <td>97500000.0</td>\n",
       "      <td>PKR</td>\n",
       "    </tr>\n",
       "  </tbody>\n",
       "</table>\n",
       "</div>"
      ],
      "text/plain": [
       "         Category                                              Title  \\\n",
       "0  Homes for Sale  3 Years Installment Plan Luxury Brand New Hous...   \n",
       "1  Homes for Sale  2 KANAL FURNISHED BUNGALOW WITHOUT COMMISSION ...   \n",
       "2  Homes for Sale  Original Pictures Semi Furnished Full Basement...   \n",
       "3  Homes for Sale  KANAL BUNGALOW WITHOUT COMMISSION WITH AFTER S...   \n",
       "4  Homes for Sale  Fully Furnished 1 Kanal Elegant And Prime Loca...   \n",
       "\n",
       "        Price                            Location       Area  \\\n",
       "0  1.15 Crore              Park View City, Lahore  3.5 Marla   \n",
       "1    59 Crore            DHA Phase 6, DHA Defence    2 Kanal   \n",
       "2    13 Crore            DHA Phase 5, DHA Defence    1 Kanal   \n",
       "3  9.95 Crore  DHA Phase 7 - Block Y, DHA Phase 7    1 Kanal   \n",
       "4  9.75 Crore            DHA Phase 8, DHA Defence    1 Kanal   \n",
       "\n",
       "                                                 URL      source  \\\n",
       "0  https://www.zameen.com/Property/lahore_park_vi...  Zameen.com   \n",
       "1  https://www.zameen.com/Property/dha_defence_dh...  Zameen.com   \n",
       "2  https://www.zameen.com/Property/dha_defence_dh...  Zameen.com   \n",
       "3  https://www.zameen.com/Property/dha_phase_7_dh...  Zameen.com   \n",
       "4  https://www.zameen.com/Property/dha_defence_dh...  Zameen.com   \n",
       "\n",
       "    location_standardized  price_numeric price_unit  \n",
       "0  Park View City, Lahore     11500000.0        PKR  \n",
       "1                     DHA    590000000.0        PKR  \n",
       "2                     DHA    130000000.0        PKR  \n",
       "3                     DHA     99500000.0        PKR  \n",
       "4                     DHA     97500000.0        PKR  "
      ]
     },
     "execution_count": 76,
     "metadata": {},
     "output_type": "execute_result"
    }
   ],
   "source": [
    "df_cleaned = pd.concat([all_commercial_cleaned, all_residential_cleaned], ignore_index=True)\n",
    "df_cleaned.shape\n",
    "# df_cleaned[df_cleaned['Category'] == 'Homes for Sale'].shape\n",
    "# df_cleaned[df_cleaned['Category'] == 'Commercial for Sale'].shape"
   ]
  },
  {
   "cell_type": "code",
   "execution_count": 57,
   "id": "d1b62056",
   "metadata": {},
   "outputs": [
    {
     "name": "stdout",
     "output_type": "stream",
     "text": [
      "📊 DATA QUALITY ASSESSMENT\n",
      "============================================================\n",
      "📈 Dataset Overview:\n",
      "Total Properties: 4,575\n",
      "Date Range: nan to nan\n",
      "\n",
      "🔍 Data Completeness:\n",
      "   price_numeric       : 4,575 / 4,575 (100.0%)\n",
      "   price_unit          : 4,575 / 4,575 (100.0%)\n",
      "   location_standardized: 4,575 / 4,575 (100.0%)\n",
      "   source              : 4,575 / 4,575 (100.0%)\n",
      "\n",
      "📱 Source Distribution:\n",
      "   Zameen.com     : 3,061 ( 66.9%)\n",
      "   Graana.com     : 1,514 ( 33.1%)\n",
      "\n",
      "💰 Price Statistics (PKR):\n",
      "   Properties with prices: 4,575\n",
      "   Average Price:      37,842,563\n",
      "   Median Price:       14,000,000\n",
      "   Min Price:                   1\n",
      "   Max Price:         900,000,000\n",
      "\n",
      "💵 Price Range Distribution:\n",
      "   Under 50 Lac   : 1,616 ( 35.3%)\n",
      "   2-5 Cr         :   880 ( 19.2%)\n",
      "   1-2 Cr         :   616 ( 13.5%)\n",
      "   5-10 Cr        :   581 ( 12.7%)\n",
      "   50 Lac-1 Cr    :   485 ( 10.6%)\n",
      "   Above 10 Cr    :   397 (  8.7%)\n",
      "\n",
      "🗺️ Location Overview:\n",
      "   Top 10 locations by property count:\n",
      "   DHA                 : 1,448 ( 31.7%)\n",
      "   Gulberg             :   348 (  7.6%)\n",
      "   Johar Town          :   231 (  5.0%)\n",
      "   Al Rehman Garden Phase 2, Lahore:   170 (  3.7%)\n",
      "   Park View City, Lahore:   125 (  2.7%)\n",
      "   Wapda Town          :   112 (  2.4%)\n",
      "   Bahria Town - Sector F, Lahore:   110 (  2.4%)\n",
      "   Allama Iqbal Town   :    86 (  1.9%)\n",
      "   DHA Town Phase 9, Lahore:    84 (  1.8%)\n",
      "   Garden Town         :    74 (  1.6%)\n"
     ]
    }
   ],
   "source": [
    "# Data Quality Assessment and Overview\n",
    "print(\"📊 DATA QUALITY ASSESSMENT\")\n",
    "print(\"=\"*60)\n",
    "\n",
    "\n",
    "residential_prices = df_cleaned[df_cleaned['Category'] == 'Homes for Sale']['price_numeric']\n",
    "commercial_prices = df_cleaned[df_cleaned['Category'] == 'Commercial for Sale']['price_numeric']\n",
    "\n",
    "print(\"\\n🔍 RESIDENTIAL PRICE STATISTICS:\")\n",
    "print(f\"   Total Residential Properties: {len(residential_prices):,}\")\n",
    "if len(residential_prices) > 0:\n",
    "    print(f\"   Average Price: {residential_prices.mean():,.0f} PKR\")\n",
    "    print(f\"   Median Price: {residential_prices.median():,.0f} PKR\")\n",
    "    print(f\"   Min Price: {residential_prices.min():,.0f} PKR\")\n",
    "    print(f\"   Max Price: {residential_prices.max():,.0f} PKR\")\n",
    "\n",
    "\n",
    "print(\"\\n🔍 COMMERCIAL PRICE STATISTICS:\")\n",
    "print(f\"   Total Commercial Properties: {len(commercial_prices):,}\")\n",
    "if len(commercial_prices) > 0:\n",
    "    print(f\"   Average Price: {commercial_prices.mean():,.0f} PKR\")\n",
    "    print(f\"   Median Price: {commercial_prices.median():,.0f} PKR\")\n",
    "    print(f\"   Min Price: {commercial_prices.min():,.0f} PKR\")\n",
    "    print(f\"   Max Price: {commercial_prices.max():,.0f} PKR\")\n",
    "\n",
    "# Price statistics\n",
    "# valid_prices = combined_df[combined_df['price_numeric'].notna()]\n",
    "# if len(valid_prices) > 0:\n",
    "#     print(f\"\\n💰 Price Statistics (PKR):\")\n",
    "#     print(f\"   Properties with prices: {len(valid_prices):,}\")\n",
    "#     print(f\"   Average Price: {valid_prices['price_numeric'].mean():15,.0f}\")\n",
    "#     print(f\"   Median Price:  {valid_prices['price_numeric'].median():15,.0f}\")\n",
    "#     print(f\"   Min Price:     {valid_prices['price_numeric'].min():15,.0f}\")\n",
    "#     print(f\"   Max Price:     {valid_prices['price_numeric'].max():15,.0f}\")\n",
    "    \n",
    "#     # Price range distribution\n",
    "#     print(f\"\\n💵 Price Range Distribution:\")\n",
    "#     bins = [0, 5000000, 10000000, 20000000, 50000000, 100000000, float('inf')]\n",
    "#     labels = ['Under 50 Lac', '50 Lac-1 Cr', '1-2 Cr', '2-5 Cr', '5-10 Cr', 'Above 10 Cr']\n",
    "    \n",
    "#     valid_prices['price_range'] = pd.cut(valid_prices['price_numeric'], bins=bins, labels=labels, include_lowest=True)\n",
    "#     price_range_counts = valid_prices['price_range'].value_counts()\n",
    "    \n",
    "#     for range_name, count in price_range_counts.items():\n",
    "#         percentage = count / len(valid_prices) * 100\n",
    "#         print(f\"   {range_name:15}: {count:5,} ({percentage:5.1f}%)\")\n",
    "\n",
    "# # Location overview\n",
    "# print(f\"\\n🗺️ Location Overview:\")\n",
    "# location_counts = combined_df['location_standardized'].value_counts().head(10)\n",
    "# print(f\"   Top 10 locations by property count:\")\n",
    "# for location, count in location_counts.items():\n",
    "#     percentage = count / len(combined_df) * 100\n",
    "#     print(f\"   {location:20}: {count:5,} ({percentage:5.1f}%)\")\n",
    "\n"
   ]
  },
  {
   "cell_type": "code",
   "execution_count": 58,
   "id": "e48f67e0",
   "metadata": {},
   "outputs": [
    {
     "name": "stdout",
     "output_type": "stream",
     "text": [
      "🗺️ LOCATION-BASED PRICING ANALYSIS\n",
      "============================================================\n",
      "📊 Analysis dataset: 4,575 properties with valid price and location data\n",
      "\n",
      "💰 TOP 15 MOST EXPENSIVE AREAS (Average Price in PKR):\n",
      "==========================================================================================\n",
      "Area                      Count    Avg Price (PKR)      Median Price (PKR)  \n",
      "------------------------------------------------------------------------------------------\n",
      "Quaid-e-Azam Industrial Estate, Lahore 5            116,380,000          140,000,000\n",
      "Samanabad, Lahore         11           108,791,818           42,500,000\n",
      "Multan Road, Lahore       18            75,035,278            1,575,000\n",
      "Bahria Town - Shaheen Block, Bahria Town - Sector B 6             72,250,000           51,750,000\n",
      "DHA                       1448          66,745,038           48,250,000\n",
      "Valencia Housing Society, Lahore 9             57,171,111           26,500,000\n",
      "Bahria Town - Gulbahar Block, Bahria Town - Sector C 5             54,700,000           35,000,000\n",
      "Bahria Town - Quaid Block, Bahria Town - Sector E 10            51,707,500            6,250,000\n",
      "Ferozepur Road, Lahore    10            51,502,200           11,000,000\n",
      "Bahria Town - Block AA, Bahria Town - Sector D 10            46,101,500           19,200,000\n",
      "Architects Engineers Housing Society, Lahore 7             45,142,857           39,000,000\n",
      "PGECHS Phase 2, Punjab Govt Employees Society 6             40,416,667           38,500,000\n",
      "Askari 11, Lahore         5             40,400,000           32,500,000\n",
      "Bahria Town - Chambelli Block, Bahria Town - Sector C 5             39,058,000           35,000,000\n",
      "Cantt                     39            38,031,795           11,000,000\n",
      "\n",
      "🏘️ AREAS WITH MOST PROPERTIES:\n",
      "================================================================================\n",
      "DHA                      : 1448 properties, Avg:   66,745,038 PKR\n",
      "Gulberg                  :  348 properties, Avg:   33,311,391 PKR\n",
      "Johar Town               :  231 properties, Avg:   34,745,139 PKR\n",
      "Al Rehman Garden Phase 2, Lahore:  170 properties, Avg:   13,632,941 PKR\n",
      "Park View City, Lahore   :  125 properties, Avg:   17,276,840 PKR\n",
      "Wapda Town               :  112 properties, Avg:    9,400,134 PKR\n",
      "Bahria Town - Sector F, Lahore:  110 properties, Avg:   13,150,155 PKR\n",
      "Allama Iqbal Town        :   86 properties, Avg:    2,674,860 PKR\n",
      "DHA Town Phase 9, Lahore :   84 properties, Avg:   22,993,607 PKR\n",
      "Garden Town              :   74 properties, Avg:   19,126,878 PKR\n",
      "\n",
      "💵 PRICE RANGE ANALYSIS BY TOP LOCATIONS (in PKR):\n",
      "======================================================================\n",
      "\n",
      "DHA:\n",
      "   Q1 (25%):       8,000,000 PKR\n",
      "   Median:        48,250,000 PKR\n",
      "   Q3 (75%):      87,500,000 PKR\n",
      "   Range:          15,000 -  700,000,000 PKR\n",
      "\n",
      "Gulberg:\n",
      "   Q1 (25%):         253,750 PKR\n",
      "   Median:           350,000 PKR\n",
      "   Q3 (75%):      10,225,000 PKR\n",
      "   Range:               1 -  850,000,000 PKR\n",
      "\n",
      "Johar Town:\n",
      "   Q1 (25%):          85,000 PKR\n",
      "   Median:           285,000 PKR\n",
      "   Q3 (75%):      25,750,000 PKR\n",
      "   Range:               2 -  700,000,000 PKR\n",
      "\n",
      "Al Rehman Garden Phase 2, Lahore:\n",
      "   Q1 (25%):       6,400,000 PKR\n",
      "   Median:         6,800,000 PKR\n",
      "   Q3 (75%):       7,000,000 PKR\n",
      "   Range:       6,000,000 -   47,500,000 PKR\n",
      "\n",
      "Park View City, Lahore:\n",
      "   Q1 (25%):      10,000,000 PKR\n",
      "   Median:        16,500,000 PKR\n",
      "   Q3 (75%):      20,700,000 PKR\n",
      "   Range:          35,000 -  180,000,000 PKR\n",
      "\n",
      "Wapda Town:\n",
      "   Q1 (25%):          85,000 PKR\n",
      "   Median:           127,500 PKR\n",
      "   Q3 (75%):      22,500,000 PKR\n",
      "   Range:          60,000 -   75,000,000 PKR\n",
      "\n",
      "Bahria Town - Sector F, Lahore:\n",
      "   Q1 (25%):       6,525,000 PKR\n",
      "   Median:         9,500,000 PKR\n",
      "   Q3 (75%):      18,975,000 PKR\n",
      "   Range:          40,000 -   48,800,000 PKR\n",
      "\n",
      "Allama Iqbal Town:\n",
      "   Q1 (25%):          35,000 PKR\n",
      "   Median:            73,000 PKR\n",
      "   Q3 (75%):          77,000 PKR\n",
      "   Range:          33,000 -  100,000,000 PKR\n",
      "\n",
      "📱 SOURCE COMPARISON BY LOCATION:\n",
      "==================================================\n",
      "Areas with data from both Zameen and Graana:\n",
      "\n",
      "DHA:\n",
      "   Graana.com: 378 properties, Avg: 69,230,987 PKR\n",
      "   Zameen.com: 1070 properties, Avg: 65,866,825 PKR\n",
      "\n",
      "Gulberg:\n",
      "   Graana.com: 151 properties, Avg: 7,157,225 PKR\n",
      "   Zameen.com: 197 properties, Avg: 53,358,492 PKR\n",
      "\n",
      "Johar Town:\n",
      "   Graana.com: 173 properties, Avg: 12,579,769 PKR\n",
      "   Zameen.com: 58 properties, Avg: 100,859,086 PKR\n",
      "\n",
      "Park View City, Lahore:\n",
      "   Graana.com: 2 properties, Avg: 4,000,000 PKR\n",
      "   Zameen.com: 123 properties, Avg: 17,492,724 PKR\n",
      "\n",
      "Wapda Town:\n",
      "   Graana.com: 94 properties, Avg: 7,553,351 PKR\n",
      "   Zameen.com: 18 properties, Avg: 19,044,444 PKR\n",
      "Areas with data from both Zameen and Graana:\n",
      "\n",
      "DHA:\n",
      "   Graana.com: 378 properties, Avg: 69,230,987 PKR\n",
      "   Zameen.com: 1070 properties, Avg: 65,866,825 PKR\n",
      "\n",
      "Gulberg:\n",
      "   Graana.com: 151 properties, Avg: 7,157,225 PKR\n",
      "   Zameen.com: 197 properties, Avg: 53,358,492 PKR\n",
      "\n",
      "Johar Town:\n",
      "   Graana.com: 173 properties, Avg: 12,579,769 PKR\n",
      "   Zameen.com: 58 properties, Avg: 100,859,086 PKR\n",
      "\n",
      "Park View City, Lahore:\n",
      "   Graana.com: 2 properties, Avg: 4,000,000 PKR\n",
      "   Zameen.com: 123 properties, Avg: 17,492,724 PKR\n",
      "\n",
      "Wapda Town:\n",
      "   Graana.com: 94 properties, Avg: 7,553,351 PKR\n",
      "   Zameen.com: 18 properties, Avg: 19,044,444 PKR\n"
     ]
    }
   ],
   "source": [
    "# Filter data with valid prices and locations\n",
    "analysis_df = df_cleaned[\n",
    "    (df_cleaned['price_numeric'].notna()) & \n",
    "    (df_cleaned['location_standardized'].notna()) &\n",
    "    (df_cleaned['location_standardized'] != 'N/A') &\n",
    "    (df_cleaned['location_standardized'] != '')\n",
    "].copy()\n",
    "\n",
    "\n",
    "# Calculate average pricing by location and category\n",
    "category_stats = analysis_df.groupby(['location_standardized', 'Category']).agg(\n",
    "    property_count=('price_numeric', 'count'),\n",
    "    avg_price=('price_numeric', 'mean'),\n",
    "    median_price=('price_numeric', 'median'),\n",
    "    price_std=('price_numeric', 'std'),\n",
    "    min_price=('price_numeric', 'min'),\n",
    "    max_price=('price_numeric', 'max'),\n",
    "    data_sources=('source', lambda x: ', '.join(x.unique()))\n",
    ").round(0)\n",
    "\n",
    "# Filter for locations with at least 5 properties in each category\n",
    "category_stats_filtered = category_stats[category_stats['property_count'] >= 5].copy()\n",
    "\n",
    "print(\"\\n🏠 AVERAGE PRICING BY LOCATION AND CATEGORY (Top 10 by Avg Price):\")\n",
    "print(\"=\"*90)\n",
    "for cat in ['Homes for Sale', 'Commercial for Sale']:\n",
    "    print(f\"\\nCategory: {cat}\")\n",
    "    cat_df = category_stats_filtered.xs(cat, level='Category').sort_values('avg_price', ascending=False).head(10)\n",
    "    print(f\"{'Area':<30} {'Count':<8} {'Avg Price (PKR)':<20} {'Median Price (PKR)':<20}\")\n",
    "    print(\"-\" * 90)\n",
    "    for location, row in cat_df.iterrows():\n",
    "        print(f\"{location:<30} {int(row['property_count']):<8} {row['avg_price']:>15,.0f}      {row['median_price']:>15,.0f}\")\n",
    "\n",
    "\n"
   ]
  },
  {
   "cell_type": "code",
   "execution_count": 59,
   "id": "0b8cb45b",
   "metadata": {},
   "outputs": [
    {
     "name": "stdout",
     "output_type": "stream",
     "text": [
      "📊 CREATING VISUALIZATIONS\n",
      "========================================\n"
     ]
    },
    {
     "name": "stdout",
     "output_type": "stream",
     "text": [
      "📊 CREATING VISUALIZATIONS\n",
      "========================================\n"
     ]
    },
    {
     "ename": "KeyboardInterrupt",
     "evalue": "",
     "output_type": "error",
     "traceback": [
      "\u001b[31m---------------------------------------------------------------------------\u001b[39m",
      "\u001b[31mAttributeError\u001b[39m                            Traceback (most recent call last)",
      "\u001b[36mFile \u001b[39m\u001b[32m~\\AppData\\Local\\Packages\\PythonSoftwareFoundation.Python.3.11_qbz5n2kfra8p0\\LocalCache\\local-packages\\Python311\\site-packages\\seaborn\\_base.py:1768\u001b[39m, in \u001b[36mcategorical_order\u001b[39m\u001b[34m(vector, order)\u001b[39m\n\u001b[32m   1767\u001b[39m \u001b[38;5;28;01mtry\u001b[39;00m:\n\u001b[32m-> \u001b[39m\u001b[32m1768\u001b[39m     order = \u001b[43mvector\u001b[49m\u001b[43m.\u001b[49m\u001b[43mcat\u001b[49m.categories\n\u001b[32m   1769\u001b[39m \u001b[38;5;28;01mexcept\u001b[39;00m (\u001b[38;5;167;01mTypeError\u001b[39;00m, \u001b[38;5;167;01mAttributeError\u001b[39;00m):\n",
      "\u001b[36mFile \u001b[39m\u001b[32m~\\AppData\\Local\\Packages\\PythonSoftwareFoundation.Python.3.11_qbz5n2kfra8p0\\LocalCache\\local-packages\\Python311\\site-packages\\pandas\\core\\generic.py:6318\u001b[39m, in \u001b[36mNDFrame.__getattr__\u001b[39m\u001b[34m(self, name)\u001b[39m\n\u001b[32m   6317\u001b[39m     \u001b[38;5;28;01mreturn\u001b[39;00m \u001b[38;5;28mself\u001b[39m[name]\n\u001b[32m-> \u001b[39m\u001b[32m6318\u001b[39m \u001b[38;5;28;01mreturn\u001b[39;00m \u001b[38;5;28;43mobject\u001b[39;49m\u001b[43m.\u001b[49m\u001b[34;43m__getattribute__\u001b[39;49m\u001b[43m(\u001b[49m\u001b[38;5;28;43mself\u001b[39;49m\u001b[43m,\u001b[49m\u001b[43m \u001b[49m\u001b[43mname\u001b[49m\u001b[43m)\u001b[49m\n",
      "\u001b[36mFile \u001b[39m\u001b[32m~\\AppData\\Local\\Packages\\PythonSoftwareFoundation.Python.3.11_qbz5n2kfra8p0\\LocalCache\\local-packages\\Python311\\site-packages\\pandas\\core\\accessor.py:224\u001b[39m, in \u001b[36mCachedAccessor.__get__\u001b[39m\u001b[34m(self, obj, cls)\u001b[39m\n\u001b[32m    223\u001b[39m     \u001b[38;5;28;01mreturn\u001b[39;00m \u001b[38;5;28mself\u001b[39m._accessor\n\u001b[32m--> \u001b[39m\u001b[32m224\u001b[39m accessor_obj = \u001b[38;5;28;43mself\u001b[39;49m\u001b[43m.\u001b[49m\u001b[43m_accessor\u001b[49m\u001b[43m(\u001b[49m\u001b[43mobj\u001b[49m\u001b[43m)\u001b[49m\n\u001b[32m    225\u001b[39m \u001b[38;5;66;03m# Replace the property with the accessor object. Inspired by:\u001b[39;00m\n\u001b[32m    226\u001b[39m \u001b[38;5;66;03m# https://www.pydanny.com/cached-property.html\u001b[39;00m\n\u001b[32m    227\u001b[39m \u001b[38;5;66;03m# We need to use object.__setattr__ because we overwrite __setattr__ on\u001b[39;00m\n\u001b[32m    228\u001b[39m \u001b[38;5;66;03m# NDFrame\u001b[39;00m\n",
      "\u001b[36mFile \u001b[39m\u001b[32m~\\AppData\\Local\\Packages\\PythonSoftwareFoundation.Python.3.11_qbz5n2kfra8p0\\LocalCache\\local-packages\\Python311\\site-packages\\pandas\\core\\arrays\\categorical.py:2931\u001b[39m, in \u001b[36mCategoricalAccessor.__init__\u001b[39m\u001b[34m(self, data)\u001b[39m\n\u001b[32m   2930\u001b[39m \u001b[38;5;28;01mdef\u001b[39;00m\u001b[38;5;250m \u001b[39m\u001b[34m__init__\u001b[39m(\u001b[38;5;28mself\u001b[39m, data) -> \u001b[38;5;28;01mNone\u001b[39;00m:\n\u001b[32m-> \u001b[39m\u001b[32m2931\u001b[39m     \u001b[38;5;28;43mself\u001b[39;49m\u001b[43m.\u001b[49m\u001b[43m_validate\u001b[49m\u001b[43m(\u001b[49m\u001b[43mdata\u001b[49m\u001b[43m)\u001b[49m\n\u001b[32m   2932\u001b[39m     \u001b[38;5;28mself\u001b[39m._parent = data.values\n",
      "\u001b[36mFile \u001b[39m\u001b[32m~\\AppData\\Local\\Packages\\PythonSoftwareFoundation.Python.3.11_qbz5n2kfra8p0\\LocalCache\\local-packages\\Python311\\site-packages\\pandas\\core\\arrays\\categorical.py:2940\u001b[39m, in \u001b[36mCategoricalAccessor._validate\u001b[39m\u001b[34m(data)\u001b[39m\n\u001b[32m   2939\u001b[39m \u001b[38;5;28;01mif\u001b[39;00m \u001b[38;5;129;01mnot\u001b[39;00m \u001b[38;5;28misinstance\u001b[39m(data.dtype, CategoricalDtype):\n\u001b[32m-> \u001b[39m\u001b[32m2940\u001b[39m     \u001b[38;5;28;01mraise\u001b[39;00m \u001b[38;5;167;01mAttributeError\u001b[39;00m(\u001b[33m\"\u001b[39m\u001b[33mCan only use .cat accessor with a \u001b[39m\u001b[33m'\u001b[39m\u001b[33mcategory\u001b[39m\u001b[33m'\u001b[39m\u001b[33m dtype\u001b[39m\u001b[33m\"\u001b[39m)\n",
      "\u001b[31mAttributeError\u001b[39m: Can only use .cat accessor with a 'category' dtype",
      "\nDuring handling of the above exception, another exception occurred:\n",
      "\u001b[31mKeyboardInterrupt\u001b[39m                         Traceback (most recent call last)",
      "\u001b[36mCell\u001b[39m\u001b[36m \u001b[39m\u001b[32mIn[59]\u001b[39m\u001b[32m, line 15\u001b[39m\n\u001b[32m     13\u001b[39m ax1 = plt.subplot(\u001b[32m4\u001b[39m, \u001b[32m2\u001b[39m, \u001b[32m1\u001b[39m)\n\u001b[32m     14\u001b[39m valid_prices_viz = analysis_df[analysis_df[\u001b[33m'\u001b[39m\u001b[33mprice_numeric\u001b[39m\u001b[33m'\u001b[39m] < \u001b[32m500000000\u001b[39m]  \u001b[38;5;66;03m# Cap at 50 Crore PKR for better visualization\u001b[39;00m\n\u001b[32m---> \u001b[39m\u001b[32m15\u001b[39m \u001b[43msns\u001b[49m\u001b[43m.\u001b[49m\u001b[43mhistplot\u001b[49m\u001b[43m(\u001b[49m\u001b[43mdata\u001b[49m\u001b[43m=\u001b[49m\u001b[43mvalid_prices_viz\u001b[49m\u001b[43m,\u001b[49m\u001b[43m \u001b[49m\u001b[43mx\u001b[49m\u001b[43m=\u001b[49m\u001b[33;43m'\u001b[39;49m\u001b[33;43mprice_numeric\u001b[39;49m\u001b[33;43m'\u001b[39;49m\u001b[43m,\u001b[49m\u001b[43m \u001b[49m\u001b[43mhue\u001b[49m\u001b[43m=\u001b[49m\u001b[33;43m'\u001b[39;49m\u001b[33;43msource\u001b[39;49m\u001b[33;43m'\u001b[39;49m\u001b[43m,\u001b[49m\u001b[43m \u001b[49m\u001b[43mbins\u001b[49m\u001b[43m=\u001b[49m\u001b[32;43m30\u001b[39;49m\u001b[43m,\u001b[49m\u001b[43m \u001b[49m\u001b[43malpha\u001b[49m\u001b[43m=\u001b[49m\u001b[32;43m0.7\u001b[39;49m\u001b[43m,\u001b[49m\u001b[43m \u001b[49m\u001b[43max\u001b[49m\u001b[43m=\u001b[49m\u001b[43max1\u001b[49m\u001b[43m)\u001b[49m\n\u001b[32m     16\u001b[39m ax1.set_title(\u001b[33m'\u001b[39m\u001b[33mPrice Distribution by Source (Capped at 50 Crore PKR)\u001b[39m\u001b[33m'\u001b[39m, fontsize=\u001b[32m14\u001b[39m, fontweight=\u001b[33m'\u001b[39m\u001b[33mbold\u001b[39m\u001b[33m'\u001b[39m)\n\u001b[32m     17\u001b[39m ax1.set_xlabel(\u001b[33m'\u001b[39m\u001b[33mPrice (PKR)\u001b[39m\u001b[33m'\u001b[39m)\n",
      "\u001b[36mFile \u001b[39m\u001b[32m~\\AppData\\Local\\Packages\\PythonSoftwareFoundation.Python.3.11_qbz5n2kfra8p0\\LocalCache\\local-packages\\Python311\\site-packages\\seaborn\\distributions.py:1384\u001b[39m, in \u001b[36mhistplot\u001b[39m\u001b[34m(data, x, y, hue, weights, stat, bins, binwidth, binrange, discrete, cumulative, common_bins, common_norm, multiple, element, fill, shrink, kde, kde_kws, line_kws, thresh, pthresh, pmax, cbar, cbar_ax, cbar_kws, palette, hue_order, hue_norm, color, log_scale, legend, ax, **kwargs)\u001b[39m\n\u001b[32m   1358\u001b[39m \u001b[38;5;28;01mdef\u001b[39;00m\u001b[38;5;250m \u001b[39m\u001b[34mhistplot\u001b[39m(\n\u001b[32m   1359\u001b[39m     data=\u001b[38;5;28;01mNone\u001b[39;00m, *,\n\u001b[32m   1360\u001b[39m     \u001b[38;5;66;03m# Vector variables\u001b[39;00m\n\u001b[32m   (...)\u001b[39m\u001b[32m   1376\u001b[39m     **kwargs,\n\u001b[32m   1377\u001b[39m ):\n\u001b[32m   1379\u001b[39m     p = _DistributionPlotter(\n\u001b[32m   1380\u001b[39m         data=data,\n\u001b[32m   1381\u001b[39m         variables=\u001b[38;5;28mdict\u001b[39m(x=x, y=y, hue=hue, weights=weights),\n\u001b[32m   1382\u001b[39m     )\n\u001b[32m-> \u001b[39m\u001b[32m1384\u001b[39m     \u001b[43mp\u001b[49m\u001b[43m.\u001b[49m\u001b[43mmap_hue\u001b[49m\u001b[43m(\u001b[49m\u001b[43mpalette\u001b[49m\u001b[43m=\u001b[49m\u001b[43mpalette\u001b[49m\u001b[43m,\u001b[49m\u001b[43m \u001b[49m\u001b[43morder\u001b[49m\u001b[43m=\u001b[49m\u001b[43mhue_order\u001b[49m\u001b[43m,\u001b[49m\u001b[43m \u001b[49m\u001b[43mnorm\u001b[49m\u001b[43m=\u001b[49m\u001b[43mhue_norm\u001b[49m\u001b[43m)\u001b[49m\n\u001b[32m   1386\u001b[39m     \u001b[38;5;28;01mif\u001b[39;00m ax \u001b[38;5;129;01mis\u001b[39;00m \u001b[38;5;28;01mNone\u001b[39;00m:\n\u001b[32m   1387\u001b[39m         ax = plt.gca()\n",
      "\u001b[36mFile \u001b[39m\u001b[32m~\\AppData\\Local\\Packages\\PythonSoftwareFoundation.Python.3.11_qbz5n2kfra8p0\\LocalCache\\local-packages\\Python311\\site-packages\\seaborn\\_base.py:838\u001b[39m, in \u001b[36mVectorPlotter.map_hue\u001b[39m\u001b[34m(self, palette, order, norm, saturation)\u001b[39m\n\u001b[32m    837\u001b[39m \u001b[38;5;28;01mdef\u001b[39;00m\u001b[38;5;250m \u001b[39m\u001b[34mmap_hue\u001b[39m(\u001b[38;5;28mself\u001b[39m, palette=\u001b[38;5;28;01mNone\u001b[39;00m, order=\u001b[38;5;28;01mNone\u001b[39;00m, norm=\u001b[38;5;28;01mNone\u001b[39;00m, saturation=\u001b[32m1\u001b[39m):\n\u001b[32m--> \u001b[39m\u001b[32m838\u001b[39m     mapping = \u001b[43mHueMapping\u001b[49m\u001b[43m(\u001b[49m\u001b[38;5;28;43mself\u001b[39;49m\u001b[43m,\u001b[49m\u001b[43m \u001b[49m\u001b[43mpalette\u001b[49m\u001b[43m,\u001b[49m\u001b[43m \u001b[49m\u001b[43morder\u001b[49m\u001b[43m,\u001b[49m\u001b[43m \u001b[49m\u001b[43mnorm\u001b[49m\u001b[43m,\u001b[49m\u001b[43m \u001b[49m\u001b[43msaturation\u001b[49m\u001b[43m)\u001b[49m\n\u001b[32m    839\u001b[39m     \u001b[38;5;28mself\u001b[39m._hue_map = mapping\n",
      "\u001b[36mFile \u001b[39m\u001b[32m~\\AppData\\Local\\Packages\\PythonSoftwareFoundation.Python.3.11_qbz5n2kfra8p0\\LocalCache\\local-packages\\Python311\\site-packages\\seaborn\\_base.py:150\u001b[39m, in \u001b[36mHueMapping.__init__\u001b[39m\u001b[34m(self, plotter, palette, order, norm, saturation)\u001b[39m\n\u001b[32m    147\u001b[39m \u001b[38;5;28;01melif\u001b[39;00m map_type == \u001b[33m\"\u001b[39m\u001b[33mcategorical\u001b[39m\u001b[33m\"\u001b[39m:\n\u001b[32m    149\u001b[39m     cmap = norm = \u001b[38;5;28;01mNone\u001b[39;00m\n\u001b[32m--> \u001b[39m\u001b[32m150\u001b[39m     levels, lookup_table = \u001b[38;5;28;43mself\u001b[39;49m\u001b[43m.\u001b[49m\u001b[43mcategorical_mapping\u001b[49m\u001b[43m(\u001b[49m\n\u001b[32m    151\u001b[39m \u001b[43m        \u001b[49m\u001b[43mdata\u001b[49m\u001b[43m,\u001b[49m\u001b[43m \u001b[49m\u001b[43mpalette\u001b[49m\u001b[43m,\u001b[49m\u001b[43m \u001b[49m\u001b[43morder\u001b[49m\u001b[43m,\u001b[49m\n\u001b[32m    152\u001b[39m \u001b[43m    \u001b[49m\u001b[43m)\u001b[49m\n\u001b[32m    154\u001b[39m \u001b[38;5;66;03m# --- Option 3: datetime mapping\u001b[39;00m\n\u001b[32m    155\u001b[39m \n\u001b[32m    156\u001b[39m \u001b[38;5;28;01melse\u001b[39;00m:\n\u001b[32m    157\u001b[39m     \u001b[38;5;66;03m# TODO this needs actual implementation\u001b[39;00m\n\u001b[32m    158\u001b[39m     cmap = norm = \u001b[38;5;28;01mNone\u001b[39;00m\n",
      "\u001b[36mFile \u001b[39m\u001b[32m~\\AppData\\Local\\Packages\\PythonSoftwareFoundation.Python.3.11_qbz5n2kfra8p0\\LocalCache\\local-packages\\Python311\\site-packages\\seaborn\\_base.py:224\u001b[39m, in \u001b[36mHueMapping.categorical_mapping\u001b[39m\u001b[34m(self, data, palette, order)\u001b[39m\n\u001b[32m    221\u001b[39m \u001b[38;5;250m\u001b[39m\u001b[33;03m\"\"\"Determine colors when the hue mapping is categorical.\"\"\"\u001b[39;00m\n\u001b[32m    222\u001b[39m \u001b[38;5;66;03m# -- Identify the order and name of the levels\u001b[39;00m\n\u001b[32m--> \u001b[39m\u001b[32m224\u001b[39m levels = \u001b[43mcategorical_order\u001b[49m\u001b[43m(\u001b[49m\u001b[43mdata\u001b[49m\u001b[43m,\u001b[49m\u001b[43m \u001b[49m\u001b[43morder\u001b[49m\u001b[43m)\u001b[49m\n\u001b[32m    225\u001b[39m n_colors = \u001b[38;5;28mlen\u001b[39m(levels)\n\u001b[32m    227\u001b[39m \u001b[38;5;66;03m# -- Identify the set of colors to use\u001b[39;00m\n",
      "\u001b[36mFile \u001b[39m\u001b[32m~\\AppData\\Local\\Packages\\PythonSoftwareFoundation.Python.3.11_qbz5n2kfra8p0\\LocalCache\\local-packages\\Python311\\site-packages\\seaborn\\_base.py:1771\u001b[39m, in \u001b[36mcategorical_order\u001b[39m\u001b[34m(vector, order)\u001b[39m\n\u001b[32m   1768\u001b[39m     order = vector.cat.categories\n\u001b[32m   1769\u001b[39m \u001b[38;5;28;01mexcept\u001b[39;00m (\u001b[38;5;167;01mTypeError\u001b[39;00m, \u001b[38;5;167;01mAttributeError\u001b[39;00m):\n\u001b[32m-> \u001b[39m\u001b[32m1771\u001b[39m     order = \u001b[43mpd\u001b[49m\u001b[43m.\u001b[49m\u001b[43mSeries\u001b[49m\u001b[43m(\u001b[49m\u001b[43mvector\u001b[49m\u001b[43m)\u001b[49m\u001b[43m.\u001b[49m\u001b[43munique\u001b[49m\u001b[43m(\u001b[49m\u001b[43m)\u001b[49m\n\u001b[32m   1773\u001b[39m     \u001b[38;5;28;01mif\u001b[39;00m variable_type(vector) == \u001b[33m\"\u001b[39m\u001b[33mnumeric\u001b[39m\u001b[33m\"\u001b[39m:\n\u001b[32m   1774\u001b[39m         order = np.sort(order)\n",
      "\u001b[36mFile \u001b[39m\u001b[32m~\\AppData\\Local\\Packages\\PythonSoftwareFoundation.Python.3.11_qbz5n2kfra8p0\\LocalCache\\local-packages\\Python311\\site-packages\\pandas\\core\\series.py:2416\u001b[39m, in \u001b[36mSeries.unique\u001b[39m\u001b[34m(self)\u001b[39m\n\u001b[32m   2353\u001b[39m \u001b[38;5;28;01mdef\u001b[39;00m\u001b[38;5;250m \u001b[39m\u001b[34munique\u001b[39m(\u001b[38;5;28mself\u001b[39m) -> ArrayLike:  \u001b[38;5;66;03m# pylint: disable=useless-parent-delegation\u001b[39;00m\n\u001b[32m   2354\u001b[39m \u001b[38;5;250m    \u001b[39m\u001b[33;03m\"\"\"\u001b[39;00m\n\u001b[32m   2355\u001b[39m \u001b[33;03m    Return unique values of Series object.\u001b[39;00m\n\u001b[32m   2356\u001b[39m \n\u001b[32m   (...)\u001b[39m\u001b[32m   2414\u001b[39m \u001b[33;03m    Categories (3, object): ['a' < 'b' < 'c']\u001b[39;00m\n\u001b[32m   2415\u001b[39m \u001b[33;03m    \"\"\"\u001b[39;00m\n\u001b[32m-> \u001b[39m\u001b[32m2416\u001b[39m     \u001b[38;5;28;01mreturn\u001b[39;00m \u001b[38;5;28;43msuper\u001b[39;49m\u001b[43m(\u001b[49m\u001b[43m)\u001b[49m\u001b[43m.\u001b[49m\u001b[43munique\u001b[49m\u001b[43m(\u001b[49m\u001b[43m)\u001b[49m\n",
      "\u001b[36mFile \u001b[39m\u001b[32m~\\AppData\\Local\\Packages\\PythonSoftwareFoundation.Python.3.11_qbz5n2kfra8p0\\LocalCache\\local-packages\\Python311\\site-packages\\pandas\\core\\base.py:1029\u001b[39m, in \u001b[36mIndexOpsMixin.unique\u001b[39m\u001b[34m(self)\u001b[39m\n\u001b[32m   1027\u001b[39m     result = values.unique()\n\u001b[32m   1028\u001b[39m \u001b[38;5;28;01melse\u001b[39;00m:\n\u001b[32m-> \u001b[39m\u001b[32m1029\u001b[39m     result = \u001b[43malgorithms\u001b[49m\u001b[43m.\u001b[49m\u001b[43munique1d\u001b[49m\u001b[43m(\u001b[49m\u001b[43mvalues\u001b[49m\u001b[43m)\u001b[49m\n\u001b[32m   1030\u001b[39m \u001b[38;5;28;01mreturn\u001b[39;00m result\n",
      "\u001b[36mFile \u001b[39m\u001b[32m~\\AppData\\Local\\Packages\\PythonSoftwareFoundation.Python.3.11_qbz5n2kfra8p0\\LocalCache\\local-packages\\Python311\\site-packages\\pandas\\core\\algorithms.py:401\u001b[39m, in \u001b[36munique\u001b[39m\u001b[34m(values)\u001b[39m\n\u001b[32m    307\u001b[39m \u001b[38;5;28;01mdef\u001b[39;00m\u001b[38;5;250m \u001b[39m\u001b[34munique\u001b[39m(values):\n\u001b[32m    308\u001b[39m \u001b[38;5;250m    \u001b[39m\u001b[33;03m\"\"\"\u001b[39;00m\n\u001b[32m    309\u001b[39m \u001b[33;03m    Return unique values based on a hash table.\u001b[39;00m\n\u001b[32m    310\u001b[39m \n\u001b[32m   (...)\u001b[39m\u001b[32m    399\u001b[39m \u001b[33;03m    array([('a', 'b'), ('b', 'a'), ('a', 'c')], dtype=object)\u001b[39;00m\n\u001b[32m    400\u001b[39m \u001b[33;03m    \"\"\"\u001b[39;00m\n\u001b[32m--> \u001b[39m\u001b[32m401\u001b[39m     \u001b[38;5;28;01mreturn\u001b[39;00m \u001b[43munique_with_mask\u001b[49m\u001b[43m(\u001b[49m\u001b[43mvalues\u001b[49m\u001b[43m)\u001b[49m\n",
      "\u001b[36mFile \u001b[39m\u001b[32m~\\AppData\\Local\\Packages\\PythonSoftwareFoundation.Python.3.11_qbz5n2kfra8p0\\LocalCache\\local-packages\\Python311\\site-packages\\pandas\\core\\algorithms.py:440\u001b[39m, in \u001b[36munique_with_mask\u001b[39m\u001b[34m(values, mask)\u001b[39m\n\u001b[32m    438\u001b[39m table = hashtable(\u001b[38;5;28mlen\u001b[39m(values))\n\u001b[32m    439\u001b[39m \u001b[38;5;28;01mif\u001b[39;00m mask \u001b[38;5;129;01mis\u001b[39;00m \u001b[38;5;28;01mNone\u001b[39;00m:\n\u001b[32m--> \u001b[39m\u001b[32m440\u001b[39m     uniques = \u001b[43mtable\u001b[49m\u001b[43m.\u001b[49m\u001b[43munique\u001b[49m\u001b[43m(\u001b[49m\u001b[43mvalues\u001b[49m\u001b[43m)\u001b[49m\n\u001b[32m    441\u001b[39m     uniques = _reconstruct_data(uniques, original.dtype, original)\n\u001b[32m    442\u001b[39m     \u001b[38;5;28;01mreturn\u001b[39;00m uniques\n",
      "\u001b[31mKeyboardInterrupt\u001b[39m: "
     ]
    },
    {
     "name": "stdout",
     "output_type": "stream",
     "text": [
      "📊 CREATING VISUALIZATIONS\n",
      "========================================\n"
     ]
    },
    {
     "ename": "KeyboardInterrupt",
     "evalue": "",
     "output_type": "error",
     "traceback": [
      "\u001b[31m---------------------------------------------------------------------------\u001b[39m",
      "\u001b[31mAttributeError\u001b[39m                            Traceback (most recent call last)",
      "\u001b[36mFile \u001b[39m\u001b[32m~\\AppData\\Local\\Packages\\PythonSoftwareFoundation.Python.3.11_qbz5n2kfra8p0\\LocalCache\\local-packages\\Python311\\site-packages\\seaborn\\_base.py:1768\u001b[39m, in \u001b[36mcategorical_order\u001b[39m\u001b[34m(vector, order)\u001b[39m\n\u001b[32m   1767\u001b[39m \u001b[38;5;28;01mtry\u001b[39;00m:\n\u001b[32m-> \u001b[39m\u001b[32m1768\u001b[39m     order = \u001b[43mvector\u001b[49m\u001b[43m.\u001b[49m\u001b[43mcat\u001b[49m.categories\n\u001b[32m   1769\u001b[39m \u001b[38;5;28;01mexcept\u001b[39;00m (\u001b[38;5;167;01mTypeError\u001b[39;00m, \u001b[38;5;167;01mAttributeError\u001b[39;00m):\n",
      "\u001b[36mFile \u001b[39m\u001b[32m~\\AppData\\Local\\Packages\\PythonSoftwareFoundation.Python.3.11_qbz5n2kfra8p0\\LocalCache\\local-packages\\Python311\\site-packages\\pandas\\core\\generic.py:6318\u001b[39m, in \u001b[36mNDFrame.__getattr__\u001b[39m\u001b[34m(self, name)\u001b[39m\n\u001b[32m   6317\u001b[39m     \u001b[38;5;28;01mreturn\u001b[39;00m \u001b[38;5;28mself\u001b[39m[name]\n\u001b[32m-> \u001b[39m\u001b[32m6318\u001b[39m \u001b[38;5;28;01mreturn\u001b[39;00m \u001b[38;5;28;43mobject\u001b[39;49m\u001b[43m.\u001b[49m\u001b[34;43m__getattribute__\u001b[39;49m\u001b[43m(\u001b[49m\u001b[38;5;28;43mself\u001b[39;49m\u001b[43m,\u001b[49m\u001b[43m \u001b[49m\u001b[43mname\u001b[49m\u001b[43m)\u001b[49m\n",
      "\u001b[36mFile \u001b[39m\u001b[32m~\\AppData\\Local\\Packages\\PythonSoftwareFoundation.Python.3.11_qbz5n2kfra8p0\\LocalCache\\local-packages\\Python311\\site-packages\\pandas\\core\\accessor.py:224\u001b[39m, in \u001b[36mCachedAccessor.__get__\u001b[39m\u001b[34m(self, obj, cls)\u001b[39m\n\u001b[32m    223\u001b[39m     \u001b[38;5;28;01mreturn\u001b[39;00m \u001b[38;5;28mself\u001b[39m._accessor\n\u001b[32m--> \u001b[39m\u001b[32m224\u001b[39m accessor_obj = \u001b[38;5;28;43mself\u001b[39;49m\u001b[43m.\u001b[49m\u001b[43m_accessor\u001b[49m\u001b[43m(\u001b[49m\u001b[43mobj\u001b[49m\u001b[43m)\u001b[49m\n\u001b[32m    225\u001b[39m \u001b[38;5;66;03m# Replace the property with the accessor object. Inspired by:\u001b[39;00m\n\u001b[32m    226\u001b[39m \u001b[38;5;66;03m# https://www.pydanny.com/cached-property.html\u001b[39;00m\n\u001b[32m    227\u001b[39m \u001b[38;5;66;03m# We need to use object.__setattr__ because we overwrite __setattr__ on\u001b[39;00m\n\u001b[32m    228\u001b[39m \u001b[38;5;66;03m# NDFrame\u001b[39;00m\n",
      "\u001b[36mFile \u001b[39m\u001b[32m~\\AppData\\Local\\Packages\\PythonSoftwareFoundation.Python.3.11_qbz5n2kfra8p0\\LocalCache\\local-packages\\Python311\\site-packages\\pandas\\core\\arrays\\categorical.py:2931\u001b[39m, in \u001b[36mCategoricalAccessor.__init__\u001b[39m\u001b[34m(self, data)\u001b[39m\n\u001b[32m   2930\u001b[39m \u001b[38;5;28;01mdef\u001b[39;00m\u001b[38;5;250m \u001b[39m\u001b[34m__init__\u001b[39m(\u001b[38;5;28mself\u001b[39m, data) -> \u001b[38;5;28;01mNone\u001b[39;00m:\n\u001b[32m-> \u001b[39m\u001b[32m2931\u001b[39m     \u001b[38;5;28;43mself\u001b[39;49m\u001b[43m.\u001b[49m\u001b[43m_validate\u001b[49m\u001b[43m(\u001b[49m\u001b[43mdata\u001b[49m\u001b[43m)\u001b[49m\n\u001b[32m   2932\u001b[39m     \u001b[38;5;28mself\u001b[39m._parent = data.values\n",
      "\u001b[36mFile \u001b[39m\u001b[32m~\\AppData\\Local\\Packages\\PythonSoftwareFoundation.Python.3.11_qbz5n2kfra8p0\\LocalCache\\local-packages\\Python311\\site-packages\\pandas\\core\\arrays\\categorical.py:2940\u001b[39m, in \u001b[36mCategoricalAccessor._validate\u001b[39m\u001b[34m(data)\u001b[39m\n\u001b[32m   2939\u001b[39m \u001b[38;5;28;01mif\u001b[39;00m \u001b[38;5;129;01mnot\u001b[39;00m \u001b[38;5;28misinstance\u001b[39m(data.dtype, CategoricalDtype):\n\u001b[32m-> \u001b[39m\u001b[32m2940\u001b[39m     \u001b[38;5;28;01mraise\u001b[39;00m \u001b[38;5;167;01mAttributeError\u001b[39;00m(\u001b[33m\"\u001b[39m\u001b[33mCan only use .cat accessor with a \u001b[39m\u001b[33m'\u001b[39m\u001b[33mcategory\u001b[39m\u001b[33m'\u001b[39m\u001b[33m dtype\u001b[39m\u001b[33m\"\u001b[39m)\n",
      "\u001b[31mAttributeError\u001b[39m: Can only use .cat accessor with a 'category' dtype",
      "\nDuring handling of the above exception, another exception occurred:\n",
      "\u001b[31mKeyboardInterrupt\u001b[39m                         Traceback (most recent call last)",
      "\u001b[36mCell\u001b[39m\u001b[36m \u001b[39m\u001b[32mIn[59]\u001b[39m\u001b[32m, line 15\u001b[39m\n\u001b[32m     13\u001b[39m ax1 = plt.subplot(\u001b[32m4\u001b[39m, \u001b[32m2\u001b[39m, \u001b[32m1\u001b[39m)\n\u001b[32m     14\u001b[39m valid_prices_viz = analysis_df[analysis_df[\u001b[33m'\u001b[39m\u001b[33mprice_numeric\u001b[39m\u001b[33m'\u001b[39m] < \u001b[32m500000000\u001b[39m]  \u001b[38;5;66;03m# Cap at 50 Crore PKR for better visualization\u001b[39;00m\n\u001b[32m---> \u001b[39m\u001b[32m15\u001b[39m \u001b[43msns\u001b[49m\u001b[43m.\u001b[49m\u001b[43mhistplot\u001b[49m\u001b[43m(\u001b[49m\u001b[43mdata\u001b[49m\u001b[43m=\u001b[49m\u001b[43mvalid_prices_viz\u001b[49m\u001b[43m,\u001b[49m\u001b[43m \u001b[49m\u001b[43mx\u001b[49m\u001b[43m=\u001b[49m\u001b[33;43m'\u001b[39;49m\u001b[33;43mprice_numeric\u001b[39;49m\u001b[33;43m'\u001b[39;49m\u001b[43m,\u001b[49m\u001b[43m \u001b[49m\u001b[43mhue\u001b[49m\u001b[43m=\u001b[49m\u001b[33;43m'\u001b[39;49m\u001b[33;43msource\u001b[39;49m\u001b[33;43m'\u001b[39;49m\u001b[43m,\u001b[49m\u001b[43m \u001b[49m\u001b[43mbins\u001b[49m\u001b[43m=\u001b[49m\u001b[32;43m30\u001b[39;49m\u001b[43m,\u001b[49m\u001b[43m \u001b[49m\u001b[43malpha\u001b[49m\u001b[43m=\u001b[49m\u001b[32;43m0.7\u001b[39;49m\u001b[43m,\u001b[49m\u001b[43m \u001b[49m\u001b[43max\u001b[49m\u001b[43m=\u001b[49m\u001b[43max1\u001b[49m\u001b[43m)\u001b[49m\n\u001b[32m     16\u001b[39m ax1.set_title(\u001b[33m'\u001b[39m\u001b[33mPrice Distribution by Source (Capped at 50 Crore PKR)\u001b[39m\u001b[33m'\u001b[39m, fontsize=\u001b[32m14\u001b[39m, fontweight=\u001b[33m'\u001b[39m\u001b[33mbold\u001b[39m\u001b[33m'\u001b[39m)\n\u001b[32m     17\u001b[39m ax1.set_xlabel(\u001b[33m'\u001b[39m\u001b[33mPrice (PKR)\u001b[39m\u001b[33m'\u001b[39m)\n",
      "\u001b[36mFile \u001b[39m\u001b[32m~\\AppData\\Local\\Packages\\PythonSoftwareFoundation.Python.3.11_qbz5n2kfra8p0\\LocalCache\\local-packages\\Python311\\site-packages\\seaborn\\distributions.py:1384\u001b[39m, in \u001b[36mhistplot\u001b[39m\u001b[34m(data, x, y, hue, weights, stat, bins, binwidth, binrange, discrete, cumulative, common_bins, common_norm, multiple, element, fill, shrink, kde, kde_kws, line_kws, thresh, pthresh, pmax, cbar, cbar_ax, cbar_kws, palette, hue_order, hue_norm, color, log_scale, legend, ax, **kwargs)\u001b[39m\n\u001b[32m   1358\u001b[39m \u001b[38;5;28;01mdef\u001b[39;00m\u001b[38;5;250m \u001b[39m\u001b[34mhistplot\u001b[39m(\n\u001b[32m   1359\u001b[39m     data=\u001b[38;5;28;01mNone\u001b[39;00m, *,\n\u001b[32m   1360\u001b[39m     \u001b[38;5;66;03m# Vector variables\u001b[39;00m\n\u001b[32m   (...)\u001b[39m\u001b[32m   1376\u001b[39m     **kwargs,\n\u001b[32m   1377\u001b[39m ):\n\u001b[32m   1379\u001b[39m     p = _DistributionPlotter(\n\u001b[32m   1380\u001b[39m         data=data,\n\u001b[32m   1381\u001b[39m         variables=\u001b[38;5;28mdict\u001b[39m(x=x, y=y, hue=hue, weights=weights),\n\u001b[32m   1382\u001b[39m     )\n\u001b[32m-> \u001b[39m\u001b[32m1384\u001b[39m     \u001b[43mp\u001b[49m\u001b[43m.\u001b[49m\u001b[43mmap_hue\u001b[49m\u001b[43m(\u001b[49m\u001b[43mpalette\u001b[49m\u001b[43m=\u001b[49m\u001b[43mpalette\u001b[49m\u001b[43m,\u001b[49m\u001b[43m \u001b[49m\u001b[43morder\u001b[49m\u001b[43m=\u001b[49m\u001b[43mhue_order\u001b[49m\u001b[43m,\u001b[49m\u001b[43m \u001b[49m\u001b[43mnorm\u001b[49m\u001b[43m=\u001b[49m\u001b[43mhue_norm\u001b[49m\u001b[43m)\u001b[49m\n\u001b[32m   1386\u001b[39m     \u001b[38;5;28;01mif\u001b[39;00m ax \u001b[38;5;129;01mis\u001b[39;00m \u001b[38;5;28;01mNone\u001b[39;00m:\n\u001b[32m   1387\u001b[39m         ax = plt.gca()\n",
      "\u001b[36mFile \u001b[39m\u001b[32m~\\AppData\\Local\\Packages\\PythonSoftwareFoundation.Python.3.11_qbz5n2kfra8p0\\LocalCache\\local-packages\\Python311\\site-packages\\seaborn\\_base.py:838\u001b[39m, in \u001b[36mVectorPlotter.map_hue\u001b[39m\u001b[34m(self, palette, order, norm, saturation)\u001b[39m\n\u001b[32m    837\u001b[39m \u001b[38;5;28;01mdef\u001b[39;00m\u001b[38;5;250m \u001b[39m\u001b[34mmap_hue\u001b[39m(\u001b[38;5;28mself\u001b[39m, palette=\u001b[38;5;28;01mNone\u001b[39;00m, order=\u001b[38;5;28;01mNone\u001b[39;00m, norm=\u001b[38;5;28;01mNone\u001b[39;00m, saturation=\u001b[32m1\u001b[39m):\n\u001b[32m--> \u001b[39m\u001b[32m838\u001b[39m     mapping = \u001b[43mHueMapping\u001b[49m\u001b[43m(\u001b[49m\u001b[38;5;28;43mself\u001b[39;49m\u001b[43m,\u001b[49m\u001b[43m \u001b[49m\u001b[43mpalette\u001b[49m\u001b[43m,\u001b[49m\u001b[43m \u001b[49m\u001b[43morder\u001b[49m\u001b[43m,\u001b[49m\u001b[43m \u001b[49m\u001b[43mnorm\u001b[49m\u001b[43m,\u001b[49m\u001b[43m \u001b[49m\u001b[43msaturation\u001b[49m\u001b[43m)\u001b[49m\n\u001b[32m    839\u001b[39m     \u001b[38;5;28mself\u001b[39m._hue_map = mapping\n",
      "\u001b[36mFile \u001b[39m\u001b[32m~\\AppData\\Local\\Packages\\PythonSoftwareFoundation.Python.3.11_qbz5n2kfra8p0\\LocalCache\\local-packages\\Python311\\site-packages\\seaborn\\_base.py:150\u001b[39m, in \u001b[36mHueMapping.__init__\u001b[39m\u001b[34m(self, plotter, palette, order, norm, saturation)\u001b[39m\n\u001b[32m    147\u001b[39m \u001b[38;5;28;01melif\u001b[39;00m map_type == \u001b[33m\"\u001b[39m\u001b[33mcategorical\u001b[39m\u001b[33m\"\u001b[39m:\n\u001b[32m    149\u001b[39m     cmap = norm = \u001b[38;5;28;01mNone\u001b[39;00m\n\u001b[32m--> \u001b[39m\u001b[32m150\u001b[39m     levels, lookup_table = \u001b[38;5;28;43mself\u001b[39;49m\u001b[43m.\u001b[49m\u001b[43mcategorical_mapping\u001b[49m\u001b[43m(\u001b[49m\n\u001b[32m    151\u001b[39m \u001b[43m        \u001b[49m\u001b[43mdata\u001b[49m\u001b[43m,\u001b[49m\u001b[43m \u001b[49m\u001b[43mpalette\u001b[49m\u001b[43m,\u001b[49m\u001b[43m \u001b[49m\u001b[43morder\u001b[49m\u001b[43m,\u001b[49m\n\u001b[32m    152\u001b[39m \u001b[43m    \u001b[49m\u001b[43m)\u001b[49m\n\u001b[32m    154\u001b[39m \u001b[38;5;66;03m# --- Option 3: datetime mapping\u001b[39;00m\n\u001b[32m    155\u001b[39m \n\u001b[32m    156\u001b[39m \u001b[38;5;28;01melse\u001b[39;00m:\n\u001b[32m    157\u001b[39m     \u001b[38;5;66;03m# TODO this needs actual implementation\u001b[39;00m\n\u001b[32m    158\u001b[39m     cmap = norm = \u001b[38;5;28;01mNone\u001b[39;00m\n",
      "\u001b[36mFile \u001b[39m\u001b[32m~\\AppData\\Local\\Packages\\PythonSoftwareFoundation.Python.3.11_qbz5n2kfra8p0\\LocalCache\\local-packages\\Python311\\site-packages\\seaborn\\_base.py:224\u001b[39m, in \u001b[36mHueMapping.categorical_mapping\u001b[39m\u001b[34m(self, data, palette, order)\u001b[39m\n\u001b[32m    221\u001b[39m \u001b[38;5;250m\u001b[39m\u001b[33;03m\"\"\"Determine colors when the hue mapping is categorical.\"\"\"\u001b[39;00m\n\u001b[32m    222\u001b[39m \u001b[38;5;66;03m# -- Identify the order and name of the levels\u001b[39;00m\n\u001b[32m--> \u001b[39m\u001b[32m224\u001b[39m levels = \u001b[43mcategorical_order\u001b[49m\u001b[43m(\u001b[49m\u001b[43mdata\u001b[49m\u001b[43m,\u001b[49m\u001b[43m \u001b[49m\u001b[43morder\u001b[49m\u001b[43m)\u001b[49m\n\u001b[32m    225\u001b[39m n_colors = \u001b[38;5;28mlen\u001b[39m(levels)\n\u001b[32m    227\u001b[39m \u001b[38;5;66;03m# -- Identify the set of colors to use\u001b[39;00m\n",
      "\u001b[36mFile \u001b[39m\u001b[32m~\\AppData\\Local\\Packages\\PythonSoftwareFoundation.Python.3.11_qbz5n2kfra8p0\\LocalCache\\local-packages\\Python311\\site-packages\\seaborn\\_base.py:1771\u001b[39m, in \u001b[36mcategorical_order\u001b[39m\u001b[34m(vector, order)\u001b[39m\n\u001b[32m   1768\u001b[39m     order = vector.cat.categories\n\u001b[32m   1769\u001b[39m \u001b[38;5;28;01mexcept\u001b[39;00m (\u001b[38;5;167;01mTypeError\u001b[39;00m, \u001b[38;5;167;01mAttributeError\u001b[39;00m):\n\u001b[32m-> \u001b[39m\u001b[32m1771\u001b[39m     order = \u001b[43mpd\u001b[49m\u001b[43m.\u001b[49m\u001b[43mSeries\u001b[49m\u001b[43m(\u001b[49m\u001b[43mvector\u001b[49m\u001b[43m)\u001b[49m\u001b[43m.\u001b[49m\u001b[43munique\u001b[49m\u001b[43m(\u001b[49m\u001b[43m)\u001b[49m\n\u001b[32m   1773\u001b[39m     \u001b[38;5;28;01mif\u001b[39;00m variable_type(vector) == \u001b[33m\"\u001b[39m\u001b[33mnumeric\u001b[39m\u001b[33m\"\u001b[39m:\n\u001b[32m   1774\u001b[39m         order = np.sort(order)\n",
      "\u001b[36mFile \u001b[39m\u001b[32m~\\AppData\\Local\\Packages\\PythonSoftwareFoundation.Python.3.11_qbz5n2kfra8p0\\LocalCache\\local-packages\\Python311\\site-packages\\pandas\\core\\series.py:2416\u001b[39m, in \u001b[36mSeries.unique\u001b[39m\u001b[34m(self)\u001b[39m\n\u001b[32m   2353\u001b[39m \u001b[38;5;28;01mdef\u001b[39;00m\u001b[38;5;250m \u001b[39m\u001b[34munique\u001b[39m(\u001b[38;5;28mself\u001b[39m) -> ArrayLike:  \u001b[38;5;66;03m# pylint: disable=useless-parent-delegation\u001b[39;00m\n\u001b[32m   2354\u001b[39m \u001b[38;5;250m    \u001b[39m\u001b[33;03m\"\"\"\u001b[39;00m\n\u001b[32m   2355\u001b[39m \u001b[33;03m    Return unique values of Series object.\u001b[39;00m\n\u001b[32m   2356\u001b[39m \n\u001b[32m   (...)\u001b[39m\u001b[32m   2414\u001b[39m \u001b[33;03m    Categories (3, object): ['a' < 'b' < 'c']\u001b[39;00m\n\u001b[32m   2415\u001b[39m \u001b[33;03m    \"\"\"\u001b[39;00m\n\u001b[32m-> \u001b[39m\u001b[32m2416\u001b[39m     \u001b[38;5;28;01mreturn\u001b[39;00m \u001b[38;5;28;43msuper\u001b[39;49m\u001b[43m(\u001b[49m\u001b[43m)\u001b[49m\u001b[43m.\u001b[49m\u001b[43munique\u001b[49m\u001b[43m(\u001b[49m\u001b[43m)\u001b[49m\n",
      "\u001b[36mFile \u001b[39m\u001b[32m~\\AppData\\Local\\Packages\\PythonSoftwareFoundation.Python.3.11_qbz5n2kfra8p0\\LocalCache\\local-packages\\Python311\\site-packages\\pandas\\core\\base.py:1029\u001b[39m, in \u001b[36mIndexOpsMixin.unique\u001b[39m\u001b[34m(self)\u001b[39m\n\u001b[32m   1027\u001b[39m     result = values.unique()\n\u001b[32m   1028\u001b[39m \u001b[38;5;28;01melse\u001b[39;00m:\n\u001b[32m-> \u001b[39m\u001b[32m1029\u001b[39m     result = \u001b[43malgorithms\u001b[49m\u001b[43m.\u001b[49m\u001b[43munique1d\u001b[49m\u001b[43m(\u001b[49m\u001b[43mvalues\u001b[49m\u001b[43m)\u001b[49m\n\u001b[32m   1030\u001b[39m \u001b[38;5;28;01mreturn\u001b[39;00m result\n",
      "\u001b[36mFile \u001b[39m\u001b[32m~\\AppData\\Local\\Packages\\PythonSoftwareFoundation.Python.3.11_qbz5n2kfra8p0\\LocalCache\\local-packages\\Python311\\site-packages\\pandas\\core\\algorithms.py:401\u001b[39m, in \u001b[36munique\u001b[39m\u001b[34m(values)\u001b[39m\n\u001b[32m    307\u001b[39m \u001b[38;5;28;01mdef\u001b[39;00m\u001b[38;5;250m \u001b[39m\u001b[34munique\u001b[39m(values):\n\u001b[32m    308\u001b[39m \u001b[38;5;250m    \u001b[39m\u001b[33;03m\"\"\"\u001b[39;00m\n\u001b[32m    309\u001b[39m \u001b[33;03m    Return unique values based on a hash table.\u001b[39;00m\n\u001b[32m    310\u001b[39m \n\u001b[32m   (...)\u001b[39m\u001b[32m    399\u001b[39m \u001b[33;03m    array([('a', 'b'), ('b', 'a'), ('a', 'c')], dtype=object)\u001b[39;00m\n\u001b[32m    400\u001b[39m \u001b[33;03m    \"\"\"\u001b[39;00m\n\u001b[32m--> \u001b[39m\u001b[32m401\u001b[39m     \u001b[38;5;28;01mreturn\u001b[39;00m \u001b[43munique_with_mask\u001b[49m\u001b[43m(\u001b[49m\u001b[43mvalues\u001b[49m\u001b[43m)\u001b[49m\n",
      "\u001b[36mFile \u001b[39m\u001b[32m~\\AppData\\Local\\Packages\\PythonSoftwareFoundation.Python.3.11_qbz5n2kfra8p0\\LocalCache\\local-packages\\Python311\\site-packages\\pandas\\core\\algorithms.py:440\u001b[39m, in \u001b[36munique_with_mask\u001b[39m\u001b[34m(values, mask)\u001b[39m\n\u001b[32m    438\u001b[39m table = hashtable(\u001b[38;5;28mlen\u001b[39m(values))\n\u001b[32m    439\u001b[39m \u001b[38;5;28;01mif\u001b[39;00m mask \u001b[38;5;129;01mis\u001b[39;00m \u001b[38;5;28;01mNone\u001b[39;00m:\n\u001b[32m--> \u001b[39m\u001b[32m440\u001b[39m     uniques = \u001b[43mtable\u001b[49m\u001b[43m.\u001b[49m\u001b[43munique\u001b[49m\u001b[43m(\u001b[49m\u001b[43mvalues\u001b[49m\u001b[43m)\u001b[49m\n\u001b[32m    441\u001b[39m     uniques = _reconstruct_data(uniques, original.dtype, original)\n\u001b[32m    442\u001b[39m     \u001b[38;5;28;01mreturn\u001b[39;00m uniques\n",
      "\u001b[31mKeyboardInterrupt\u001b[39m: "
     ]
    },
    {
     "data": {
      "image/png": "[encoded data removed]",
      "text/plain": [
       "<Figure size 2000x2400 with 1 Axes>"
      ]
     },
     "metadata": {},
     "output_type": "display_data"
    }
   ],
   "source": [
    "# Comprehensive Visualizations by Category\n",
    "print(\"📊 CREATING CATEGORY-BASED VISUALIZATIONS\")\n",
    "print(\"=\"*45)\n",
    "\n",
    "plt.style.use('default')\n",
    "sns.set_palette(\"Set2\")\n",
    "\n",
    "categories = analysis_df['Category'].unique()\n",
    "n_cat = len(categories)\n",
    "fig, axes = plt.subplots(n_cat, 2, figsize=(18, 8 * n_cat))\n",
    "\n",
    "if n_cat == 1:\n",
    "    axes = np.array([axes])\n",
    "\n",
    "for i, cat in enumerate(categories):\n",
    "    cat_df = analysis_df[analysis_df['Category'] == cat]\n",
    "    cat_valid_prices = cat_df[cat_df['price_numeric'] < 500000000]\n",
    "\n",
    "    # 1. Price Distribution by Source for this Category\n",
    "    ax1 = axes[i, 0]\n",
    "    sns.histplot(data=cat_valid_prices, x='price_numeric', hue='source', bins=30, alpha=0.7, ax=ax1)\n",
    "    ax1.set_title(f'Price Distribution by Source: {cat}', fontsize=14, fontweight='bold')\n",
    "    ax1.set_xlabel('Price (PKR)')\n",
    "    ax1.set_ylabel('Count')\n",
    "\n",
    "    # 2. Top 10 Areas by Average Price for this Category\n",
    "    cat_stats = category_stats_filtered.xs(cat, level='Category').sort_values('avg_price', ascending=False).head(10)\n",
    "    ax2 = axes[i, 1]\n",
    "    bars = ax2.barh(range(len(cat_stats)), cat_stats['avg_price'])\n",
    "    ax2.set_yticks(range(len(cat_stats)))\n",
    "    ax2.set_yticklabels(cat_stats.index)\n",
    "    ax2.set_title(f'Top 10 Areas by Avg Price: {cat}', fontsize=14, fontweight='bold')\n",
    "    ax2.set_xlabel('Average Price (PKR)')\n",
    "    for j, v in enumerate(cat_stats['avg_price']):\n",
    "        ax2.text(v + v*0.02, j, f'{v/10000000:.1f}Cr', va='center', fontsize=9)\n",
    "\n",
    "plt.tight_layout()\n",
    "plt.show()\n",
    "\n",
    "print(\"✅ Visualizations created successfully!\")\n"
   ]
  },
  {
   "cell_type": "code",
   "execution_count": null,
   "id": "fe25d5e0",
   "metadata": {},
   "outputs": [
    {
     "name": "stdout",
     "output_type": "stream",
     "text": [
      "Requirement already satisfied: nbformat in c:\\users\\ahmad hassan\\appdata\\local\\packages\\pythonsoftwarefoundation.python.3.11_qbz5n2kfra8p0\\localcache\\local-packages\\python311\\site-packages (5.10.4)\n",
      "Requirement already satisfied: fastjsonschema>=2.15 in c:\\users\\ahmad hassan\\appdata\\local\\packages\\pythonsoftwarefoundation.python.3.11_qbz5n2kfra8p0\\localcache\\local-packages\\python311\\site-packages (from nbformat) (2.21.1)\n",
      "Requirement already satisfied: jsonschema>=2.6 in c:\\users\\ahmad hassan\\appdata\\local\\packages\\pythonsoftwarefoundation.python.3.11_qbz5n2kfra8p0\\localcache\\local-packages\\python311\\site-packages (from nbformat) (4.25.0)\n",
      "Requirement already satisfied: jupyter-core!=5.0.*,>=4.12 in c:\\users\\ahmad hassan\\appdata\\local\\packages\\pythonsoftwarefoundation.python.3.11_qbz5n2kfra8p0\\localcache\\local-packages\\python311\\site-packages (from nbformat) (5.8.1)\n",
      "Requirement already satisfied: traitlets>=5.1 in c:\\users\\ahmad hassan\\appdata\\local\\packages\\pythonsoftwarefoundation.python.3.11_qbz5n2kfra8p0\\localcache\\local-packages\\python311\\site-packages (from nbformat) (5.14.3)\n",
      "Requirement already satisfied: attrs>=22.2.0 in c:\\users\\ahmad hassan\\appdata\\local\\packages\\pythonsoftwarefoundation.python.3.11_qbz5n2kfra8p0\\localcache\\local-packages\\python311\\site-packages (from jsonschema>=2.6->nbformat) (25.3.0)\n",
      "Requirement already satisfied: jsonschema-specifications>=2023.03.6 in c:\\users\\ahmad hassan\\appdata\\local\\packages\\pythonsoftwarefoundation.python.3.11_qbz5n2kfra8p0\\localcache\\local-packages\\python311\\site-packages (from jsonschema>=2.6->nbformat) (2025.4.1)\n",
      "Requirement already satisfied: referencing>=0.28.4 in c:\\users\\ahmad hassan\\appdata\\local\\packages\\pythonsoftwarefoundation.python.3.11_qbz5n2kfra8p0\\localcache\\local-packages\\python311\\site-packages (from jsonschema>=2.6->nbformat) (0.36.2)\n",
      "Requirement already satisfied: rpds-py>=0.7.1 in c:\\users\\ahmad hassan\\appdata\\local\\packages\\pythonsoftwarefoundation.python.3.11_qbz5n2kfra8p0\\localcache\\local-packages\\python311\\site-packages (from jsonschema>=2.6->nbformat) (0.26.0)\n",
      "Requirement already satisfied: platformdirs>=2.5 in c:\\users\\ahmad hassan\\appdata\\local\\packages\\pythonsoftwarefoundation.python.3.11_qbz5n2kfra8p0\\localcache\\local-packages\\python311\\site-packages (from jupyter-core!=5.0.*,>=4.12->nbformat) (4.3.8)\n",
      "Requirement already satisfied: pywin32>=300 in c:\\users\\ahmad hassan\\appdata\\local\\packages\\pythonsoftwarefoundation.python.3.11_qbz5n2kfra8p0\\localcache\\local-packages\\python311\\site-packages (from jupyter-core!=5.0.*,>=4.12->nbformat) (310)\n",
      "Requirement already satisfied: typing-extensions>=4.4.0 in c:\\users\\ahmad hassan\\appdata\\local\\packages\\pythonsoftwarefoundation.python.3.11_qbz5n2kfra8p0\\localcache\\local-packages\\python311\\site-packages (from referencing>=0.28.4->jsonschema>=2.6->nbformat) (4.14.0)\n",
      "Note: you may need to restart the kernel to use updated packages.\n"
     ]
    }
   ],
   "source": [
    "%pip install nbformat\n",
    "\n",
    "import nbformat"
   ]
  },
  {
   "cell_type": "code",
   "execution_count": null,
   "id": "57c18c63",
   "metadata": {},
   "outputs": [
    {
     "name": "stdout",
     "output_type": "stream",
     "text": [
      "🎯 CREATING INTERACTIVE VISUALIZATIONS\n",
      "=============================================\n"
     ]
    },
    {
     "data": {
      "application/vnd.plotly.v1+json": {
       "config": {
        "plotlyServerURL": "https://plot.ly"
       },
       "data": [
        {
         "alignmentgroup": "True",
         "hovertemplate": "source=Zameen.com<br>Location=%{x}<br>Price (PKR)=%{y}<extra></extra>",
         "legendgroup": "Zameen.com",
         "marker": {
          "color": "#636efa"
         },
         "name": "Zameen.com",
         "notched": false,
         "offsetgroup": "Zameen.com",
         "orientation": "v",
         "showlegend": true,
         "type": "box",
         "x": [
          "Park View City, Lahore",
          "DHA",
          "DHA",
          "DHA",
          "Park View City - Tulip Block, Park View City",
          "Park View City, Lahore",
          "Park View City, Lahore",
          "Park View City, Lahore",
          "Park View City, Lahore",
          "DHA",
          "DHA",
          "Park View City - Crystal Block, Park View City",
          "Park View City, Lahore",
          "Faisal Town",
          "Model Town",
          "Model Town",
          "DHA",
          "DHA",
          "DHA",
          "DHA",
          "DHA",
          "DHA",
          "DHA",
          "Divine Gardens, Lahore",
          "DHA",
          "Bahria Town - Block AA, Bahria Town - Sector D",
          "DHA",
          "DHA",
          "Park View City, Lahore",
          "AWT Phase 2 - Block A, AWT Phase 2",
          "Bahria Town - Shaheen Block, Bahria Town - Sector B",
          "Park View City - Tulip Overseas, Park View City",
          "Askari 11 - Sector B, Askari 11",
          "Askari 11 - Sector D, Askari 11",
          "DHA",
          "Park View City - Tulip Block, Park View City",
          "Askari 11 - Sector D, Askari 11",
          "Askari 11 - Sector B Apartments, Askari 11",
          "Askari 11 - Sector D, Askari 11",
          "Askari 11 - Sector D, Askari 11",
          "DHA",
          "DHA",
          "Airport Road, Lahore",
          "Cantt",
          "DHA",
          "Eden Avenue, Eden",
          "DHA",
          "DHA",
          "DHA",
          "DHA",
          "DHA",
          "DHA",
          "Formanites Housing Scheme, Lahore",
          "Park View City, Lahore",
          "Park View City - Tulip Overseas, Park View City",
          "Al Rehman Garden Phase 2, Al Rehman Garden",
          "Architects Engineers Housing Society, Lahore",
          "Gulberg",
          "DHA",
          "Bahria Orchard Phase 2, Bahria Orchard",
          "DHA",
          "Pak Arab Housing Society, Lahore",
          "Saroba Gardens Housing Society, Lahore",
          "Cantt",
          "DHA",
          "Ferozepur Road, Lahore",
          "DHA",
          "DHA",
          "DHA",
          "DHA",
          "DHA",
          "Formanites Housing Scheme, Lahore",
          "Lake City Meadows Phase 1 - Block E, Lake City Meadows Phase 1",
          "DHA",
          "Lake City, Raiwind Road",
          "Punjab Coop Housing Society, Lahore",
          "IEP Engineers Town - Block E1, IEP Engineers Town - Sector A",
          "Punjab University Society Phase 2, Punjab University Employees Society",
          "Bahria Town - Sector E, Bahria Town",
          "Bahria Town - Jinnah Block, Bahria Town - Sector E",
          "Park View City - Tulip Extension Block, Park View City",
          "Cantt",
          "Cantt",
          "Cantt",
          "Park View City - Platinum Block, Park View City",
          "DHA",
          "DHA",
          "DHA",
          "DHA",
          "DHA",
          "DHA",
          "DHA",
          "DHA",
          "DHA",
          "DHA",
          "DHA",
          "DHA",
          "DHA",
          "DHA",
          "Park View City, Lahore",
          "Gulberg",
          "Bismillah Housing Scheme, GT Road",
          "Bismillah Housing Scheme, GT Road",
          "DHA",
          "DHA",
          "Etihad Town Phase 1 - Block B, Etihad Town Phase 1",
          "DHA",
          "DHA",
          "Kotha Pind, Lahore",
          "Nasheman-e-Iqbal Phase 2, Nasheman-e-Iqbal",
          "DHA",
          "DHA",
          "DHA",
          "DHA",
          "Park View City, Lahore",
          "Johar Town",
          "Park View City, Lahore",
          "Bahria Town - Ali Block, Bahria Town - Sector B",
          "Bahria Town - Sector C, Bahria Town",
          "DHA",
          "DHA",
          "DHA",
          "DHA",
          "Bismillah Housing Scheme - Iqbal Block, Bismillah Housing Scheme",
          "Johar Town",
          "DHA",
          "DHA",
          "Park View City, Lahore",
          "DHA",
          "DHA",
          "Park View City, Lahore",
          "Park View City, Lahore",
          "Park View City, Lahore",
          "Samanabad, Lahore",
          "Samanabad, Lahore",
          "Bahria Town - Safari Villas, Bahria Town - Sector B",
          "Bahria Town - Shaheen Block, Bahria Town - Sector B",
          "Bahria Town - Block AA, Bahria Town - Sector D",
          "DHA",
          "Bahria Town - Rafi Block, Bahria Town - Sector E",
          "Bahria Town - Block BB, Bahria Town - Sector D",
          "DHA",
          "Eden Boulevard - Block A, Eden Boulevard Housing Scheme",
          "Union Green, College Road",
          "Etihad Town Phase 1, Etihad Town",
          "Bahria Town - Block AA, Bahria Town - Sector D",
          "Al-Ghani Garden Phase 2, Al-Ghani Garden",
          "DHA",
          "Bahria Town - Overseas Enclave, Bahria Town",
          "DHA 9 Town - Block C, DHA 9 Town",
          "Allama Iqbal Town",
          "DHA",
          "DHA",
          "Gulberg",
          "Bahria Town - Gulmohar Block, Bahria Town - Sector C",
          "Park View City, Lahore",
          "Pak Arab Housing Society, Lahore",
          "Bahria Town - Gulbahar Block, Bahria Town - Sector C",
          "Bahria Town - Block AA, Bahria Town - Sector D",
          "Bahria Town - Janiper Block, Bahria Town - Sector C",
          "DHA",
          "DHA",
          "Bahria Town - Gulbahar Block, Bahria Town - Sector C",
          "Bahria Town - Rafi Block, Bahria Town - Sector E",
          "DHA",
          "DHA",
          "DHA",
          "DHA",
          "DHA",
          "Tariq Gardens - Block E, Tariq Gardens",
          "Valencia Housing Society, Lahore",
          "Bankers Avenue - Block D, Bankers Avenue Cooperative Housing Society",
          "Punjab Small Industries Colony, Lahore",
          "Park View City, Lahore",
          "DHA",
          "Park View City, Lahore",
          "Valencia Housing Society, Lahore",
          "DHA",
          "DHA",
          "DHA",
          "DHA",
          "Bahria Town - Chambelli Block, Bahria Town - Sector C",
          "Bahria Town - Tulip Block, Bahria Town - Sector C",
          "Wapda Town",
          "Bahria Town - Safari Villas, Bahria Town - Sector B",
          "Bahria Town - Gulbahar Block, Bahria Town - Sector C",
          "DHA",
          "DHA",
          "Bahria Town - Tulip Block, Bahria Town - Sector C",
          "Bahria Town - Jasmine Block, Bahria Town - Sector C",
          "DHA",
          "DHA",
          "DHA",
          "Gulberg",
          "DHA 11 Rahbar Phase 2, DHA 11 Rahbar",
          "Gulberg",
          "LDA Avenue, Lahore",
          "Bahria Town - Block BB, Bahria Town - Sector D",
          "DHA",
          "Valencia Housing Society, Lahore",
          "DHA",
          "Bahria Town - Overseas B, Bahria Town - Overseas Enclave",
          "Park View City, Lahore",
          "DHA",
          "DHA",
          "DHA",
          "DHA",
          "DHA",
          "DHA",
          "OLC - Block A, Overseas Low Cost",
          "Bahria Town - Johar Block, Bahria Town - Sector E",
          "DHA",
          "Lake City - Sector M-7, Lake City",
          "LDA Avenue, Lahore",
          "DHA",
          "Bahria Town - Jasmine Block, Bahria Town - Sector C",
          "Bahria Town - Nishtar Block, Bahria Town - Sector E",
          "Bahria Town - Umar Block, Bahria Town - Sector B",
          "Park View City, Lahore",
          "Bahria Town - Sector C, Bahria Town",
          "Bahria Town - Sector B, Bahria Town",
          "Bahria Town - Safari Villas, Bahria Town - Sector B",
          "Bahria Town - Sector C, Bahria Town",
          "Bahria Town - Sector C, Bahria Town",
          "Bahria Town - Overseas A, Bahria Town - Overseas Enclave",
          "DHA",
          "Bahria Town - Jinnah Block, Bahria Town - Sector E",
          "DHA",
          "DHA",
          "Bahria Town - Block CC, Bahria Town - Sector D",
          "Bahria Town - Overseas B, Bahria Town - Overseas Enclave",
          "Bahria Town - Overseas B, Bahria Town - Overseas Enclave",
          "Bahria Orchard Phase 2, Bahria Orchard",
          "Etihad Town Phase 1, Etihad Town",
          "DHA",
          "Etihad Town Phase 3, Jia Baga Road",
          "DHA",
          "Airport Road, Lahore",
          "Union Green, College Road",
          "Union Green, College Road",
          "Etihad Town Phase 1, Etihad Town",
          "IEP Engineers Town - Block C2, IEP Engineers Town - Sector A",
          "Bahria Orchard Phase 1, Bahria Orchard",
          "Etihad Town Phase 1, Etihad Town",
          "Cantt",
          "Cantt",
          "DHA",
          "Park View City - Silver Block, Park View City",
          "Park View City - Overseas Block, Park View City",
          "DHA",
          "OLC - Block B, Overseas Low Cost",
          "HBFC Housing Society - Block B, HBFC Housing Society",
          "DHA",
          "DHA",
          "DHA",
          "DHA",
          "HBFC Housing Society - Block A, HBFC Housing Society",
          "Park View City - Tulip Overseas, Park View City",
          "LDA City Phase 1, LDA City",
          "DHA",
          "Bahria Town - Tauheed Block, Bahria Town - Sector F",
          "DHA",
          "Bahria Education & Medical City, Lahore",
          "IEP Engineers Town - Block C1, IEP Engineers Town - Sector A",
          "Park View City - Overseas Block, Park View City",
          "DHA",
          "Bahria Town - Quaid Block, Bahria Town - Sector E",
          "Union Town, Abdul Sattar Edhi Road",
          "Park View City, Lahore",
          "New Lahore City Phase 3 - Block A, New Lahore City - Phase 3",
          "Park View City, Lahore",
          "Park View City - Tulip Overseas, Park View City",
          "Fazaia Housing Scheme Phase 2, Fazaia Housing Scheme",
          "Bismillah Housing Scheme - Haider Block, Bismillah Housing Scheme",
          "DHA",
          "Bahria Orchard Phase 2, Bahria Orchard",
          "DHA",
          "DHA",
          "DHA",
          "DHA",
          "DHA",
          "Bedian Road, Lahore",
          "Bedian Road, Lahore",
          "DHA",
          "DHA",
          "LDA Avenue, Lahore",
          "Park View City - Tulip Overseas, Park View City",
          "Lake City - Sector M-6, Lake City",
          "Lake City - Sector M-6, Lake City",
          "Union Town, Abdul Sattar Edhi Road",
          "Union Town, Abdul Sattar Edhi Road",
          "Bahria Town - Ghazi Block, Bahria Town - Sector F",
          "Etihad Town Phase 3, Jia Baga Road",
          "Park View City - Rose Block, Park View City",
          "Park View City - Tulip Extension Block, Park View City",
          "DHA 11 Rahbar Phase 4 - Block Q, DHA 11 Rahbar Phase 4",
          "DHA",
          "DHA",
          "DHA",
          "DHA",
          "Nasheman-e-Iqbal Phase 2, Nasheman-e-Iqbal",
          "DHA",
          "Wapda Town",
          "PGECHS Phase 2, Punjab Govt Employees Society",
          "LDA Avenue, Lahore",
          "DHA",
          "Lake City - Sector M-3 Extension 1, Lake City",
          "DHA",
          "DHA",
          "Central Park Housing Scheme, Lahore",
          "Park View City - Overseas Block, Park View City",
          "NFC 2, Lahore",
          "DHA",
          "Pine Avenue, Lahore",
          "Golf View Residencia - Phase 1, Golf View Residencia",
          "Bahria Town - Jinnah Extension Block, Bahria Town - Sector E",
          "P & D Housing Society - Phase 2, P & D Housing Society",
          "Zam Zam City, GT Road",
          "IEP Engineers Town - Block E1, IEP Engineers Town - Sector A",
          "P&D Fort II, Main Canal Bank Road",
          "DHA",
          "DHA",
          "DHA",
          "DHA",
          "DHA",
          "DHA",
          "DHA",
          "Bahria Town - Overseas Extension, Bahria Town - Overseas Enclave",
          "DHA",
          "DHA",
          "Bahria Town - Talha Block, Bahria Town - Sector E",
          "Bahria Town - Overseas B, Bahria Town - Overseas Enclave",
          "IEP Engineers Town - Block E1, IEP Engineers Town - Sector A",
          "DHA",
          "OLC - Block A, Overseas Low Cost",
          "Bahria Education & Medical City, Lahore",
          "Bahria Education & Medical City, Lahore",
          "Bahria Town - Janiper Block, Bahria Town - Sector C",
          "Central Park - Block A1, Central Park Housing Scheme",
          "IEP Engineers Town - Block D2, IEP Engineers Town - Sector A",
          "Park View City, Lahore",
          "Union Town, Abdul Sattar Edhi Road",
          "DHA 11 Rahbar Phase 4, DHA 11 Rahbar",
          "DHA 11 Rahbar Phase 2, DHA 11 Rahbar",
          "DHA",
          "DHA",
          "DHA",
          "DHA",
          "DHA",
          "DHA",
          "DHA",
          "DHA",
          "Bahria Town - Johar Block, Bahria Town - Sector E",
          "Bahria Town - Tulip Block, Bahria Town - Sector C",
          "Golf View Residencia - Phase 1, Golf View Residencia",
          "DHA",
          "Haven Farms, Sue-e-Asal Road",
          "New Lahore City - Phase 3, New Lahore City",
          "Bahria Town - Nishtar Block, Bahria Town - Sector E",
          "Fazaia Housing Scheme Phase 1, Fazaia Housing Scheme",
          "Bahria Orchard Phase 4 - Block G6, Bahria Orchard Phase 4",
          "DHA",
          "DHA",
          "DHA 11 Rahbar Phase 4 - Block Q, DHA 11 Rahbar Phase 4",
          "Bahria Town - Tulip Extension, Bahria Town - Sector C",
          "Union Town, Abdul Sattar Edhi Road",
          "Union Livings, Main Canal Bank Road",
          "Union Green, College Road",
          "Eden Boulevard Housing Scheme, College Road",
          "DHA",
          "DHA",
          "DHA",
          "DHA",
          "DHA",
          "Eden Residencia, Eden",
          "DHA",
          "DHA",
          "DHA",
          "DHA",
          "Bahria Town - Talha Block, Bahria Town - Sector E",
          "Bahria Town - Tauheed Block, Bahria Town - Sector F",
          "Park View City - Diamond Block, Park View City",
          "DHA",
          "DHA",
          "DHA",
          "DHA",
          "Bahria Orchard Phase 2, Bahria Orchard",
          "Park View City - Overseas Block, Park View City",
          "Union Livings, Main Canal Bank Road",
          "Union Town, Abdul Sattar Edhi Road",
          "Etihad Town Phase 1, Etihad Town",
          "DHA",
          "DHA",
          "DHA",
          "DHA",
          "DHA",
          "DHA",
          "IVY Farms, Barki Road",
          "Park View City - Silver Block, Park View City",
          "DHA",
          "LDA City Phase 1, LDA City",
          "DHA",
          "DHA",
          "DHA",
          "DHA",
          "DHA",
          "DHA",
          "DHA",
          "DHA",
          "DHA",
          "DHA",
          "Union Greens Phase 2, Pine Avenue",
          "Etihad Town Phase 1, Etihad Town",
          "Union Greens Phase 2, Pine Avenue",
          "Union Town, Abdul Sattar Edhi Road",
          "Jubilee Town - Block F, Jubilee Town",
          "DHA 9 Town - Block A, DHA 9 Town",
          "Park View City - Crystal Block, Park View City",
          "Park View City - Crystal Block, Park View City",
          "DHA 9 Town - Block A, DHA 9 Town",
          "Park View City, Lahore",
          "DHA 9 Town - Block A, DHA 9 Town",
          "Park View City - Pearl Block, Park View City",
          "TIP Housing Society - Phase 3, TIP Housing Society",
          "DHA",
          "DHA",
          "Low Cost - Block F, Low Cost Sector",
          "Bahria Orchard Phase 4 - Block G7, Bahria Orchard Phase 4",
          "Bahria Orchard Phase 4 - Block G5, Bahria Orchard Phase 4",
          "DHA",
          "DHA",
          "New Lahore City - Phase 2, New Lahore City",
          "Bahria Town - Sector E, Bahria Town",
          "Eden Residencia, Eden",
          "DHA",
          "DHA",
          "Jubilee Town - Block F, Jubilee Town",
          "IEP Engineers Town - Block F2, IEP Engineers Town - Sector A",
          "Formanites Housing Scheme - Block M, Formanites Housing Scheme",
          "Park View City - Tulip Block, Park View City",
          "Low Cost - Block D Extension, Low Cost Sector",
          "Park View City - Overseas Block, Park View City",
          "DHA",
          "Nasheman-e-Iqbal Phase 2, Nasheman-e-Iqbal",
          "DHA",
          "DHA",
          "DHA",
          "DHA",
          "Park View City - Crystal Block, Park View City",
          "Park View City - Overseas Block, Park View City",
          "Park View City - Tulip Overseas, Park View City",
          "DHA",
          "DHA",
          "DHA",
          "DHA",
          "DHA",
          "AWT Phase 2, AWT Army Welfare Trust",
          "DHA",
          "Park View City - Platinum Block, Park View City",
          "Khayaban-e-Amin - Block L, Khayaban-e-Amin",
          "OLC - Block B, Overseas Low Cost",
          "Park View City - Crystal Block, Park View City",
          "Lake City - Sector M7 - Block C3, Lake City - Sector M-7",
          "Park View City - Tulip Overseas, Park View City",
          "LDA Avenue - Block B, LDA Avenue",
          "Lake City - Sector M-3, Lake City",
          "DHA",
          "DHA",
          "DHA",
          "DHA",
          "DHA",
          "Park View City, Lahore",
          "Bahria Town - Sector E, Bahria Town",
          "Askari 11, Askari",
          "Bahria Town - Quaid Block, Bahria Town - Sector E",
          "Tricon Corporate Centre, Jail Road",
          "DHA",
          "DHA",
          "Askari 10 - Sector S, Askari 10",
          "DHA",
          "Askari 11 - Sector C, Askari 11",
          "DHA",
          "DHA 9 Town - Block C, DHA 9 Town",
          "DHA",
          "Faisal Town",
          "Model Town",
          "Divine Gardens, Lahore",
          "Park View City, Lahore",
          "DHA",
          "DHA",
          "Johar Town",
          "The Spring Apartment Homes, Main Canal Bank Road",
          "DHA",
          "Sui Gas Society Phase 1 - Block D, Sui Gas Society Phase 1",
          "Bahria Town - Jasmine Block, Bahria Town - Sector C",
          "Johar Town",
          "Bahria Town - Block CC, Bahria Town - Sector D",
          "DHA",
          "DHA",
          "Bahria Town - Nishtar Block, Bahria Town - Sector E",
          "DHA",
          "DHA",
          "DHA",
          "DHA",
          "Askari 11 - Sector C, Askari 11",
          "DHA",
          "Bahria Town - Sector C, Bahria Town",
          "DHA",
          "DHA",
          "LDA Avenue, Lahore",
          "Johar Town",
          "AWT Phase 1, AWT Army Welfare Trust",
          "DHA",
          "DHA",
          "Johar Town",
          "Bahria Town - Sector C, Bahria Town",
          "Johar Town",
          "Askari 11, Askari",
          "Bahria Town - Sector E, Bahria Town",
          "DHA",
          "DHA",
          "DHA",
          "Askari 11, Askari",
          "Askari 11 - Sector D, Askari 11",
          "Bahria Town - Sector E, Bahria Town",
          "Bahria Town - Sector E, Bahria Town",
          "DHA",
          "DHA 11 Rahbar Phase 2 - Block L, DHA 11 Rahbar Phase 2",
          "DHA",
          "DHA",
          "Askari 11, Askari",
          "Bahria Town - Sector E, Bahria Town",
          "Gulberg",
          "Gulberg",
          "LDA Avenue, Lahore",
          "Gulberg",
          "Gulberg",
          "Etihad Town Phase 1, Etihad Town",
          "DHA",
          "DHA",
          "Lake City Meadows Phase 1 - Block F, Lake City Meadows Phase 1",
          "Valencia Housing Society, Lahore",
          "Punjab Small Industries Colony, Lahore",
          "Gulberg",
          "Askari 11 - Sector B, Askari 11",
          "Bahria Town - Sector B, Bahria Town",
          "Bedian Road, Lahore",
          "DHA",
          "DHA",
          "DHA",
          "DHA",
          "DHA",
          "Askari 11 - Sector B Apartments, Askari 11",
          "Central Park - Block E, Central Park Housing Scheme",
          "Askari 10, Askari",
          "Garden Town",
          "Etihad Town Phase 1, Etihad Town",
          "Nasheman-e-Iqbal Phase 2, Nasheman-e-Iqbal",
          "Siddiqia Society (College Road), Lahore",
          "Bahria Town - Tulip Block, Bahria Town - Sector C",
          "DHA",
          "Gulberg",
          "Gulberg",
          "Gulberg",
          "DHA",
          "Askari 11 - Sector C, Askari 11",
          "Gulberg",
          "Oyster Court Luxury Residences, MM Alam Road",
          "Cantt",
          "DHA",
          "Samanabad, Lahore",
          "DHA",
          "Gulberg",
          "DHA",
          "EME Society - Block F, EME Society",
          "DHA",
          "DHA",
          "Askari 10 - Sector S, Askari 10",
          "DHA",
          "Model Town",
          "Garden Town",
          "Gulberg",
          "Gulberg",
          "DHA",
          "DHA",
          "Gulberg",
          "Gulberg",
          "Cantt",
          "Gulberg",
          "Gulberg",
          "Bahria Town - Sector C, Bahria Town",
          "DHA",
          "DHA",
          "DHA",
          "DHA",
          "Bahria Town - Overseas B, Bahria Town - Overseas Enclave",
          "Valencia Housing Society, Lahore",
          "Gulberg",
          "DHA",
          "DHA",
          "Bahria Town - Sector B, Bahria Town",
          "DHA",
          "DHA",
          "PCSIR Housing Scheme Phase 2, PCSIR Housing Scheme",
          "Park View City, Lahore",
          "DHA",
          "DHA",
          "Formanites Housing Scheme, Lahore",
          "New Muslim Town, Lahore",
          "DHA",
          "DHA",
          "DHA",
          "DHA",
          "DHA",
          "LDA Avenue - Block M, LDA Avenue",
          "DHA",
          "LDA Avenue - Block J, LDA Avenue",
          "OPF Housing Scheme - Block B, OPF Housing Scheme",
          "LDA Avenue - Block J, LDA Avenue",
          "DHA",
          "DHA",
          "Askari 10 - Sector S, Askari 10",
          "DHA",
          "DHA",
          "Gulberg",
          "Wapda Town",
          "Bahria Town - Sector C, Bahria Town",
          "Bahria Town - Block AA, Bahria Town - Sector D",
          "DHA",
          "Park View City, Lahore",
          "DHA",
          "DHA",
          "DHA",
          "DHA",
          "Punjab Coop Housing Society, Lahore",
          "Bahria Town - Sector C, Bahria Town",
          "Gulberg",
          "Gulberg",
          "Gulberg",
          "DHA 11 Rahbar Phase 1, DHA 11 Rahbar",
          "DHA",
          "Gulberg",
          "Gulberg",
          "Etihad Town Phase 1, Etihad Town",
          "Bahria Town - Sector C, Bahria Town",
          "Gulberg",
          "Gulberg",
          "DHA",
          "DHA",
          "Garden Town",
          "Garden Town",
          "DHA",
          "DHA",
          "DHA",
          "DHA",
          "DHA",
          "Bahria Town - Block AA, Bahria Town - Sector D",
          "Bahria Town - Sector E, Bahria Town",
          "DHA",
          "Bahria Town - Jasmine Block, Bahria Town - Sector C",
          "DHA",
          "Etihad Town Phase 1, Etihad Town",
          "Etihad Town Phase 1, Etihad Town",
          "Etihad Town Phase 1, Etihad Town",
          "Etihad Town Phase 1, Etihad Town",
          "Etihad Town Phase 1, Etihad Town",
          "Alfalah Town, Lahore",
          "DHA",
          "DHA",
          "DHA",
          "Lake City Meadows, Lahore",
          "Gulberg",
          "DHA",
          "DHA",
          "HBFC Housing Society, Lahore",
          "Bahria Town - Tulip Block, Bahria Town - Sector C",
          "DHA",
          "Askari 11, Askari",
          "Johar Town",
          "DHA",
          "DHA",
          "DHA",
          "DHA",
          "Johar Town",
          "Johar Town",
          "Johar Town",
          "Park View City - Platinum Block, Park View City",
          "Park View City - Executive Block, Park View City",
          "DHA",
          "Bahria Town - Jasmine Block, Bahria Town - Sector C",
          "Gulberg",
          "Bahria Orchard Phase 2, Bahria Orchard",
          "Model Town",
          "Gulberg",
          "DHA",
          "DHA",
          "DHA",
          "Askari 10 - Sector S, Askari 10",
          "DHA",
          "DHA",
          "Bahria Town - Sector E, Bahria Town",
          "Askari 11 - Sector B Apartments, Askari 11",
          "Bahria Town - Sector E, Bahria Town",
          "Bahria Town - Sector F, Bahria Town",
          "DHA",
          "DHA",
          "Park View City, Lahore",
          "Park View City, Lahore",
          "DHA",
          "Model Town",
          "DHA",
          "Bahria Town - Sector C, Bahria Town",
          "Gulberg",
          "Garden Town",
          "Gulberg",
          "Garden Town",
          "Gulberg",
          "Model Town",
          "Johar Town",
          "Bahria Town - Iqbal Block, Bahria Town - Sector E",
          "Green Avenue Society - Block A, Green Avenue Housing Society",
          "DHA",
          "DHA",
          "DHA",
          "DHA",
          "GT Road, Lahore",
          "Lakshmi Chowk, Lahore",
          "Al-Jannat Housing Society - Kahna, Lahore",
          "Zameen Arx, CBD Punjab (PCBDDA)",
          "DHA",
          "Bahria Town - Iqbal Block, Bahria Town - Sector E",
          "Valencia - Block H, Valencia Housing Society",
          "Bahria Town - Johar Block, Bahria Town - Sector E",
          "Etihad Town Phase 1, Etihad Town",
          "Gulberg",
          "Cavalry Ground, Lahore",
          "DHA",
          "DHA",
          "Bahria Town - Iqbal Block, Bahria Town - Sector E",
          "Bankers Housing Society - Block B, Bankers Co-operative Housing Society",
          "Gulberg",
          "DHA",
          "Bahria Town - Tulip Block, Bahria Town - Sector C",
          "Bahria Town - Quaid Block, Bahria Town - Sector E",
          "DHA",
          "The Vertical, Khayaban-e-Amin",
          "DHA",
          "Gulberg",
          "Jasmine Mall, Bahria Town",
          "Gulberg",
          "DHA",
          "DHA",
          "Gulberg",
          "Bahria Town - Overseas Extension, Bahria Town - Overseas Enclave",
          "Sundar Industrial Estate, Lahore",
          "DHA",
          "DHA",
          "DHA",
          "Bankers Town, Lahore",
          "Gulberg",
          "DHA",
          "Etihad Town Phase 1, Etihad Town",
          "Punjab University Phase 2 - Block A, Punjab University Society Phase 2",
          "DHA",
          "DHA",
          "Gulberg",
          "DHA",
          "Kot Khawaja Saeed, Lahore",
          "DHA",
          "Bahria Town - Iqbal Block, Bahria Town - Sector E",
          "Garden Town",
          "DHA",
          "Gulberg",
          "Military Accounts Housing Society, Lahore",
          "PGECHS Phase 1 - Block A1, PGECHS Phase 1",
          "Bahria Town - Talha Block, Bahria Town - Sector E",
          "Bahria Town - Nishtar Block, Bahria Town - Sector E",
          "PIA Housing Scheme, Lahore",
          "Gulberg",
          "Tower 21, Ali Zaib Road",
          "Gulberg",
          "Paragon City, Lahore",
          "PGECHS Phase 2, Punjab Govt Employees Society",
          "DHA",
          "Bankers Housing Society - Block B, Bankers Co-operative Housing Society",
          "Johar Town",
          "DHA",
          "Al-Kabir Town - Phase 2, Al-Kabir Town",
          "Gulberg",
          "Gulberg",
          "Gulberg",
          "AWT Phase 2, AWT Army Welfare Trust",
          "Quaid-e-Azam Industrial Estate, Lahore",
          "Quaid-e-Azam Industrial Estate, Lahore",
          "Gulberg",
          "Bahria Town - Sector C, Bahria Town",
          "Bahria Town - Johar Block, Bahria Town - Sector E",
          "DHA",
          "Gulberg",
          "Gulberg",
          "Cantt",
          "DHA",
          "DHA",
          "Jubilee Town, Lahore",
          "Johar Town",
          "Gulberg",
          "Gulberg",
          "Ferozepur Road, Lahore",
          "Jail Road, Lahore",
          "Manga - Raiwind Road, Lahore",
          "DHA",
          "Pine Avenue, Lahore",
          "Jasmine Mall, Bahria Town",
          "DHA",
          "DHA",
          "Gulberg",
          "Gulberg",
          "Gulberg",
          "Gulberg",
          "Gulberg",
          "Bahria Town - Nishtar Block, Bahria Town - Sector E",
          "DHA",
          "Ferozepur Road, Lahore",
          "Jallo More, Jallo",
          "Wapda Town",
          "DHA",
          "DHA",
          "Gulberg",
          "The Vertical, Khayaban-e-Amin",
          "Gulberg",
          "DHA",
          "Bhatta Chowk, Lahore",
          "Zamil Heights 1, Bahria Orchard",
          "Al-Kabir Town - Phase 2, Al-Kabir Town",
          "Gulberg",
          "Gulberg",
          "DHA",
          "Gajju Matah, Lahore",
          "Bahria Town - Block AA, Bahria Town - Sector D",
          "Gulberg",
          "Nai Abadi Harbanspura, Lahore",
          "Gulberg",
          "Gulberg",
          "Khayaban-e-Amin, Lahore",
          "Qadri Colony, Lahore",
          "Farooq Colony, Lahore",
          "Ferozepur Road, Lahore",
          "Ichhra, Lahore",
          "Peer Colony, Lahore",
          "Gulberg",
          "Gulberg",
          "Bahria Town - Sector B, Bahria Town",
          "Bahria Town - Sector C, Bahria Town",
          "Gulshan-e-Ravi, Lahore",
          "Samanabad, Lahore",
          "DHA",
          "DHA",
          "Gulberg",
          "Quaid-e-Azam Industrial Estate, Lahore",
          "Gulberg",
          "Poonch Road, Lahore",
          "Bahria Town - Johar Block, Bahria Town - Sector E",
          "Gulberg",
          "DHA",
          "Bahria Town - Sector C, Bahria Town",
          "Gulberg",
          "Bahria Town - Johar Block, Bahria Town - Sector E",
          "Bahria Town - Nishtar Block, Bahria Town - Sector E",
          "Bahria Orchard Phase 4 - Block G2, Bahria Orchard Phase 4",
          "Midway Commercial, Bahria Town",
          "Johar Town",
          "Gulberg",
          "DHA",
          "Cantt",
          "PIA Main Boulevard, Lahore",
          "Airport Road, Lahore",
          "DHA",
          "Badami Bagh, Lahore",
          "Bahria Town - Jasmine Block, Bahria Town - Sector C",
          "Bahria Town - Iqbal Block, Bahria Town - Sector E",
          "Bahria Town - Iqbal Block, Bahria Town - Sector E",
          "Bahria Town - Iqbal Block, Bahria Town - Sector E",
          "Jinnah Avenue, Bahria Town",
          "Midway Commercial, Bahria Town",
          "Midway Commercial, Bahria Town",
          "Midway Commercial, Bahria Town",
          "College Road, Lahore",
          "Sheikhupura Road, Lahore",
          "Garden Town",
          "Etihad Town Phase 1, Etihad Town",
          "Shadman 1, Shadman",
          "DHA",
          "Bahria Town - Sector C, Bahria Town",
          "Lake City, Raiwind Road",
          "Gulberg",
          "DHA",
          "Gulberg",
          "Gulberg",
          "Gulberg",
          "Bahria Town - Block AA, Bahria Town - Sector D",
          "Midway Commercial, Bahria Town",
          "Midway Commercial, Bahria Town",
          "Midway Commercial, Bahria Town",
          "Midway Commercial, Bahria Town",
          "Midway Commercial, Bahria Town",
          "Midway Commercial, Bahria Town",
          "Midway Commercial, Bahria Town",
          "Midway Commercial, Bahria Town",
          "DHA",
          "Wahdat Road, Lahore",
          "DHA",
          "Bahria Town - Nishtar Block, Bahria Town - Sector E",
          "New Lahore City - Block B, New Lahore City - Phase 2",
          "DHA",
          "Golf View Residencia - Phase 1, Golf View Residencia",
          "DHA",
          "Jail Road, Lahore",
          "LDA Avenue - Block F, LDA Avenue",
          "DHA",
          "Commercial Plaza At Liberty Market, Liberty Market",
          "Ferozepur Road, Lahore",
          "DHA",
          "Bahria Town - Johar Block, Bahria Town - Sector E",
          "Bahria Town - Johar Block, Bahria Town - Sector E",
          "Icon Valley Phase 2, Raiwind Road",
          "DHA",
          "Gulberg",
          "DHA",
          "DHA",
          "DHA",
          "DHA",
          "DHA",
          "DHA",
          "Gulshan-e-Lahore, Lahore",
          "Bahria Town - Sector E, Bahria Town",
          "DHA",
          "Airline Housing Society, Lahore",
          "Askari 11, Askari",
          "Bahria Town - Jasmine Block, Bahria Town - Sector C",
          "Park View City, Lahore",
          "Johar Town",
          "Askari 11, Askari",
          "Askari 11, Askari",
          "Rehman Gardens, Lahore",
          "Askari 11 - Sector B Apartments, Askari 11",
          "Bahria Town - Sector F, Bahria Town",
          "Bahria Town - Iqbal Block, Bahria Town - Sector E",
          "Bahria Town - Tulip Block, Bahria Town - Sector C",
          "Bahria Town - Nishtar Block, Bahria Town - Sector E",
          "Bahria Town - Jinnah Block, Bahria Town - Sector E",
          "Formanites Housing Scheme, Lahore",
          "Etihad Town Phase 1, Etihad Town",
          "DHA",
          "DHA",
          "DHA",
          "Al Rehman Garden Phase 2, Al Rehman Garden",
          "Al Rehman Garden Phase 2, Al Rehman Garden",
          "Askari 10, Askari",
          "Askari 10 - Sector S, Askari 10",
          "DHA",
          "Central Park Housing Scheme, Lahore",
          "DHA",
          "DHA",
          "DHA",
          "EME Society, Lahore",
          "PCSIR Housing Scheme Phase 2, PCSIR Housing Scheme",
          "Park View City, Lahore",
          "DHA",
          "Architects Engineers Housing Society, Lahore",
          "DHA",
          "DHA",
          "Punjab Coop Housing - Block A, Punjab Coop Housing Society",
          "Canal Bank Housing Scheme, Lahore",
          "Wapda Town",
          "DHA",
          "DHA",
          "Al Rehman Garden Phase 2, Al Rehman Garden",
          "Al Rehman Garden Phase 2, Al Rehman Garden",
          "Al Rehman Garden Phase 2, Al Rehman Garden",
          "Al Rehman Garden Phase 2, Al Rehman Garden",
          "Al Rehman Garden Phase 2, Al Rehman Garden",
          "Chinar Bagh, Lahore",
          "Sabzazar Scheme - Block L, Sabzazar Scheme",
          "DHA",
          "DHA 11 Rahbar Phase 2 - Block F, DHA 11 Rahbar Phase 2",
          "DHA",
          "DHA",
          "DHA",
          "Township Sector D1 - Block 1, Township - Sector D1",
          "Gulshan-e-Lahore, Lahore",
          "Punjab University Society Phase 2, Punjab University Employees Society",
          "Bahria Town - Block DD, Bahria Town - Sector D",
          "Rehman Gardens, Lahore",
          "DHA",
          "DHA",
          "DHA",
          "Sabzazar Scheme, Lahore",
          "DHA",
          "DHA",
          "Shadab Garden, Lahore",
          "Punjab Coop Housing Society, Lahore",
          "Al Rehman Garden Phase 2, Al Rehman Garden",
          "DHA",
          "DHA",
          "PGECHS Phase 2, Punjab Govt Employees Society",
          "Bahria Town - Block CC, Bahria Town - Sector D",
          "Al-Ahmad Garden Housing Scheme, GT Road",
          "Park View City, Lahore",
          "Park View City - Tulip Overseas, Park View City",
          "Ali Park - Block F, Ali Park",
          "Lake City Meadows Phase 1 - Block A, Lake City Meadows Phase 1",
          "DHA",
          "Park View City, Lahore",
          "Park View City, Lahore",
          "Park View City, Lahore",
          "Paragon City - Imperial 2 Block, Paragon City",
          "Paragon City - Imperial 2 Block, Paragon City",
          "Punjab Coop Housing Society, Lahore",
          "DHA",
          "DHA",
          "Park View City, Lahore",
          "Park View City, Lahore",
          "Park View City, Lahore",
          "Park View City, Lahore",
          "DHA",
          "Bahria Homes, Bahria Town - Sector E",
          "DHA",
          "DHA",
          "DHA",
          "Al-Ahmad Garden - Block D, Al-Ahmad Garden Housing Scheme",
          "Park View City, Lahore",
          "Park View City, Lahore",
          "Park View City, Lahore",
          "DHA",
          "DHA",
          "Paragon City - Imperial 2 Block, Paragon City",
          "Al-Ghani Garden Phase 2, Al-Ghani Garden",
          "DHA",
          "Bahria Town - Sector E, Bahria Town",
          "Bahria Town - Sector E, Bahria Town",
          "Park View City, Lahore",
          "Park View City, Lahore",
          "DHA",
          "DHA",
          "DHA",
          "Al Rehman Garden Phase 2, Al Rehman Garden",
          "Paragon City, Lahore",
          "DHA",
          "DHA",
          "DHA",
          "Park View City, Lahore",
          "Bahria Town - Nishtar Block, Bahria Town - Sector E",
          "DHA",
          "DHA",
          "Bahria Town - Sector C, Bahria Town",
          "DHA 11 Rahbar Phase 2, DHA 11 Rahbar",
          "Askari 10, Askari",
          "SJ Garden, Bedian Road",
          "Park View City - Diamond Block, Park View City",
          "Askari 11 - Sector B Apartments, Askari 11",
          "Paragon City, Lahore",
          "Paragon City, Lahore",
          "Paragon City, Lahore",
          "Al Wajaf Apartments, Kamahan Road",
          "Green Forts 2, Green Fort",
          "DHA",
          "Park View City, Lahore",
          "Askari 11 - Sector B, Askari 11",
          "Lake City Meadows Phase 1, Lake City Meadows",
          "Bahria Town - Sector E, Bahria Town",
          "DHA",
          "DHA",
          "Faisal Town",
          "Bismillah Housing Scheme, GT Road",
          "Central Park Housing Scheme, Lahore",
          "Park View City - Tulip Overseas, Park View City",
          "Park View City - Tulip Extension Block, Park View City",
          "DHA",
          "DHA",
          "DHA",
          "DHA",
          "DHA",
          "Shadab Garden, Lahore",
          "DHA",
          "DHA",
          "Bahria Town - Safari Villas, Bahria Town - Sector B",
          "Park View City, Lahore",
          "Park View City, Lahore",
          "DHA",
          "DHA",
          "DHA",
          "DHA",
          "Bahria Town - Sector C, Bahria Town",
          "Formanites Housing Scheme, Lahore",
          "Bahria Orchard Phase 2, Bahria Orchard",
          "DHA",
          "Paragon City - Woods Block, Paragon City",
          "Park View City, Lahore",
          "Park View City, Lahore",
          "DHA",
          "Paragon City - Orchard 1 Block, Paragon City",
          "Paragon City - Imperial 2 Block, Paragon City",
          "Bismillah Housing Scheme, GT Road",
          "DHA",
          "DHA",
          "Bahria Town - Sector E, Bahria Town",
          "DHA",
          "DHA",
          "DHA",
          "New Lahore City, Lahore",
          "Lake City, Raiwind Road",
          "Central Park - Block A, Central Park Housing Scheme",
          "DHA",
          "Cavalry Ground, Lahore",
          "DHA",
          "DHA",
          "DHA",
          "DHA",
          "Bahria Town - Safari Villas, Bahria Town - Sector B",
          "DHA",
          "DHA",
          "New Lahore City, Lahore",
          "DHA",
          "Park View City, Lahore",
          "Park View City, Lahore",
          "DHA",
          "Eden City, Eden",
          "Eden City, Eden",
          "Eden City, Eden",
          "Cantt",
          "DHA",
          "DHA",
          "Bedian Road, Lahore",
          "DHA",
          "PCSIR Housing Scheme Phase 2, PCSIR Housing Scheme",
          "Al Rehman Garden Phase 2, Al Rehman Garden",
          "DHA 11 Rahbar Phase 2 Extension - Block M, DHA 11 Rahbar Phase 2 Extension",
          "DHA",
          "DHA",
          "DHA",
          "DHA",
          "DHA",
          "DHA",
          "DHA",
          "DHA",
          "DHA",
          "DHA",
          "DHA",
          "DHA",
          "Park View City - Crystal Block, Park View City",
          "DHA 11 Rahbar Phase 2 Extension - Block P, DHA 11 Rahbar Phase 2 Extension",
          "DHA",
          "DHA",
          "The Spring Apartment Homes, Main Canal Bank Road",
          "Bahria Town - Sector E, Bahria Town",
          "Paragon City, Lahore",
          "Paragon City, Lahore",
          "Paragon City, Lahore",
          "Paragon City, Lahore",
          "Paragon City, Lahore",
          "DHA",
          "DHA",
          "DHA",
          "Nespak Scheme Phase 1, College Road",
          "DHA",
          "Tariq Gardens - Block C, Tariq Gardens",
          "Central Park Housing Scheme, Lahore",
          "Paragon City, Lahore",
          "Park View City - Platinum Block, Park View City",
          "Cantt",
          "Architects Engineers Housing Society, Lahore",
          "BOR - Board of Revenue Housing Society, Lahore",
          "Bedian Road, Lahore",
          "DHA",
          "Al Rehman Garden Phase 2, Al Rehman Garden",
          "Gulberg",
          "Park View City - Executive Block, Park View City",
          "PGECHS Phase 2, Punjab Govt Employees Society",
          "PCSIR Staff Colony, Lahore",
          "Valencia - Block P, Valencia Housing Society",
          "Bedian Road, Lahore",
          "Bedian Road, Lahore",
          "DHA",
          "DHA",
          "DHA",
          "Park View City, Lahore",
          "DHA",
          "Park View City, Lahore",
          "Bahria Town - Nargis Block, Bahria Town - Sector C",
          "Bahria Town - Sector E, Bahria Town",
          "Bahria Town - Sector C, Bahria Town",
          "Eden Boulevard Housing Scheme, College Road",
          "Al Rehman Garden Phase 2, Al Rehman Garden",
          "Al Rehman Garden Phase 2, Al Rehman Garden",
          "DHA",
          "DHA",
          "Park View City, Lahore",
          "Al Raheem Gardens Phase 5, GT Road",
          "Model Town",
          "DHA",
          "Bedian Road, Lahore",
          "Park View City, Lahore",
          "DHA",
          "Park View City, Lahore",
          "DHA",
          "Park View City, Lahore",
          "Park View City, Lahore",
          "Model Town",
          "DHA",
          "Bahria Town - Sector C, Bahria Town",
          "DHA",
          "DHA",
          "College Road, Lahore",
          "Askari 11 - Sector D, Askari 11",
          "Askari 11 - Sector B Apartments, Askari 11",
          "Askari 11 - Sector B Apartments, Askari 11",
          "Askari 11 - Sector B Apartments, Askari 11",
          "DHA",
          "DHA",
          "DHA",
          "DHA",
          "Bedian Road, Lahore",
          "DHA",
          "Park View City, Lahore",
          "DHA",
          "Bahria Town - Sector C, Bahria Town",
          "DHA",
          "Askari 11 - Sector D, Askari 11",
          "PGECHS Phase 1, Punjab Govt Employees Society",
          "Gosha-e-Ahbab Phase 2 - Block B, Gosha-e-Ahbab - Phase 2",
          "Al Rehman Garden Phase 2, Al Rehman Garden",
          "Bahria Town - Jinnah Block, Bahria Town - Sector E",
          "Park View City, Lahore",
          "Park View City, Lahore",
          "Allama Iqbal Town",
          "Park View City, Lahore",
          "Bahria Town - Johar Block, Bahria Town - Sector E",
          "Bahria Town - Tauheed Extension Block, Bahria Town - Sector F",
          "DHA",
          "DHA",
          "Park View City, Lahore",
          "DHA",
          "Bedian Road, Lahore",
          "Bahria Town - Tauheed Block, Bahria Town - Sector F",
          "Park View City, Lahore",
          "Bedian Road, Lahore",
          "Bahria Town - Sector C, Bahria Town",
          "DHA",
          "Gulberg",
          "Park View City, Lahore",
          "Park View City, Lahore",
          "Park View City, Lahore",
          "Bahria Town - Overseas B, Bahria Town - Overseas Enclave",
          "Izmir Town, Lahore",
          "Park View City, Lahore",
          "Gulberg",
          "Cantt",
          "Park View City - Tulip Overseas, Park View City",
          "Park View City - Tulip Overseas, Park View City",
          "DHA",
          "Park View City, Lahore",
          "Park View City, Lahore",
          "Park View City, Lahore",
          "DHA",
          "Cantt",
          "Bedian Road, Lahore",
          "DHA",
          "DHA",
          "Bahria Town - Gulbahar Block, Bahria Town - Sector C",
          "Midway Commercial, Bahria Town",
          "DHA",
          "Park View City, Lahore",
          "Park View City, Lahore",
          "Park View City - Tulip Overseas, Park View City",
          "DHA",
          "DHA 9 Town - Block A, DHA 9 Town",
          "Bahria Town - Jasmine Block, Bahria Town - Sector C",
          "Bahria Town - Block AA, Bahria Town - Sector D",
          "Park View City, Lahore",
          "Rehmanpura - Block D, Rehmanpura (Ferozpur Road)",
          "Allama Iqbal Town",
          "Gulberg",
          "Gulberg",
          "Park View City, Lahore",
          "DHA",
          "Etihad Town, Raiwind Road",
          "Park View City, Lahore",
          "Park View City, Lahore",
          "Bahria Orchard Phase 3, Bahria Orchard",
          "Low Cost - Block D, Low Cost Sector",
          "OLC - Block B, Overseas Low Cost",
          "DHA",
          "DHA",
          "DHA",
          "DHA",
          "DHA",
          "Valencia Housing Society, Lahore",
          "DHA",
          "Askari 1, Askari",
          "DHA",
          "DHA",
          "DHA",
          "Bahria Town - Jasmine Block, Bahria Town - Sector C",
          "Spanish Homes by Icon, Raiwind Road",
          "Park View City - Platinum Block, Park View City",
          "DHA",
          "DHA",
          "DHA",
          "Bahria Orchard Phase 1 - Eastern, Bahria Orchard Phase 1",
          "OLC - Block A, Overseas Low Cost",
          "Bahria Orchard Phase 1 - Central, Bahria Orchard Phase 1",
          "Bahria Orchard Phase 1 - Central, Bahria Orchard Phase 1",
          "DHA",
          "DHA",
          "Tajpura, Lahore",
          "Paragon City - Woods Block, Paragon City",
          "Park View City, Lahore",
          "LDA City, LDA Road",
          "Lake City - Sector M-3, Lake City",
          "Lake City, Raiwind Road",
          "Union Town, Abdul Sattar Edhi Road",
          "Atomic Energy Society - PAEC, Lahore",
          "Atomic Energy Society - PAEC, Lahore",
          "Atomic Energy Society - PAEC, Lahore",
          "Bismillah Housing Scheme Phase 2, Ferozepur Road",
          "Bismillah Housing Scheme Phase 2, Ferozepur Road",
          "Union Green, College Road",
          "DHA",
          "DHA",
          "DHA",
          "PCSIR Housing Scheme Phase 2, PCSIR Housing Scheme",
          "Airline Housing Society, Lahore",
          "DHA",
          "Etihad Town Phase 1 - Royal Enclave 2, Etihad Town Phase 1",
          "Etihad Town Phase 1 - Royal Enclave 2, Etihad Town Phase 1",
          "DHA",
          "DHA",
          "Bankers Co-operative Housing Society, Lahore",
          "Bankers Co-operative Housing Society, Lahore",
          "DHA",
          "DHA",
          "Union Town, Abdul Sattar Edhi Road",
          "DHA",
          "DHA",
          "DHA",
          "LDA City Phase 1 - Block G1, LDA City Phase 1 - Jinnah Sector",
          "Valencia - Block N, Valencia Housing Society",
          "LDA Avenue - Block D, LDA Avenue",
          "AWT Phase 2, AWT Army Welfare Trust",
          "AWT Phase 2, AWT Army Welfare Trust",
          "Fazaia Housing Scheme Phase 1, Fazaia Housing Scheme",
          "DHA",
          "DHA",
          "Atomic Energy Society - PAEC, Lahore",
          "DHA",
          "DHA",
          "DHA 9 Town - Block D, DHA 9 Town",
          "DHA",
          "Canal Garden - Block H, Canal Garden",
          "Canal Garden - Block F, Canal Garden",
          "Canal Garden - Block H, Canal Garden",
          "Canal Garden - Block E, Canal Garden",
          "Canal Garden - Block D, Canal Garden",
          "DHA",
          "DHA",
          "DHA",
          "Park Avenue Housing Scheme, Lahore",
          "Etihad Town Phase 3, Jia Baga Road",
          "Etihad Town Phase 1, Etihad Town",
          "DHA",
          "Bahria Orchard Phase 4 - Block G6, Bahria Orchard Phase 4",
          "Sabzazar Scheme - Block P, Sabzazar Scheme",
          "Bedian Road, Lahore",
          "IEP Engineers Town - Sector A, IEP Engineers Town",
          "DHA 11 Rahbar Phase 1 - Block D, DHA 11 Rahbar Phase 1",
          "IEP Engineers Town - Sector A, IEP Engineers Town",
          "DHA",
          "DHA",
          "DHA",
          "DHA",
          "Bahria Town - Tulip Block, Bahria Town - Sector C",
          "Atomic Energy Society - PAEC, Lahore",
          "Sukh Chayn Gardens, Lahore",
          "DHA",
          "Canal Valley, Main Canal Bank Road",
          "Canal Valley, Main Canal Bank Road",
          "DHA",
          "Canal Garden - Block H, Canal Garden",
          "Canal Garden - Block C, Canal Garden",
          "Canal Garden - Tip Sector, Canal Garden",
          "Canal Garden - Block H, Canal Garden",
          "Lake City - Golf Estate 2, Lake City",
          "New Lahore City - Block A, New Lahore City - Phase 2",
          "Mominpura, GT Road",
          "New Lahore City, Lahore",
          "New Lahore City, Lahore",
          "DHA",
          "Park View City - Crystal Block, Park View City",
          "Atomic Energy Society - PAEC, Lahore",
          "Atomic Energy Society - PAEC, Lahore",
          "Atomic Energy Society - PAEC, Lahore",
          "Atomic Energy Society - PAEC, Lahore",
          "Atomic Energy Society - PAEC, Lahore",
          "Canal Gardens - Block AA, Canal Garden",
          "Canal Garden - Block E, Canal Garden",
          "Canal Garden, Lahore",
          "DHA",
          "DHA",
          "DHA",
          "DHA",
          "Bahria Orchard Phase 4 - Block G3, Bahria Orchard Phase 4",
          "DHA",
          "AWT Phase 2, AWT Army Welfare Trust",
          "LDA City, LDA Road",
          "Al Rehman Garden Phase 2, Al Rehman Garden",
          "Union Town, Abdul Sattar Edhi Road",
          "LDA Avenue, Lahore",
          "LDA Avenue, Lahore",
          "Sukh Chayn Gardens, Lahore",
          "Iqbal Avenue Phase 4 - Broadway, Iqbal Avenue Phase 4",
          "Sukh Chayn Gardens, Lahore",
          "Tariq Gardens - Block E, Tariq Gardens",
          "Sukh Chayn Gardens, Lahore",
          "Bahria Orchard Phase 4 - Block G5, Bahria Orchard Phase 4",
          "Bahria Orchard, Lahore",
          "LDA Avenue - Block J, LDA Avenue",
          "LDA Avenue - Block H, LDA Avenue",
          "GT Road, Lahore",
          "Jail Road, Lahore",
          "DHA",
          "LDA Avenue - Block L, LDA Avenue",
          "Etihad Town Phase 3, Jia Baga Road",
          "Park View City - Crystal Block, Park View City",
          "Park View City - Platinum Block, Park View City",
          "Paragon City - Orchard Block, Paragon City",
          "Bahria Town - Quaid Block, Bahria Town - Sector E",
          "Bahria Orchard Phase 4 - Block G6, Bahria Orchard Phase 4",
          "OLC - Block A, Overseas Low Cost",
          "Zam Zam City, GT Road",
          "LDA Avenue - Block A, LDA Avenue",
          "Bahria Orchard Phase 1 - Northern, Bahria Orchard Phase 1",
          "Bahria Orchard Phase 1 - Central, Bahria Orchard Phase 1",
          "Low Cost - Block G, Low Cost Sector",
          "DHA",
          "Batapur, Lahore",
          "New Lahore City - Phase 2, New Lahore City",
          "New Lahore City - Phase 2, New Lahore City",
          "New Lahore City, Lahore",
          "New Lahore City - Phase 2, New Lahore City",
          "LDA Avenue - Block C, LDA Avenue",
          "LDA Avenue - Block D, LDA Avenue",
          "Bahria Town - Shaheen Block, Bahria Town - Sector B",
          "Bahria Town - Shaheen Block, Bahria Town - Sector B",
          "New Lahore City - Phase 4, New Lahore City",
          "New Lahore City - Phase 2, New Lahore City",
          "LDA Avenue - Block M, LDA Avenue",
          "LDA Avenue, Lahore",
          "EME Society, Lahore",
          "Park View City, Lahore",
          "Atomic Energy Society - PAEC, Lahore",
          "DHA",
          "OPF Housing Scheme - Block F1, OPF Housing Scheme",
          "LDA Avenue - Block K, LDA Avenue",
          "DHA",
          "DHA",
          "Paragon City, Lahore",
          "Paragon City, Lahore",
          "New Metro City, Lahore - Islamabad Motorway",
          "Paragon City, Lahore",
          "DHA 9 Town - Block C, DHA 9 Town",
          "LDA Avenue - Block A, LDA Avenue",
          "LDA Avenue - Block D, LDA Avenue",
          "OPF Housing Scheme - Block H, OPF Housing Scheme",
          "OPF Housing Scheme - Block F1, OPF Housing Scheme",
          "OPF Housing Scheme - Block C, OPF Housing Scheme",
          "OPF Housing Scheme - Block A, OPF Housing Scheme",
          "OPF Housing Scheme - Block C, OPF Housing Scheme",
          "DHA",
          "DHA",
          "DHA",
          "DHA",
          "DHA",
          "DHA",
          "DHA",
          "DHA",
          "Bahria Town - Tipu Sultan Block, Bahria Town - Sector F",
          "Wapda Town",
          "OPF Housing Scheme - Block C, OPF Housing Scheme",
          "OPF Housing Scheme - Block D, OPF Housing Scheme",
          "OPF Housing Scheme - Block D, OPF Housing Scheme",
          "OPF Housing Scheme - Block A, OPF Housing Scheme",
          "Bahria Orchard Phase 1, Bahria Orchard",
          "EME Society, Lahore",
          "DHA",
          "DHA",
          "DHA",
          "DHA",
          "DHA",
          "DHA",
          "DHA",
          "Park View City, Lahore",
          "Bahria Town - Nargis Block, Bahria Town - Sector C",
          "Low Cost - Block D Extension, Low Cost Sector",
          "Bahria Town - Sikandar Block, Bahria Town - Sector F",
          "Iqbal Avenue Phase 2, Iqbal Avenue",
          "Iqbal Avenue Phase 4 - Enclave, Iqbal Avenue Phase 4",
          "DHA",
          "DHA",
          "DHA",
          "DHA",
          "DHA",
          "DHA",
          "DHA",
          "DHA",
          "DHA",
          "Bahria Town - Talha Block, Bahria Town - Sector E",
          "Park View City - Platinum Block, Park View City",
          "Park View City, Lahore",
          "Park View City, Lahore",
          "DHA",
          "DHA",
          "DHA",
          "DHA",
          "DHA",
          "Park View City, Lahore",
          "DHA",
          "DHA",
          "DHA",
          "Park View City, Lahore",
          "Park View City, Lahore",
          "Park View City - Crystal Block, Park View City",
          "DHA",
          "DHA",
          "DHA",
          "DHA",
          "DHA",
          "DHA",
          "Park View City, Lahore",
          "Park View City, Lahore",
          "DHA",
          "DHA",
          "DHA",
          "Paragon City - Orchard Block, Paragon City",
          "DHA",
          "Park View City - Tulip Extension Block, Park View City",
          "DHA",
          "DHA",
          "Lake City - Sector M7 - Block C1, Lake City - Sector M-7",
          "DHA",
          "Architects Engineers Housing Society, Lahore",
          "Etihad Town Phase 3, Jia Baga Road",
          "Park View City - Pearl Block, Park View City",
          "Bankers Avenue - Block D, Bankers Avenue Cooperative Housing Society",
          "Park View City - Tulip Overseas, Park View City",
          "DHA",
          "Park View City - Platinum Block, Park View City",
          "Park View City - Platinum Block, Park View City",
          "Paragon City - Orchard Block, Paragon City",
          "DHA",
          "Paragon City - Orchard Block, Paragon City",
          "Paragon City - Orchard Block, Paragon City",
          "LDA City Phase 1 - Block E, LDA City Phase 1 - Jinnah Sector",
          "Park View City - Tulip Overseas, Park View City",
          "Park View City, Lahore",
          "DHA",
          "DHA",
          "DHA",
          "Bankers Avenue - Block A, Bankers Avenue Cooperative Housing Society",
          "Park View City - Diamond Block, Park View City",
          "Gulberg",
          "Bankers Avenue - Block C, Bankers Avenue Cooperative Housing Society",
          "Bankers Avenue - Block D, Bankers Avenue Cooperative Housing Society",
          "DHA",
          "Paragon City - Imperial 2 Block, Paragon City",
          "Paragon City - Imperial 2 Block, Paragon City",
          "DHA",
          "DHA",
          "Paragon City - Imperial 2 Block, Paragon City",
          "Central Park Housing Scheme, Lahore",
          "Central Park - Block G, Central Park Housing Scheme",
          "LDA City, LDA Road",
          "DHA",
          "DHA",
          "LDA City, LDA Road",
          "DHA",
          "Lake City - Sector M-3 Extension 1, Lake City",
          "Formanites Housing Scheme, Lahore",
          "Bankers Avenue - Block C, Bankers Avenue Cooperative Housing Society",
          "DHA",
          "DHA 11 Rahbar Phase 1 - Block E, DHA 11 Rahbar Phase 1",
          "Architects Engineers Housing Society, Lahore",
          "Bahria Town - Tauheed Block, Bahria Town - Sector F",
          "Paragon City - Woods Block, Paragon City",
          "DHA",
          "Lake City - Sector M7 - Block C4, Lake City - Sector M-7",
          "Lake City - Sector M7 - Block C2, Lake City - Sector M-7",
          "DHA",
          "Lake City - Sector M-8, Lake City",
          "Lake City - Sector M-6, Lake City",
          "Khayaban-e-Amin, Lahore",
          "Etihad Town Phase 3, Jia Baga Road",
          "Etihad Town Phase 1 - Royal Enclave, Etihad Town Phase 1",
          "Etihad Town Phase 3, Jia Baga Road",
          "Lake City - Sector M-2, Lake City",
          "DHA",
          "DHA",
          "Park View City - Pearl Block, Park View City",
          "PCSIR Housing Scheme Phase 2, PCSIR Housing Scheme",
          "Chinar Bagh - Punjab Block, Chinar Bagh",
          "IEP Engineers Town - Block D2, IEP Engineers Town - Sector A",
          "Lake City - Sector M-6, Lake City",
          "Lake City - Sector M-3 Extension 1, Lake City",
          "Lake City - Sector M-3 Extension 1, Lake City",
          "Lake City - Sector M-3 Extension, Lake City",
          "Lake City, Raiwind Road",
          "Lake City - Golf Estate 2, Lake City",
          "Lake City - Sector M-8, Lake City",
          "Lake City - Sector M-6, Lake City",
          "Bahria Orchard Phase 2, Bahria Orchard",
          "Etihad Town Phase 1, Etihad Town",
          "Etihad Town Phase 1, Etihad Town",
          "DHA",
          "Central Park Housing Scheme, Lahore",
          "Fazaia Housing Scheme Phase 1, Fazaia Housing Scheme",
          "DHA 9 Town - Block E, DHA 9 Town",
          "DHA",
          "DHA",
          "DHA",
          "Bahria Town - Ghaznavi Block, Bahria Town - Sector F",
          "Union Greens Phase 2, Pine Avenue",
          "Union Greens Phase 2, Pine Avenue",
          "Union Greens Phase 2, Pine Avenue",
          "Lake City - Sector M-3, Lake City",
          "Lake City Sector M8 - Block B2, Lake City - Sector M-8",
          "Lake City - Sector M-4, Lake City",
          "Lake City - Sector M-6, Lake City",
          "Lake City, Raiwind Road",
          "Lake City, Raiwind Road",
          "Lake City - Sector M-8, Lake City",
          "Lake City, Raiwind Road",
          "DHA",
          "Union Town, Abdul Sattar Edhi Road",
          "Union Town, Abdul Sattar Edhi Road",
          "Etihad Town Phase 1, Etihad Town",
          "Etihad Town Phase 1 - Premier Enclave, Etihad Town Phase 1",
          "DHA",
          "Ferozepur Road, Lahore",
          "PGECHS Phase 1, Punjab Govt Employees Society",
          "IEP Engineers Town - Block E2, IEP Engineers Town - Sector A",
          "Park View City - Overseas Block, Park View City",
          "DHA",
          "DHA",
          "Union Town, Abdul Sattar Edhi Road",
          "Union Town, Abdul Sattar Edhi Road",
          "Park View City - Platinum Block, Park View City",
          "Aabpara Coop Housing Society, Lahore",
          "Lake City - Sector M7 - Block C1, Lake City - Sector M-7",
          "Lake City - Sector M-2, Lake City",
          "DHA",
          "Atomic Energy Society - PAEC, Lahore",
          "Atomic Energy Society - PAEC, Lahore",
          "Atomic Energy Society - PAEC, Lahore",
          "Atomic Energy Society - PAEC, Lahore",
          "Atomic Energy Society - PAEC, Lahore",
          "Atomic Energy Society - PAEC, Lahore",
          "Etihad Town Phase 2, Etihad Town",
          "DHA",
          "Park View City - Tulip Overseas, Park View City",
          "Park View City - Crystal Block, Park View City",
          "Etihad Town Phase 3, Jia Baga Road",
          "DHA",
          "DHA",
          "LDA City Phase 1 - Iqbal Sector, LDA City Phase 1",
          "DHA",
          "DHA",
          "DHA",
          "DHA",
          "Lake City Sector M8 - Block B2, Lake City - Sector M-8",
          "Lake City Sector M8 - Block B1, Lake City - Sector M-8",
          "Lake City Sector M8 - Block A, Lake City - Sector M-8",
          "Park View City, Lahore",
          "New Lahore City, Lahore",
          "Atomic Energy Society - PAEC, Lahore",
          "LDA Avenue - Block G, LDA Avenue",
          "LDA Avenue - Block G, LDA Avenue",
          "LDA Avenue - Block M, LDA Avenue",
          "LDA Avenue - Block C, LDA Avenue",
          "LDA Avenue - Block L, LDA Avenue",
          "LDA Avenue - Block C, LDA Avenue",
          "Park View City - Platinum Block, Park View City",
          "Park View City, Lahore",
          "DHA",
          "DHA",
          "DHA",
          "Multan Road, Lahore",
          "IVY Farms, Barki Road",
          "Park View City - Executive Block, Park View City",
          "Al-Ghani Garden, GT Road",
          "Bahria Orchard Phase 1 - Central, Bahria Orchard Phase 1",
          "Bahria Town - Ghazi Block, Bahria Town - Sector F",
          "DHA",
          "Park View City, Lahore",
          "DHA 11 Rahbar Phase 4 - Block R, DHA 11 Rahbar Phase 4",
          "Central Park Housing Scheme, Lahore",
          "Central Park - Block C, Central Park Housing Scheme",
          "Park View City - Crystal Block, Park View City",
          "LDA Avenue - Block D, LDA Avenue",
          "LDA Avenue, Lahore",
          "Jubilee Town, Lahore",
          "Jubilee Town - Block A, Jubilee Town",
          "LDA Avenue - Block H, LDA Avenue",
          "LDA Avenue, Lahore",
          "LDA Avenue, Lahore",
          "LDA Avenue - Block J, LDA Avenue",
          "DHA",
          "Lake City, Raiwind Road",
          "DHA",
          "Askari 10 - Sector E, Askari 10",
          "Askari 11, Askari",
          "Askari 10, Askari",
          "Gulberg",
          "DHA 9 Town - Block D, DHA 9 Town",
          "PCSIR Housing Scheme Phase 2, PCSIR Housing Scheme",
          "PCSIR Housing Scheme Phase 2, PCSIR Housing Scheme",
          "Tariq Gardens, Lahore",
          "Askari 10, Askari",
          "Johar Town",
          "Park View City, Lahore",
          "Johar Town",
          "Johar Town",
          "DHA",
          "Johar Town",
          "DHA",
          "DHA",
          "DHA",
          "Bahria Town - Jasmine Block, Bahria Town - Sector C",
          "DHA",
          "DHA",
          "DHA",
          "DHA",
          "Askari 11, Askari",
          "DHA",
          "DHA",
          "DHA",
          "DHA",
          "New Super Town, Lahore",
          "DHA",
          "DHA",
          "DHA",
          "Bahria Town - Overseas B, Bahria Town - Overseas Enclave",
          "Bahria Town - Chambelli Block, Bahria Town - Sector C",
          "Askari 10, Askari",
          "Mustafa Town, Lahore",
          "Walton Road, Lahore",
          "Askari 10 - Sector F, Askari 10",
          "Central Park Housing Scheme, Lahore",
          "DHA",
          "Canal Garden, Lahore",
          "Wapda Town",
          "DHA",
          "DHA",
          "DHA",
          "DHA",
          "DHA",
          "Bahria Town - Janiper Block, Bahria Town - Sector C",
          "DHA 9 Town - Block A, DHA 9 Town",
          "Central Park Housing Scheme, Lahore",
          "Allama Iqbal Town",
          "DHA",
          "DHA",
          "DHA",
          "EME Society, Lahore",
          "Gulberg",
          "DHA",
          "Gulberg",
          "Gulberg",
          "DHA",
          "DHA",
          "Lake City, Raiwind Road",
          "DHA",
          "DHA",
          "DHA",
          "Al-Hamd Gardens, Pine Avenue",
          "DHA",
          "DHA",
          "DHA",
          "DHA",
          "DHA",
          "DHA",
          "DHA",
          "Askari 11 - Sector B Apartments, Askari 11",
          "DHA 9 Town - Block D, DHA 9 Town",
          "DHA 9 Town - Block C, DHA 9 Town",
          "DHA",
          "Askari 10 - Sector S, Askari 10",
          "DHA",
          "AWT Phase 2, AWT Army Welfare Trust",
          "DHA",
          "DHA",
          "DHA",
          "DHA 9 Town - Block D, DHA 9 Town",
          "DHA 9 Town - Block C, DHA 9 Town",
          "DHA 9 Town - Block A, DHA 9 Town",
          "DHA 9 Town - Block B, DHA 9 Town",
          "Johar Town",
          "Johar Town",
          "Johar Town",
          "DHA",
          "DHA",
          "DHA",
          "Fazaia Housing Scheme Phase 1, Fazaia Housing Scheme",
          "Gulberg",
          "Bahria Town - Sector C, Bahria Town",
          "DHA",
          "Askari 11, Askari",
          "Johar Town",
          "Johar Town",
          "DHA",
          "Johar Town",
          "DHA",
          "Central Park - Block A1, Central Park Housing Scheme",
          "DHA",
          "DHA 9 Town - Block A, DHA 9 Town",
          "DHA",
          "DHA",
          "Askari 11 - Sector A, Askari 11",
          "Allama Iqbal Town",
          "DHA",
          "Park View City, Lahore",
          "Gulberg",
          "Park View City, Lahore",
          "Divine Gardens, Lahore",
          "Eden City - Block A, Eden City",
          "DHA",
          "Eden City, Eden",
          "DHA",
          "DHA",
          "DHA",
          "DHA",
          "DHA",
          "Gulberg",
          "Gulberg",
          "DHA",
          "DHA",
          "DHA",
          "DHA",
          "DHA",
          "DHA",
          "DHA",
          "DHA",
          "Park View City - Tulip Overseas, Park View City",
          "Park View City - Tulip Extension Block, Park View City",
          "DHA 9 Town - Block B, DHA 9 Town",
          "DHA",
          "DHA",
          "DHA",
          "Model Town",
          "Jamil Town, Lahore",
          "Muslim Town, Lahore",
          "Wapda Town",
          "Askari 11, Askari",
          "Askari 11, Askari",
          "Askari 11, Askari",
          "DHA",
          "Gulberg",
          "DHA",
          "DHA",
          "DHA",
          "DHA",
          "Askari 11, Askari",
          "Paragon City, Lahore",
          "Paragon City, Lahore",
          "Askari 11, Askari",
          "Askari 11, Askari",
          "Askari 11, Askari",
          "Sabzazar Scheme - Block G, Sabzazar Scheme",
          "Marghzar Officers Colony, Lahore",
          "Gulberg",
          "DHA",
          "DHA",
          "Askari 11, Askari",
          "Askari 11 - Sector C, Askari 11",
          "DHA",
          "Askari 11 - Sector B, Askari 11",
          "Bahria Town - Sector C, Bahria Town",
          "DHA",
          "Askari 11 - Sector C, Askari 11",
          "DHA",
          "DHA",
          "Askari 11, Askari",
          "Sabzazar Scheme, Lahore",
          "Sabzazar Scheme, Lahore",
          "Sabzazar Scheme, Lahore",
          "Askari 11, Askari",
          "Askari 11, Askari",
          "Bahria Town - Tulip Block, Bahria Town - Sector C",
          "DHA",
          "DHA",
          "DHA",
          "DHA",
          "Gulberg",
          "DHA",
          "Askari 11 - Sector B Apartments, Askari 11",
          "DHA",
          "Askari 11 - Sector B Apartments, Askari 11",
          "Askari 11 - Sector B Apartments, Askari 11",
          "Askari 11 - Sector D, Askari 11",
          "DHA",
          "DHA",
          "Cantt",
          "Ferozepur Road, Lahore",
          "Bedian Road, Lahore",
          "SJ Garden, Bedian Road",
          "SJ Garden, Bedian Road",
          "SJ Garden, Bedian Road",
          "Askari 10 - Sector S, Askari 10",
          "Askari 11, Askari",
          "DHA",
          "DHA",
          "Bahria Town - Sector C, Bahria Town",
          "Gulberg",
          "Gulberg",
          "Askari 11 - Sector C, Askari 11",
          "DHA",
          "DHA",
          "DHA",
          "Lake City Meadows Phase 1, Lake City Meadows",
          "DHA",
          "DHA",
          "Askari 10 - Sector S, Askari 10",
          "DHA",
          "DHA",
          "DHA",
          "Bahria Town - Jasmine Block, Bahria Town - Sector C",
          "Askari 10, Askari",
          "Bahria Town - Tulip Block, Bahria Town - Sector C",
          "Bahria Town - Jinnah Block, Bahria Town - Sector E",
          "Gulberg",
          "DHA",
          "Gulberg",
          "DHA",
          "DHA",
          "Bahria Town - Jasmine Block, Bahria Town - Sector C",
          "Marghzar Officers Colony, Lahore",
          "Paragon City, Lahore",
          "DHA",
          "DHA",
          "DHA",
          "DHA",
          "LDA Avenue - Block J, LDA Avenue",
          "Johar Town",
          "Johar Town",
          "Johar Town",
          "Askari 11 - Sector D, Askari 11",
          "Askari 11, Askari",
          "DHA",
          "DHA",
          "DHA",
          "DHA",
          "Gulberg",
          "DHA",
          "DHA",
          "Paragon City, Lahore",
          "DHA",
          "DHA",
          "Muslim Town, Lahore",
          "Askari 11, Askari",
          "DHA",
          "DHA",
          "DHA",
          "Paragon City - Imperial Block, Paragon City",
          "Bahria Town - Sector B, Bahria Town",
          "Bahria Town - Sector C, Bahria Town",
          "Askari 10 - Sector F, Askari 10",
          "DHA",
          "DHA",
          "DHA",
          "Gulberg",
          "Gulberg",
          "Gulberg",
          "Gulberg",
          "Bahria Town - Umar Block, Bahria Town - Sector B",
          "Wapda Town",
          "Park View City, Lahore",
          "DHA",
          "DHA",
          "Park View City - Rose Block, Park View City",
          "DHA",
          "DHA",
          "DHA",
          "DHA",
          "DHA",
          "DHA",
          "DHA",
          "DHA",
          "Lahore Motorway City - Block S, Lahore Motorway City",
          "Askari 10, Askari",
          "Bahria Town - Ali Block, Bahria Town - Sector B",
          "Bahria Town - Jasmine Block, Bahria Town - Sector C",
          "Askari 10, Askari",
          "DHA",
          "Garden Town",
          "Divine Gardens, Lahore",
          "DHA 11 Rahbar, Lahore",
          "DHA",
          "DHA",
          "Al-Ahmad Garden Housing Scheme, GT Road",
          "DHA",
          "DHA 9 Town - Block D, DHA 9 Town",
          "Askari 10, Askari",
          "Divine Gardens, Lahore",
          "Central Park Housing Scheme, Lahore",
          "Central Park Housing Scheme, Lahore",
          "Central Park - Block A, Central Park Housing Scheme",
          "Central Park - Block A, Central Park Housing Scheme",
          "Central Park Housing Scheme, Lahore",
          "Park View City - Tulip Block, Park View City",
          "Gulberg",
          "Gulberg",
          "Garden Town",
          "Askari 10 - Sector F, Askari 10",
          "Askari 10 - Sector S, Askari 10",
          "Cantt",
          "Bedian Road, Lahore",
          "Upper Mall, Lahore",
          "Bedian Road, Lahore",
          "Bahria Town - Sector E, Bahria Town",
          "Pak Arab Housing Society, Lahore",
          "Pak Arab Housing Society, Lahore",
          "Central Park - Block A, Central Park Housing Scheme",
          "DHA",
          "DHA",
          "Sui Gas Housing Society, Lahore",
          "DHA",
          "DHA",
          "DHA",
          "DHA",
          "Gulberg",
          "Bahria Town - Awais Qarni Block, Bahria Town - Sector B",
          "Gulberg",
          "Bahria Town - Sector C, Bahria Town",
          "Valencia Housing Society, Lahore",
          "Askari 11 - Sector D, Askari 11",
          "PIA Housing Scheme, Lahore",
          "PIA Main Boulevard, Lahore",
          "Revenue Society, Lahore",
          "Bahria Orchard, Lahore",
          "Pak Arab Housing Society, Lahore",
          "Pak Arab Housing Society, Lahore",
          "DHA",
          "LDA Avenue, Lahore",
          "NFC 1, Lahore",
          "IEP Engineers Town - Sector A, IEP Engineers Town",
          "DHA",
          "DHA",
          "Bahria Town - Chambelli Block, Bahria Town - Sector C",
          "Lake City - Sector M-7A, Lake City",
          "Lake City - Sector M-1, Lake City",
          "Lake City - Sector M-3 Extension, Lake City",
          "Lake City - Sector M-2, Lake City",
          "Johar Town",
          "DHA",
          "Bahria Town - Sector C, Bahria Town",
          "DHA",
          "Bahria Town - Sector C, Bahria Town",
          "SJ Garden, Bedian Road",
          "Tower 21, Ali Zaib Road",
          "Punjab Coop Housing Society, Lahore",
          "Bedian Road, Lahore",
          "DHA",
          "DHA",
          "DHA",
          "Bahria Town - Nishtar Block, Bahria Town - Sector E",
          "Bahria Town - Nishtar Block, Bahria Town - Sector E",
          "The Vertical, Khayaban-e-Amin",
          "DHA",
          "Samanabad, Lahore",
          "College Road, Lahore",
          "Military Accounts Housing Society, Lahore",
          "Bahria Town - Sector E, Bahria Town",
          "Johar Town",
          "Neela Gumbad, Lahore",
          "Gulberg",
          "Sheikhupura Road, Lahore",
          "Gulberg",
          "Pine Avenue, Lahore",
          "DHA",
          "Sabzazar Scheme, Lahore",
          "DHA",
          "Gulberg",
          "PIA Main Boulevard, Lahore",
          "Johar Town",
          "Bahria Town Main Boulevard, Bahria Town",
          "Bahria Town - Iqbal Block, Bahria Town - Sector E",
          "Mall Road, Lahore",
          "DHA",
          "DHA",
          "PIA Main Boulevard, Lahore",
          "Bahria Town - Block AA, Bahria Town - Sector D",
          "DHA",
          "Gulberg",
          "Military Accounts Society - Block A, Military Accounts Housing Society",
          "Al Rehman Garden Phase 2, Al Rehman Garden",
          "Gulberg",
          "Cantt",
          "Al Madina Avenue, Lahore",
          "Lake City, Raiwind Road",
          "DHA",
          "PGECHS Phase 2, Punjab Govt Employees Society",
          "Gulberg",
          "Gulberg",
          "Pak Arab Society Phase 1 - Block B, Pak Arab Housing Society Phase 1",
          "Pak Arab Society Phase 1 - Block C, Pak Arab Housing Society Phase 1",
          "Gulberg",
          "Park Avenue Housing Scheme, Lahore",
          "DHA",
          "DHA",
          "Gulberg",
          "Gulberg",
          "Grand X, Bahria Town - Nishtar Block",
          "Al-Kabir Town - Phase 2, Al-Kabir Town",
          "Al-Kabir Town - Phase 2, Al-Kabir Town",
          "Gulberg",
          "Gulberg",
          "Gulberg",
          "New Lahore City - Phase 2, New Lahore City",
          "Egerton Road, Lahore",
          "Sabzazar Scheme, Lahore",
          "Johar Town",
          "Al-Kabir Town - Phase 2, Al-Kabir Town",
          "Al-Kabir Town - Phase 2, Al-Kabir Town",
          "Etihad Town Phase 1, Etihad Town",
          "Johar Town",
          "Cantt",
          "DHA",
          "Bahria Town - Sector E, Bahria Town",
          "Bahria Town - Iqbal Block, Bahria Town - Sector E",
          "Johar Town",
          "Gulberg",
          "Al-Kabir Town - Downtown, Al-Kabir Town",
          "DHA",
          "Johar Town",
          "Gulberg",
          "Gulberg",
          "Multan Road, Lahore",
          "Zamil Heights 1, Bahria Orchard",
          "Zamil Heights 1, Bahria Orchard",
          "Qainchi Abid Market, Ferozepur Road",
          "Shah Alam Market, Lahore",
          "Al-Kabir Town - Phase 2, Al-Kabir Town",
          "McLeod Road, Lahore",
          "Divine Gardens, Lahore",
          "DHA 11 Rahbar Phase 1 - Block CCA, DHA 11 Rahbar Phase 1",
          "Khayaban-e-Jinnah Road, Lahore",
          "Quaid-e-Azam Industrial Estate, Lahore",
          "DHA",
          "Model Town",
          "Gulberg",
          "Gulberg",
          "Gulberg",
          "Gulberg",
          "LDA City Phase 1 - Main CBD, LDA City Phase 1",
          "DHA",
          "Gulberg",
          "Waris Road, Lahore",
          "Scheme Mor, Multan Road",
          "Gulberg",
          "Gulberg",
          "Gulberg",
          "Gulberg",
          "Bahria Town - Jasmine Block, Bahria Town - Sector C",
          "Gulberg",
          "DHA",
          "Gulberg",
          "Gulberg",
          "Scheme Mor, Multan Road",
          "Park View City - Broadway Commercial, Park View City",
          "DHA",
          "DHA",
          "Johar Town",
          "DHA",
          "DHA",
          "Johar Town",
          "DHA",
          "New Lahore City - Block A, New Lahore City - Phase 2",
          "DHA",
          "Bahria Town - Iqbal Block, Bahria Town - Sector E",
          "Multan Road, Lahore",
          "Bahria Town - Sector C, Bahria Town",
          "Gulberg",
          "Lahore Motorway City, Lahore",
          "Sant Nagar, Lahore",
          "Punjab Coop Housing Society, Lahore",
          "Punjab Coop Housing Society, Lahore",
          "Gulberg",
          "Gulshan-e-Lahore, Lahore",
          "Bahria Orchard Phase 1 - Eastern Extension, Bahria Orchard Phase 1",
          "Bahria Orchard Phase 1 - Eastern Extension, Bahria Orchard Phase 1",
          "Peco Road, Lahore",
          "Lahore - Kasur Road, Lahore",
          "Takbeer Trade Centre, Etihad Town",
          "Bedian Road, Lahore",
          "Johar Town",
          "AWT Phase 2, AWT Army Welfare Trust",
          "Punjab Small Industries Colony, Lahore",
          "IEP Engineers Town - Block A3, IEP Engineers Town - Sector A",
          "DHA",
          "Khayaban-e-Amin - Block L, Khayaban-e-Amin",
          "DHA",
          "Gulberg",
          "Gulberg",
          "Gulberg",
          "Gulberg",
          "Gulberg",
          "Gulberg",
          "Gulberg",
          "Gulberg",
          "Gulberg",
          "Gulberg",
          "Bahria Town - Sector C, Bahria Town",
          "Bahria Town - Sector E, Bahria Town",
          "Eden Lane Villas 2, Eden",
          "Township - Sector B2, Township",
          "Canal Garden - Block H, Canal Garden",
          "Model Town",
          "Bahria Town - Iqbal Block, Bahria Town - Sector E",
          "Bahria Town - Talha Block, Bahria Town - Sector E",
          "DHA",
          "Square One, MM Alam Road",
          "DHA",
          "DHA",
          "Gulberg",
          "DHA",
          "Gulberg",
          "Gulberg",
          "Bahria Town - Overseas B, Bahria Town - Overseas Enclave",
          "Gulberg",
          "Gulberg",
          "Gulberg",
          "Gulberg",
          "Gulberg",
          "New Lahore City - Phase 2, New Lahore City",
          "Gulberg",
          "The Vertical, Khayaban-e-Amin",
          "Gulberg",
          "DHA",
          "Gulberg",
          "DHA",
          "Saroba Gardens Housing Society, Lahore",
          "LDA Colony, Multan Road",
          "Gulberg",
          "DHA",
          "Mohlanwal, Lahore",
          "New Lahore City, Lahore",
          "DHA",
          "DHA",
          "Marghzar Officers Colony, Lahore",
          "Gulberg"
         ],
         "x0": " ",
         "xaxis": "x",
         "y": {
          "bdata": "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",
          "dtype": "f8"
         },
         "y0": " ",
         "yaxis": "y"
        },
        {
         "alignmentgroup": "True",
         "hovertemplate": "source=Graana.com<br>Location=%{x}<br>Price (PKR)=%{y}<extra></extra>",
         "legendgroup": "Graana.com",
         "marker": {
          "color": "#EF553B"
         },
         "name": "Graana.com",
         "notched": false,
         "offsetgroup": "Graana.com",
         "orientation": "v",
         "showlegend": true,
         "type": "box",
         "x": [
          "DHA",
          "DHA",
          "Al Jalil Garden, Lahore",
          "Bahria Town - Sector F, Lahore",
          "Gulberg",
          "Allama Iqbal Town",
          "DHA",
          "Gulberg",
          "Bismillah Housing Scheme, Lahore",
          "Multan Road, Lahore",
          "DHA",
          "Al Rehman Garden Phase 2, Lahore",
          "DHA",
          "Bahria Town - Sector B, Lahore",
          "Bahria Town - Sector F, Lahore",
          "Al Rehman Garden Phase 2, Lahore",
          "Faisal Town",
          "Model Town",
          "Faisal Town",
          "Garden Town",
          "Gulberg",
          "Multan Road, Lahore",
          "DHA",
          "DHA",
          "DHA",
          "DHA",
          "DHA",
          "DHA",
          "DHA",
          "DHA",
          "DHA",
          "DHA",
          "DHA",
          "DHA",
          "DHA",
          "DHA",
          "DHA",
          "DHA",
          "DHA",
          "DHA",
          "DHA",
          "DHA",
          "DHA",
          "DHA",
          "DHA",
          "DHA",
          "DHA",
          "DHA",
          "DHA",
          "DHA",
          "DHA",
          "DHA",
          "DHA",
          "DHA",
          "DHA",
          "DHA",
          "Bahria Town - Sector B, Lahore",
          "Bahria Town - Sector B, Lahore",
          "Bahria Town - Sector B, Lahore",
          "Bahria Town - Sector B, Lahore",
          "Bahria Town - Sector B, Lahore",
          "Bahria Town - Sector B, Lahore",
          "DHA",
          "Samanabad, Lahore",
          "Johar Town",
          "Johar Town",
          "Bahria Town - Sector C , Lahore",
          "Bahria Town - Sector C , Lahore",
          "Bahria Town - Sector C , Lahore",
          "Bahria Town - Sector C , Lahore",
          "Bahria Town - Sector C , Lahore",
          "Bahria Town - Sector C , Lahore",
          "Bahria Town - Sector C , Lahore",
          "Cantt",
          "DHA",
          "DHA",
          "DHA",
          "DHA",
          "Al Rehman Garden Phase 2, Lahore",
          "DHA",
          "DHA",
          "DHA",
          "DHA",
          "DHA",
          "DHA",
          "DHA",
          "Bahria Town - Sector C , Lahore",
          "Bahria Town - Sector C , Lahore",
          "Bahria Town - Sector C , Lahore",
          "Bahria Town - Sector C , Lahore",
          "Bahria Town - Sector C , Lahore",
          "Bahria Town - Sector C , Lahore",
          "Wapda Town",
          "Bahria Town - Sector C , Lahore",
          "Wapda Town",
          "DHA Town Phase 9, Lahore",
          "DHA Town Phase 9, Lahore",
          "DHA Town Phase 9, Lahore",
          "DHA Town Phase 9, Lahore",
          "DHA Town Phase 9, Lahore",
          "DHA Town Phase 9, Lahore",
          "DHA Town Phase 9, Lahore",
          "DHA Town Phase 9, Lahore",
          "DHA Town Phase 9, Lahore",
          "DHA",
          "Al Rehman Garden Phase 2, Lahore",
          "DHA",
          "Al Rehman Garden Phase 2, Lahore",
          "Al Rehman Garden Phase 2, Lahore",
          "DHA",
          "Al Rehman Garden Phase 2, Lahore",
          "DHA Town Phase 9, Lahore",
          "Al Rehman Garden Phase 2, Lahore",
          "Gulberg",
          "Al Rehman Garden Phase 2, Lahore",
          "DHA",
          "DHA",
          "DHA Town Phase 9, Lahore",
          "DHA Town Phase 9, Lahore",
          "Al Rehman Garden Phase 2, Lahore",
          "DHA",
          "DHA",
          "Al Rehman Garden Phase 2, Lahore",
          "Al Rehman Garden Phase 2, Lahore",
          "DHA",
          "DHA Town Phase 9, Lahore",
          "DHA",
          "Al Rehman Garden Phase 2, Lahore",
          "DHA",
          "DHA",
          "DHA Town Phase 9, Lahore",
          "Al Rehman Garden Phase 2, Lahore",
          "DHA",
          "DHA Town Phase 9, Lahore",
          "DHA",
          "DHA",
          "DHA Town Phase 9, Lahore",
          "DHA Town Phase 9, Lahore",
          "Bahria Town - Sector F, Lahore",
          "DHA Town Phase 9, Lahore",
          "DHA Town Phase 9, Lahore",
          "DHA Town Phase 9, Lahore",
          "Bahria Town - Sector F, Lahore",
          "Bahria Town - Sector F, Lahore",
          "Askari 11, Lahore",
          "Bahria Town - Sector F, Lahore",
          "DHA Town Phase 9, Lahore",
          "DHA Town Phase 9, Lahore",
          "Bahria Town - Sector F, Lahore",
          "DHA Town Phase 9, Lahore",
          "Bahria Town - Sector F, Lahore",
          "Bahria Town - Sector F, Lahore",
          "DHA Town Phase 9, Lahore",
          "DHA Town Phase 9, Lahore",
          "DHA Town Phase 9, Lahore",
          "DHA Town Phase 9, Lahore",
          "DHA",
          "Wapda Town",
          "Wapda Town",
          "DHA",
          "Wapda Town",
          "DHA",
          "Wapda Town",
          "Wapda Town",
          "DHA",
          "Wapda Town",
          "DHA",
          "Icon Valley Housing Scheme, Lahore",
          "Manawan, Lahore",
          "Bismillah Housing Scheme, Lahore",
          "Johar Town",
          "LDA Avenue, Lahore",
          "DHA Town Phase 9, Lahore",
          "Safari Garden, Lahore",
          "Abdul Sattar Edhi Road, Lahore",
          "Al Kabir Town Phase 2, Lahore",
          "Bahria Town - Sector F, Lahore",
          "Bahria Town - Sector F, Lahore",
          "Bahria Town - Sector F, Lahore",
          "Bahria Town - Sector F, Lahore",
          "Bahria Town - Sector F, Lahore",
          "Bahria Town - Sector F, Lahore",
          "Bahria Town - Sector F, Lahore",
          "Bahria Town - Sector F, Lahore",
          "Bahria Town - Sector F, Lahore",
          "Bahria Town - Sector F, Lahore",
          "Bahria Town - Sector F, Lahore",
          "Bahria Town - Sector F, Lahore",
          "Bahria Town - Sector F, Lahore",
          "Bahria Town - Sector F, Lahore",
          "Bahria Town - Sector F, Lahore",
          "Bahria Town - Sector F, Lahore",
          "Bahria Town - Sector F, Lahore",
          "Bahria Town - Sector F, Lahore",
          "Bahria Town - Sector F, Lahore",
          "Bahria Town - Sector F, Lahore",
          "Bahria Town - Sector F, Lahore",
          "Bahria Town - Sector F, Lahore",
          "Bahria Town - Sector F, Lahore",
          "Bahria Town - Sector F, Lahore",
          "Bahria Town - Sector F, Lahore",
          "Bahria Town - Sector C , Lahore",
          "Bahria Town - Sector F, Lahore",
          "Bahria Town - Sector F, Lahore",
          "Bahria Town - Sector F, Lahore",
          "Bahria Town - Sector C , Lahore",
          "Bahria Town - Sector F, Lahore",
          "Bahria Town - Sector C , Lahore",
          "Bahria Town - Sector C , Lahore",
          "Bahria Town - Sector F, Lahore",
          "Bahria Town - Sector F, Lahore",
          "Bahria Town - Sector F, Lahore",
          "Bahria Town - Sector C , Lahore",
          "Bahria Town - Sector F, Lahore",
          "DHA",
          "Bahria Town - Sector F, Lahore",
          "Bahria Town - Sector C , Lahore",
          "Bahria Town - Sector F, Lahore",
          "Bahria Town - Sector F, Lahore",
          "Bahria Town - Sector C , Lahore",
          "Bahria Town - Sector C , Lahore",
          "Bahria Town - Sector C , Lahore",
          "Bahria Town - Sector F, Lahore",
          "Bahria Town - Sector F, Lahore",
          "Bahria Town - Sector C , Lahore",
          "Bahria Town - Sector F, Lahore",
          "Bahria Town - Sector F, Lahore",
          "Bahria Town - Sector F, Lahore",
          "Bahria Town - Sector B, Lahore",
          "Bahria Town - Sector F, Lahore",
          "Bahria Town - Sector F, Lahore",
          "Bahria Town - Sector F, Lahore",
          "Bahria Town - Sector F, Lahore",
          "Bahria Town - Sector F, Lahore",
          "Bahria Town - Sector F, Lahore",
          "Bahria Town - Sector C , Lahore",
          "Bahria Town - Sector C , Lahore",
          "Bahria Town - Sector C , Lahore",
          "Bahria Town - Sector C , Lahore",
          "Bahria Town - Sector F, Lahore",
          "Bahria Town - Sector F, Lahore",
          "Bahria Town - Sector F, Lahore",
          "Bahria Town - Sector C , Lahore",
          "Bahria Town - Sector C , Lahore",
          "Bahria Town - Sector F, Lahore",
          "Bahria Town - Sector F, Lahore",
          "Formanites Housing Scheme, Lahore",
          "Bahria Town - Sector C , Lahore",
          "Bahria Town - Sector C , Lahore",
          "Bahria Town - Sector F, Lahore",
          "Bahria Town - Sector F, Lahore",
          "Bahria Town - Sector F, Lahore",
          "Bahria Town - Sector F, Lahore",
          "Bahria Town - Sector F, Lahore",
          "Bahria Town - Sector F, Lahore",
          "Bahria Town - Sector B, Lahore",
          "Bahria Town - Sector F, Lahore",
          "Bahria Town - Sector F, Lahore",
          "Bahria Town - Sector F, Lahore",
          "Bahria Town - Sector C , Lahore",
          "Bahria Town - Sector F, Lahore",
          "Bahria Town - Sector F, Lahore",
          "Bahria Town - Sector C , Lahore",
          "Bahria Town - Sector F, Lahore",
          "Bahria Town - Sector C , Lahore",
          "Bahria Town - Sector C , Lahore",
          "Al Rehman Garden Phase 2, Lahore",
          "Al Rehman Garden Phase 2, Lahore",
          "Al Rehman Garden Phase 2, Lahore",
          "Al Rehman Garden Phase 2, Lahore",
          "Al Rehman Garden Phase 2, Lahore",
          "Al Rehman Garden Phase 2, Lahore",
          "Al Rehman Garden Phase 2, Lahore",
          "Al Rehman Garden Phase 2, Lahore",
          "Al Rehman Garden Phase 2, Lahore",
          "Al Rehman Garden Phase 2, Lahore",
          "Al Rehman Garden Phase 2, Lahore",
          "Al Rehman Garden Phase 2, Lahore",
          "Al Rehman Garden Phase 2, Lahore",
          "Al Rehman Garden Phase 2, Lahore",
          "Al Rehman Garden Phase 2, Lahore",
          "Al Rehman Garden Phase 2, Lahore",
          "Al Rehman Garden Phase 2, Lahore",
          "Al Rehman Garden Phase 2, Lahore",
          "Al Rehman Garden Phase 2, Lahore",
          "Al Rehman Garden Phase 2, Lahore",
          "Al Rehman Garden Phase 2, Lahore",
          "Al Rehman Garden Phase 2, Lahore",
          "Al Rehman Garden Phase 2, Lahore",
          "Bahria Town - Sector F, Lahore",
          "Al Rehman Garden Phase 2, Lahore",
          "Bahria Town - Sector F, Lahore",
          "Bahria Town - Sector F, Lahore",
          "Bahria Town - Golf View Residencia, Lahore",
          "Bahria Town - Sector C , Lahore",
          "Bahria Town - Sector F, Lahore",
          "Ashrafi Town (Al Kareem City), Lahore",
          "Al Rehman Garden Phase 2, Lahore",
          "Al Rehman Garden Phase 2, Lahore",
          "Al Rehman Garden Phase 2, Lahore",
          "Al Rehman Garden Phase 2, Lahore",
          "Al Rehman Garden Phase 2, Lahore",
          "Al Rehman Garden Phase 2, Lahore",
          "Al Rehman Garden Phase 2, Lahore",
          "Al Rehman Garden Phase 2, Lahore",
          "Al Rehman Garden Phase 2, Lahore",
          "Al Rehman Garden Phase 2, Lahore",
          "Al Rehman Garden Phase 2, Lahore",
          "Al Rehman Garden Phase 2, Lahore",
          "Al Rehman Garden Phase 2, Lahore",
          "Al Rehman Garden Phase 2, Lahore",
          "Al Rehman Garden Phase 2, Lahore",
          "Gulberg",
          "Gulberg",
          "Gulberg",
          "Gulberg",
          "Gulberg",
          "Gulberg",
          "Gulberg",
          "Gulberg",
          "Gulberg",
          "Allama Iqbal Town",
          "Allama Iqbal Town",
          "Allama Iqbal Town",
          "Allama Iqbal Town",
          "Allama Iqbal Town",
          "Allama Iqbal Town",
          "Allama Iqbal Town",
          "Allama Iqbal Town",
          "Allama Iqbal Town",
          "Allama Iqbal Town",
          "Allama Iqbal Town",
          "Allama Iqbal Town",
          "Allama Iqbal Town",
          "Allama Iqbal Town",
          "Allama Iqbal Town",
          "Allama Iqbal Town",
          "Allama Iqbal Town",
          "Allama Iqbal Town",
          "Allama Iqbal Town",
          "Allama Iqbal Town",
          "Allama Iqbal Town",
          "Allama Iqbal Town",
          "Allama Iqbal Town",
          "Allama Iqbal Town",
          "Allama Iqbal Town",
          "Allama Iqbal Town",
          "Allama Iqbal Town",
          "Allama Iqbal Town",
          "Allama Iqbal Town",
          "Johar Town",
          "Johar Town",
          "Johar Town",
          "Johar Town",
          "Johar Town",
          "Johar Town",
          "Johar Town",
          "Johar Town",
          "Johar Town",
          "Johar Town",
          "Johar Town",
          "Johar Town",
          "Bahria Town - Sector C , Lahore",
          "Bahria Town - Sector C , Lahore",
          "Bahria Town - Sector C , Lahore",
          "Bahria Town - Sector C , Lahore",
          "Bahria Town - Sector C , Lahore",
          "Bahria Town - Sector C , Lahore",
          "Johar Town",
          "Johar Town",
          "Faisal Town",
          "Faisal Town",
          "Gulberg",
          "Gulberg",
          "Faisal Town",
          "Faisal Town",
          "Faisal Town",
          "Faisal Town",
          "Gulberg",
          "Gulberg",
          "Faisal Town",
          "Faisal Town",
          "Gulberg",
          "Faisal Town",
          "Gulberg",
          "Gulberg",
          "Faisal Town",
          "Gulberg",
          "Faisal Town",
          "Gulberg",
          "Faisal Town",
          "Gulberg",
          "Faisal Town",
          "Gulberg",
          "Gulberg",
          "Gulberg",
          "Model Town",
          "Model Town",
          "Model Town",
          "Super Town, Lahore",
          "Gulberg",
          "Wapda Town",
          "Wapda Town",
          "Gulberg",
          "Wapda Town",
          "Gulberg",
          "Wapda Town",
          "Wapda Town",
          "Wapda Town",
          "Gulberg",
          "Wapda Town",
          "Wapda Town",
          "Gulberg",
          "Gulberg",
          "Gulberg",
          "Gulberg",
          "Gulberg",
          "Gulberg",
          "Gulberg",
          "Gulberg",
          "Gulberg",
          "Gulberg",
          "Johar Town",
          "Faisal Town",
          "Bahria Town - Sector F, Lahore",
          "Bahria Town - Sector F, Lahore",
          "Bahria Town - Sector F, Lahore",
          "Faisal Town",
          "Faisal Town",
          "Johar Town",
          "Johar Town",
          "Johar Town",
          "Johar Town",
          "Gulberg",
          "Gulberg",
          "Gulberg",
          "Gulberg",
          "Gulberg",
          "Gulberg",
          "Gulberg",
          "Gulberg",
          "Gulberg",
          "Gulberg",
          "Wapda Town",
          "Wapda Town",
          "Wapda Town",
          "Wapda Town",
          "Wapda Town",
          "Bahria Town - Sector F, Lahore",
          "Wapda Town",
          "Wapda Town",
          "Bahria Town - Sector F, Lahore",
          "Wapda Town",
          "Bahria Town - Sector F, Lahore",
          "Bahria Town - Sector F, Lahore",
          "Wapda Town",
          "Bahria Town - Sector F, Lahore",
          "Bahria Town - Sector E , Lahore",
          "Bahria Town - Sector E , Lahore",
          "Bahria Town - Sector E , Lahore",
          "Bahria Town - Sector B, Lahore",
          "Faisal Town",
          "Faisal Town",
          "DHA",
          "Township - Sector A1, Lahore",
          "DHA",
          "Garden Town",
          "Garden Town",
          "Garden Town",
          "Garden Town",
          "Garden Town",
          "Garden Town",
          "Garden Town",
          "Garden Town",
          "Garden Town",
          "Garden Town",
          "MM Alam Road, Lahore",
          "Johar Town",
          "Johar Town",
          "DHA",
          "DHA",
          "DHA",
          "Khayaban e Jinnah, Lahore",
          "Gulberg",
          "Gulberg",
          "Gulberg",
          "Gulberg",
          "Gulberg",
          "Fazaia Housing Scheme, Lahore",
          "Gulberg",
          "Gulberg",
          "Gulberg",
          "Gulberg",
          "Ferozepur Road, Lahore",
          "Gulberg",
          "Garden Town",
          "Garden Town",
          "Garden Town",
          "Garden Town",
          "Garden Town",
          "Garden Town",
          "Garden Town",
          "Garden Town",
          "Garden Town",
          "Garden Town",
          "Garden Town",
          "Garden Town",
          "Garden Town",
          "Garden Town",
          "Garden Town",
          "Garden Town",
          "Garden Town",
          "DHA",
          "Garden Town",
          "Garden Town",
          "Garden Town",
          "Garden Town",
          "Garden Town",
          "Garden Town",
          "Garden Town",
          "Garden Town",
          "Garden Town",
          "Garden Town",
          "Garden Town",
          "Garden Town",
          "Garden Town",
          "Garden Town",
          "Garden Town",
          "Garden Town",
          "Garden Town",
          "DHA",
          "Gulberg",
          "DHA",
          "DHA",
          "Garden Town",
          "Garden Town",
          "Garden Town",
          "Garden Town",
          "Gulberg",
          "Gulberg",
          "Allama Iqbal Town",
          "Gulberg",
          "Gulberg",
          "Gulberg",
          "Gulberg",
          "Gulberg",
          "DHA",
          "Gulberg",
          "Gulberg",
          "Gulberg",
          "Faisal Town",
          "DHA",
          "Garden Town",
          "Garden Town",
          "Faisal Town",
          "Faisal Town",
          "Faisal Town",
          "Model Town",
          "Model Town",
          "Garden Town",
          "Garden Town",
          "Garden Town",
          "Garden Town",
          "Al Hafeez Gardens, Lahore",
          "Al Hafeez Garden Road, Lahore",
          "DHA",
          "DHA",
          "Garden Town",
          "Garden Town",
          "Quaid-e-Azam Industrial Estate, Lahore",
          "Multan Road, Lahore",
          "Multan Road, Lahore",
          "Raiwind Road, Lahore",
          "Thokar Niaz Baig, Lahore",
          "Multan Road, Lahore",
          "Thokar Niaz Baig, Lahore",
          "Multan Road, Lahore",
          "Multan Road, Lahore",
          "Multan Road, Lahore",
          "Multan Road, Lahore",
          "Multan Road, Lahore",
          "Multan Road, Lahore",
          "Bahria Town - Sector E , Lahore",
          "Anarkali, Lahore",
          "Township, Lahore",
          "Audit and Accounts Housing Society, Lahore",
          "Gulberg",
          "Anarkali, Lahore",
          "Mazang, Lahore",
          "Samanabad, Lahore",
          "DHA",
          "Samanabad, Lahore",
          "Kot Lakhpat, Lahore",
          "Raiwind Road, Lahore",
          "Awan Town, Lahore",
          "Allama Iqbal Town",
          "Marghzar Colony, Lahore",
          "Empress Road, Lahore",
          "Davis Road, Lahore",
          "Mustafa Town, Lahore",
          "Gulberg",
          "DHA",
          "Gulberg",
          "DHA",
          "Model Town",
          "Anarkali, Lahore",
          "Mustafa Town, Lahore",
          "Mustafa Town, Lahore",
          "Gulberg",
          "MM Alam Road, Lahore",
          "Multan Road, Lahore",
          "Multan Road, Lahore",
          "DHA",
          "Wapda Town",
          "Wapda Town",
          "DHA",
          "DHA",
          "DHA",
          "DHA",
          "DHA",
          "DHA",
          "Wapda Town",
          "DHA",
          "DHA",
          "Wapda Town",
          "DHA",
          "Wapda Town",
          "DHA",
          "DHA",
          "Wapda Town",
          "Wapda Town",
          "Wapda Town",
          "DHA",
          "Wapda Town",
          "DHA",
          "DHA",
          "Wapda Town",
          "DHA",
          "Wapda Town",
          "DHA",
          "Wapda Town",
          "DHA",
          "DHA",
          "DHA",
          "Johar Town",
          "DHA",
          "DHA",
          "DHA",
          "DHA",
          "DHA",
          "DHA",
          "DHA",
          "DHA",
          "DHA",
          "DHA",
          "DHA",
          "DHA",
          "DHA",
          "DHA",
          "Bahria Town - Sector F, Lahore",
          "DHA",
          "DHA",
          "Bahria Town - Sector F, Lahore",
          "DHA",
          "DHA",
          "Bahria Town - Sector F, Lahore",
          "DHA",
          "DHA",
          "DHA",
          "DHA",
          "DHA",
          "DHA",
          "DHA",
          "DHA",
          "DHA",
          "DHA",
          "DHA",
          "DHA",
          "DHA",
          "DHA",
          "DHA",
          "DHA",
          "DHA",
          "DHA",
          "DHA",
          "Bahria Town - Sector C , Lahore",
          "Bahria Town - Sector C , Lahore",
          "Bahria Town - Sector C , Lahore",
          "Bahria Town - Sector C , Lahore",
          "Bahria Town - Sector C , Lahore",
          "Bahria Town - Sector C , Lahore",
          "Gulberg",
          "Bahria Town - Sector C , Lahore",
          "Bahria Town - Sector C , Lahore",
          "Al Rehman Garden Phase 2, Lahore",
          "Al Rehman Garden Phase 2, Lahore",
          "Al Rehman Garden Phase 2, Lahore",
          "Al Rehman Garden Phase 2, Lahore",
          "Al Rehman Garden Phase 2, Lahore",
          "Al Rehman Garden Phase 2, Lahore",
          "Al Rehman Garden Phase 2, Lahore",
          "Al Rehman Garden Phase 2, Lahore",
          "Al Rehman Garden Phase 2, Lahore",
          "Al Rehman Garden Phase 2, Lahore",
          "Al Rehman Garden Phase 2, Lahore",
          "Al Rehman Garden Phase 2, Lahore",
          "Al Rehman Garden Phase 2, Lahore",
          "Al Rehman Garden Phase 2, Lahore",
          "Al Rehman Garden Phase 2, Lahore",
          "Al Rehman Garden Phase 2, Lahore",
          "Al Rehman Garden Phase 2, Lahore",
          "Al Rehman Garden Phase 2, Lahore",
          "Al Rehman Garden Phase 2, Lahore",
          "DHA",
          "DHA",
          "DHA",
          "DHA",
          "DHA",
          "DHA",
          "DHA",
          "DHA",
          "DHA",
          "DHA",
          "DHA",
          "DHA",
          "DHA",
          "DHA",
          "DHA",
          "DHA",
          "DHA",
          "DHA",
          "DHA",
          "Bahria Town - Sector F, Lahore",
          "Bahria Town - Sector F, Lahore",
          "DHA",
          "Bahria Town - Sector F, Lahore",
          "DHA",
          "Bahria Town - Sector F, Lahore",
          "Bahria Town - Sector F, Lahore",
          "Bahria Town - Sector F, Lahore",
          "Bahria Town - Sector F, Lahore",
          "DHA",
          "DHA",
          "DHA",
          "DHA",
          "DHA",
          "DHA",
          "DHA",
          "DHA",
          "DHA",
          "DHA",
          "DHA",
          "DHA",
          "DHA",
          "DHA",
          "DHA",
          "DHA",
          "DHA",
          "DHA",
          "DHA",
          "DHA",
          "Gulberg",
          "DHA",
          "DHA",
          "DHA",
          "DHA",
          "Gulberg",
          "Askari 11, Lahore",
          "DHA",
          "DHA",
          "Askari 11, Lahore",
          "DHA",
          "Askari 11, Lahore",
          "Askari 11, Lahore",
          "Wapda Town",
          "Wapda Town",
          "Wapda Town",
          "Gulberg",
          "DHA",
          "DHA",
          "DHA",
          "DHA",
          "DHA",
          "DHA",
          "DHA",
          "DHA",
          "DHA",
          "DHA",
          "DHA Town Phase 9, Lahore",
          "DHA Town Phase 9, Lahore",
          "DHA Town Phase 9, Lahore",
          "DHA Town Phase 9, Lahore",
          "DHA Town Phase 9, Lahore",
          "DHA Town Phase 9, Lahore",
          "DHA Town Phase 9, Lahore",
          "DHA Town Phase 9, Lahore",
          "DHA Town Phase 9, Lahore",
          "Lahore Motorway City, Lahore",
          "Al Rehman Garden Phase 2, Lahore",
          "Al Rehman Garden Phase 2, Lahore",
          "Al Rehman Garden Phase 2, Lahore",
          "Al Rehman Garden Phase 2, Lahore",
          "Al Rehman Garden Phase 2, Lahore",
          "Al Rehman Garden Phase 2, Lahore",
          "DHA",
          "DHA",
          "DHA",
          "DHA",
          "DHA",
          "DHA",
          "DHA",
          "DHA",
          "DHA",
          "DHA",
          "DHA",
          "DHA",
          "DHA",
          "DHA",
          "DHA",
          "DHA",
          "DHA",
          "DHA",
          "DHA",
          "Al Rehman Garden Phase 2, Lahore",
          "Al Rehman Garden Phase 2, Lahore",
          "Al Rehman Garden Phase 2, Lahore",
          "Al Rehman Garden Phase 2, Lahore",
          "Al Rehman Garden Phase 2, Lahore",
          "Al Rehman Garden Phase 2, Lahore",
          "Al Rehman Garden Phase 2, Lahore",
          "Al Rehman Garden Phase 2, Lahore",
          "Al Rehman Garden Phase 2, Lahore",
          "Al Rehman Garden Phase 2, Lahore",
          "Al Rehman Garden Phase 2, Lahore",
          "Al Rehman Garden Phase 2, Lahore",
          "Al Rehman Garden Phase 2, Lahore",
          "Al Rehman Garden Phase 2, Lahore",
          "Al Rehman Garden Phase 2, Lahore",
          "Al Rehman Garden Phase 2, Lahore",
          "Al Rehman Garden Phase 2, Lahore",
          "Al Rehman Garden Phase 2, Lahore",
          "Al Rehman Garden Phase 2, Lahore",
          "Al Rehman Garden Phase 2, Lahore",
          "Al Rehman Garden Phase 2, Lahore",
          "Al Rehman Garden Phase 2, Lahore",
          "Al Rehman Garden Phase 2, Lahore",
          "Al Rehman Garden Phase 2, Lahore",
          "Al Rehman Garden Phase 2, Lahore",
          "Al Rehman Garden Phase 2, Lahore",
          "Al Rehman Garden Phase 2, Lahore",
          "Al Rehman Garden Phase 2, Lahore",
          "Al Rehman Garden Phase 2, Lahore",
          "Al Rehman Garden Phase 2, Lahore",
          "Al Rehman Garden Phase 2, Lahore",
          "Al Rehman Garden Phase 2, Lahore",
          "Al Rehman Garden Phase 2, Lahore",
          "Al Rehman Garden Phase 2, Lahore",
          "Al Rehman Garden Phase 2, Lahore",
          "Al Rehman Garden Phase 2, Lahore",
          "Bahria Town - Sector F, Lahore",
          "Bahria Town - Sector F, Lahore",
          "DHA",
          "DHA",
          "DHA",
          "DHA",
          "DHA",
          "DHA",
          "DHA",
          "DHA",
          "DHA",
          "DHA",
          "DHA",
          "DHA",
          "DHA",
          "DHA",
          "DHA",
          "DHA Town Phase 9, Lahore",
          "DHA Town Phase 9, Lahore",
          "DHA Town Phase 9, Lahore",
          "DHA Town Phase 9, Lahore",
          "DHA Town Phase 9, Lahore",
          "Al Rehman Garden Phase 2, Lahore",
          "DHA Town Phase 9, Lahore",
          "Al Rehman Garden Phase 2, Lahore",
          "Al Rehman Garden Phase 2, Lahore",
          "DHA Town Phase 9, Lahore",
          "DHA Town Phase 9, Lahore",
          "Al Rehman Garden Phase 2, Lahore",
          "Al Rehman Garden Phase 2, Lahore",
          "Al Rehman Garden Phase 2, Lahore",
          "Al Rehman Garden Phase 2, Lahore",
          "DHA Town Phase 9, Lahore",
          "Al Rehman Garden Phase 2, Lahore",
          "DHA Town Phase 9, Lahore",
          "DHA Town Phase 9, Lahore",
          "Al Rehman Garden Phase 2, Lahore",
          "Al Rehman Garden Phase 2, Lahore",
          "DHA Town Phase 9, Lahore",
          "Al Rehman Garden Phase 2, Lahore",
          "DHA Town Phase 9, Lahore",
          "DHA Town Phase 9, Lahore",
          "Al Rehman Garden Phase 2, Lahore",
          "DHA Town Phase 9, Lahore",
          "Al Rehman Garden Phase 2, Lahore",
          "DHA Town Phase 9, Lahore",
          "Al Rehman Garden Phase 2, Lahore",
          "DHA Town Phase 9, Lahore",
          "DHA Town Phase 9, Lahore",
          "Al Rehman Garden Phase 2, Lahore",
          "DHA Town Phase 9, Lahore",
          "Al Rehman Garden Phase 2, Lahore",
          "Al Rehman Garden Phase 2, Lahore",
          "Al Rehman Garden Phase 2, Lahore",
          "DHA Town Phase 9, Lahore",
          "Al Rehman Garden Phase 2, Lahore",
          "DHA Town Phase 9, Lahore",
          "Al Rehman Garden Phase 2, Lahore",
          "DHA Town Phase 9, Lahore",
          "Al Rehman Garden Phase 2, Lahore",
          "DHA Town Phase 9, Lahore",
          "DHA Town Phase 9, Lahore",
          "DHA Town Phase 9, Lahore",
          "DHA Town Phase 9, Lahore",
          "Al Rehman Garden Phase 2, Lahore",
          "Al Rehman Garden Phase 2, Lahore",
          "Al Rehman Garden Phase 2, Lahore",
          "Al Rehman Garden Phase 2, Lahore",
          "Al Rehman Garden Phase 2, Lahore",
          "Al Rehman Garden Phase 2, Lahore",
          "DHA",
          "LDA Avenue, Lahore",
          "Park View City, Lahore",
          "DHA",
          "Johar Town",
          "Park View City, Lahore",
          "DHA Rahbar, Lahore",
          "Al Rehman Garden Phase 2, Lahore",
          "Al Rehman Garden Phase 2, Lahore",
          "Al Rehman Garden Phase 2, Lahore",
          "Al Rehman Garden Phase 2, Lahore",
          "Al Rehman Garden Phase 2, Lahore",
          "Al Rehman Garden Phase 2, Lahore",
          "Al Rehman Garden Phase 2, Lahore",
          "Al Rehman Garden Phase 2, Lahore",
          "Al Rehman Garden Phase 2, Lahore",
          "Al Rehman Garden Phase 2, Lahore",
          "Al Rehman Garden Phase 2, Lahore",
          "Al Rehman Garden Phase 2, Lahore",
          "Al Rehman Garden Phase 2, Lahore",
          "Al Rehman Garden Phase 2, Lahore",
          "Al Rehman Garden Phase 2, Lahore",
          "Al Rehman Garden Phase 2, Lahore",
          "Al Rehman Garden Phase 2, Lahore",
          "Al Rehman Garden Phase 2, Lahore",
          "Al Rehman Garden Phase 2, Lahore",
          "Al Rehman Garden Phase 2, Lahore",
          "Al Rehman Garden Phase 2, Lahore",
          "Al Rehman Garden Phase 2, Lahore",
          "Al Rehman Garden Phase 2, Lahore",
          "Al Rehman Garden Phase 2, Lahore",
          "Al Rehman Garden Phase 2, Lahore",
          "Al Rehman Garden Phase 2, Lahore",
          "Al Rehman Garden Phase 2, Lahore",
          "Al Rehman Garden Phase 2, Lahore",
          "Al Rehman Garden Phase 2, Lahore",
          "DHA",
          "DHA",
          "DHA",
          "DHA",
          "DHA",
          "DHA",
          "DHA",
          "DHA",
          "DHA",
          "DHA",
          "DHA",
          "DHA",
          "DHA",
          "DHA",
          "DHA",
          "DHA",
          "DHA",
          "DHA",
          "DHA",
          "DHA",
          "DHA",
          "DHA",
          "DHA",
          "DHA",
          "DHA",
          "DHA",
          "DHA",
          "Johar Town",
          "Johar Town",
          "Johar Town",
          "Johar Town",
          "Johar Town",
          "Johar Town",
          "Johar Town",
          "DHA",
          "DHA",
          "Johar Town",
          "DHA",
          "Johar Town",
          "DHA",
          "DHA",
          "Johar Town",
          "Johar Town",
          "Johar Town",
          "Johar Town",
          "Johar Town",
          "Johar Town",
          "Johar Town",
          "DHA",
          "DHA",
          "Johar Town",
          "DHA",
          "Johar Town",
          "DHA",
          "DHA",
          "DHA",
          "Johar Town",
          "DHA",
          "Johar Town",
          "DHA",
          "DHA Rahbar, Lahore",
          "DHA",
          "DHA",
          "PCSIR Housing Society Phase 2, Lahore",
          "Khayaban e Amin, Lahore",
          "Bahria Town, Lahore",
          "New Lahore City Housing Scheme, Lahore",
          "Bahria Orchard, Lahore",
          "Wapda Town",
          "Wapda Town",
          "Wapda Town",
          "Wapda Town",
          "Wapda Town",
          "Wapda Town",
          "Gulberg",
          "Wapda Town",
          "Wapda Town",
          "Wapda Town",
          "Wapda Town",
          "Wapda Town",
          "Wapda Town",
          "Wapda Town",
          "Wapda Town",
          "Wapda Town",
          "Wapda Town",
          "Wapda Town",
          "Wapda Town",
          "Qartaba Chowk, Lahore",
          "Allama Iqbal Town",
          "Allama Iqbal Town",
          "Allama Iqbal Town",
          "Allama Iqbal Town",
          "Allama Iqbal Town",
          "Allama Iqbal Town",
          "Allama Iqbal Town",
          "Allama Iqbal Town",
          "Allama Iqbal Town",
          "Johar Town",
          "Johar Town",
          "Gulberg",
          "Gulberg",
          "Gulberg",
          "Gulberg",
          "Gulberg",
          "Gulberg",
          "Gulberg",
          "Gulberg",
          "Gulberg",
          "Gulberg",
          "Gulberg",
          "Bahria Town - Sector C , Lahore",
          "Gulberg",
          "Bahria Town - Sector C , Lahore",
          "Bahria Town - Sector C , Lahore",
          "Bahria Town - Sector C , Lahore",
          "Bahria Town - Sector C , Lahore",
          "Gulberg",
          "Bahria Town - Sector C , Lahore",
          "Bahria Town - Sector C , Lahore",
          "Gulberg",
          "Gulberg",
          "State Life Cooperative Housing Scheme, Lahore",
          "Punjab University Society Phase 2, Lahore",
          "Wapda Town",
          "Gulberg",
          "Wapda Town",
          "Wapda Town",
          "Wapda Town",
          "Wapda Town",
          "Wapda Town",
          "Wapda Town",
          "Wapda Town",
          "Gulberg",
          "Gulberg",
          "Gulberg",
          "Gulberg",
          "Gulberg",
          "Gulberg",
          "Gulberg",
          "Gulberg",
          "Wapda Town",
          "Wapda Town",
          "Wapda Town",
          "Wapda Town",
          "Wapda Town",
          "Wapda Town",
          "Wapda Town",
          "Wapda Town",
          "Wapda Town",
          "Wapda Town",
          "Wapda Town",
          "Wapda Town",
          "Wapda Town",
          "Wapda Town",
          "Wapda Town",
          "Wapda Town",
          "Wapda Town",
          "Wapda Town",
          "Wapda Town",
          "Wapda Town",
          "Wapda Town",
          "Wapda Town",
          "Wapda Town",
          "Wapda Town",
          "Wapda Town",
          "Wapda Town",
          "Wapda Town",
          "Wapda Town",
          "State Life Cooperative Housing Scheme, Lahore",
          "DHA",
          "Johar Town",
          "Allama Iqbal Town",
          "Allama Iqbal Town",
          "Allama Iqbal Town",
          "Allama Iqbal Town",
          "Allama Iqbal Town",
          "Allama Iqbal Town",
          "Allama Iqbal Town",
          "Allama Iqbal Town",
          "Allama Iqbal Town",
          "Allama Iqbal Town",
          "Allama Iqbal Town",
          "Allama Iqbal Town",
          "Allama Iqbal Town",
          "Allama Iqbal Town",
          "Allama Iqbal Town",
          "Allama Iqbal Town",
          "Allama Iqbal Town",
          "Allama Iqbal Town",
          "Allama Iqbal Town",
          "Allama Iqbal Town",
          "Allama Iqbal Town",
          "Allama Iqbal Town",
          "Allama Iqbal Town",
          "Allama Iqbal Town",
          "Gulberg",
          "Gulberg",
          "Gulberg",
          "Gulberg",
          "Gulberg",
          "Bahria Town - Sector F, Lahore",
          "Bahria Town - Sector F, Lahore",
          "Bahria Town - Sector F, Lahore",
          "Gulberg",
          "Bahria Town - Sector F, Lahore",
          "Gulberg",
          "Bahria Town - Sector F, Lahore",
          "Gulberg",
          "Bahria Town - Sector F, Lahore",
          "Gulberg",
          "Gulberg",
          "Gulberg",
          "Gulberg",
          "Gulberg",
          "Gulberg",
          "Gulberg",
          "DHA",
          "DHA Town Phase 9, Lahore",
          "DHA",
          "DHA Town Phase 9, Lahore",
          "Gulberg",
          "Gulberg",
          "Gulberg",
          "Gulberg",
          "Gulberg",
          "Gulberg",
          "Gulberg",
          "Gulberg",
          "Gulberg",
          "Gulberg",
          "Gulberg",
          "Bahria Town - Sector C , Lahore",
          "Bahria Town - Sector C , Lahore",
          "Bahria Town - Sector C , Lahore",
          "Bahria Town - Sector C , Lahore",
          "Bahria Town - Sector C , Lahore",
          "Bahria Town - Sector C , Lahore",
          "Bahria Town - Sector C , Lahore",
          "Bahria Town - Sector C , Lahore",
          "Johar Town",
          "Johar Town",
          "Johar Town",
          "Johar Town",
          "Johar Town",
          "Johar Town",
          "Johar Town",
          "Johar Town",
          "Johar Town",
          "Johar Town",
          "Johar Town",
          "Johar Town",
          "Johar Town",
          "Johar Town",
          "Johar Town",
          "Johar Town",
          "Johar Town",
          "Johar Town",
          "Johar Town",
          "Johar Town",
          "Johar Town",
          "Johar Town",
          "Johar Town",
          "Johar Town",
          "Johar Town",
          "Johar Town",
          "Johar Town",
          "Johar Town",
          "Johar Town",
          "Johar Town",
          "Johar Town",
          "Johar Town",
          "Johar Town",
          "Johar Town",
          "Johar Town",
          "Johar Town",
          "Johar Town",
          "Johar Town",
          "Johar Town",
          "DHA",
          "DHA",
          "DHA",
          "DHA",
          "DHA",
          "DHA",
          "DHA",
          "Johar Town",
          "DHA",
          "Johar Town",
          "DHA",
          "Johar Town",
          "Johar Town",
          "Johar Town",
          "Johar Town",
          "Johar Town",
          "Johar Town",
          "Johar Town",
          "DHA",
          "Johar Town",
          "DHA",
          "Johar Town",
          "DHA",
          "Johar Town",
          "DHA",
          "DHA",
          "Johar Town",
          "Johar Town",
          "DHA",
          "Johar Town",
          "Johar Town",
          "Johar Town",
          "DHA",
          "Johar Town",
          "Johar Town",
          "Johar Town",
          "Johar Town",
          "Johar Town",
          "Johar Town",
          "Johar Town",
          "Johar Town",
          "Johar Town",
          "DHA",
          "Johar Town",
          "Johar Town",
          "DHA",
          "Johar Town",
          "Johar Town",
          "Johar Town",
          "Johar Town",
          "Johar Town",
          "DHA",
          "Johar Town",
          "Johar Town",
          "Johar Town",
          "Johar Town",
          "Johar Town",
          "Johar Town",
          "Johar Town",
          "Johar Town",
          "Johar Town",
          "DHA",
          "Johar Town",
          "Johar Town",
          "Johar Town",
          "Johar Town",
          "DHA",
          "Johar Town",
          "Johar Town",
          "DHA",
          "Johar Town",
          "Johar Town",
          "Johar Town",
          "Johar Town",
          "DHA",
          "DHA",
          "DHA",
          "Gulberg",
          "DHA",
          "DHA",
          "DHA",
          "DHA",
          "DHA",
          "DHA",
          "DHA",
          "DHA",
          "DHA Town Phase 9, Lahore",
          "Bahria Town - Sector C , Lahore",
          "Johar Town",
          "DHA Town Phase 9, Lahore",
          "DHA",
          "NFC Society Phase 2, Lahore",
          "Icon Valley Housing Scheme, Lahore",
          "DHA",
          "Manawan, Lahore",
          "GT Road, Lahore",
          "Bedian Road, Lahore",
          "Johar Town",
          "Audit and Accounts Housing Society, Lahore",
          "NESPAK Emp Cooperative Housing Society, Lahore",
          "Muhafiz Town, Lahore",
          "LDA Avenue, Lahore",
          "Sui Northern Gas ECHS Phase 2, Lahore",
          "DHA",
          "DHA",
          "DHA",
          "DHA",
          "DHA",
          "DHA",
          "DHA",
          "DHA",
          "DHA",
          "DHA",
          "DHA",
          "DHA",
          "DHA",
          "DHA",
          "DHA",
          "DHA",
          "DHA",
          "DHA",
          "DHA",
          "DHA",
          "DHA",
          "DHA",
          "DHA",
          "DHA",
          "DHA",
          "DHA",
          "DHA",
          "DHA",
          "DHA",
          "DHA",
          "DHA",
          "DHA",
          "DHA",
          "DHA",
          "DHA",
          "DHA",
          "DHA",
          "DHA",
          "DHA",
          "DHA",
          "DHA",
          "DHA",
          "DHA",
          "DHA",
          "DHA",
          "DHA",
          "DHA",
          "DHA",
          "DHA",
          "DHA",
          "DHA",
          "DHA",
          "DHA",
          "DHA",
          "DHA",
          "DHA",
          "DHA",
          "DHA",
          "DHA",
          "DHA Town Phase 9, Lahore",
          "DHA Town Phase 9, Lahore",
          "DHA Town Phase 9, Lahore",
          "DHA Town Phase 9, Lahore",
          "DHA Town Phase 9, Lahore",
          "DHA Town Phase 9, Lahore",
          "DHA Town Phase 9, Lahore",
          "DHA Town Phase 9, Lahore",
          "DHA Town Phase 9, Lahore",
          "DHA Town Phase 9, Lahore",
          "DHA Town Phase 9, Lahore",
          "DHA Town Phase 9, Lahore",
          "DHA Town Phase 9, Lahore",
          "DHA Town Phase 9, Lahore",
          "DHA",
          "DHA Town Phase 9, Lahore",
          "DHA Town Phase 9, Lahore",
          "DHA Town Phase 9, Lahore",
          "Johar Town",
          "Johar Town",
          "Johar Town",
          "Johar Town",
          "Johar Town",
          "Johar Town",
          "Johar Town",
          "Johar Town",
          "Johar Town",
          "Johar Town",
          "Johar Town",
          "Johar Town",
          "Johar Town",
          "Johar Town",
          "Johar Town",
          "Johar Town",
          "Johar Town",
          "Johar Town",
          "Johar Town",
          "Johar Town",
          "Johar Town",
          "Johar Town",
          "Johar Town",
          "Johar Town",
          "Johar Town",
          "Johar Town",
          "Johar Town",
          "Johar Town",
          "Johar Town",
          "Johar Town",
          "Gulberg",
          "Allama Iqbal Town",
          "Gulberg",
          "Allama Iqbal Town",
          "Allama Iqbal Town",
          "Gulberg",
          "Allama Iqbal Town",
          "Gulberg",
          "Gulberg",
          "Gulberg",
          "Model Town",
          "Gulberg",
          "Gulberg",
          "Model Town",
          "Gulberg",
          "Gulberg",
          "Allama Iqbal Town",
          "Allama Iqbal Town",
          "Allama Iqbal Town",
          "Model Town",
          "Model Town",
          "Model Town",
          "Model Town",
          "Model Town",
          "Model Town",
          "Model Town",
          "Model Town",
          "Model Town",
          "Model Town",
          "Model Town",
          "Gulberg",
          "Model Town",
          "Gulberg",
          "Model Town",
          "Model Town",
          "Model Town",
          "Johar Town",
          "Allama Iqbal Town",
          "Allama Iqbal Town",
          "Allama Iqbal Town",
          "Gulberg",
          "Gulberg",
          "Bahria Town - Sector F, Lahore",
          "Gulberg",
          "Bahria Town - Sector F, Lahore",
          "Bahria Town - Sector F, Lahore",
          "Gulberg",
          "Bahria Town - Sector F, Lahore",
          "Bahria Town - Sector F, Lahore",
          "Gulberg",
          "Gulberg",
          "Bahria Town - Sector F, Lahore",
          "Gulberg",
          "Gulberg",
          "Bahria Town - Sector F, Lahore",
          "Allama Iqbal Town",
          "Allama Iqbal Town",
          "Allama Iqbal Town",
          "Allama Iqbal Town",
          "Allama Iqbal Town"
         ],
         "x0": " ",
         "xaxis": "x",
         "y": {
          "bdata": "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",
          "dtype": "f8"
         },
         "y0": " ",
         "yaxis": "y"
        }
       ],
       "layout": {
        "boxmode": "group",
        "height": 600,
        "legend": {
         "title": {
          "text": "source"
         },
         "tracegroupgap": 0
        },
        "showlegend": true,
        "template": {
         "data": {
          "bar": [
           {
            "error_x": {
             "color": "#2a3f5f"
            },
            "error_y": {
             "color": "#2a3f5f"
            },
            "marker": {
             "line": {
              "color": "#E5ECF6",
              "width": 0.5
             },
             "pattern": {
              "fillmode": "overlay",
              "size": 10,
              "solidity": 0.2
             }
            },
            "type": "bar"
           }
          ],
          "barpolar": [
           {
            "marker": {
             "line": {
              "color": "#E5ECF6",
              "width": 0.5
             },
             "pattern": {
              "fillmode": "overlay",
              "size": 10,
              "solidity": 0.2
             }
            },
            "type": "barpolar"
           }
          ],
          "carpet": [
           {
            "aaxis": {
             "endlinecolor": "#2a3f5f",
             "gridcolor": "white",
             "linecolor": "white",
             "minorgridcolor": "white",
             "startlinecolor": "#2a3f5f"
            },
            "baxis": {
             "endlinecolor": "#2a3f5f",
             "gridcolor": "white",
             "linecolor": "white",
             "minorgridcolor": "white",
             "startlinecolor": "#2a3f5f"
            },
            "type": "carpet"
           }
          ],
          "choropleth": [
           {
            "colorbar": {
             "outlinewidth": 0,
             "ticks": ""
            },
            "type": "choropleth"
           }
          ],
          "contour": [
           {
            "colorbar": {
             "outlinewidth": 0,
             "ticks": ""
            },
            "colorscale": [
             [
              0,
              "#0d0887"
             ],
             [
              0.1111111111111111,
              "#46039f"
             ],
             [
              0.2222222222222222,
              "#7201a8"
             ],
             [
              0.3333333333333333,
              "#9c179e"
             ],
             [
              0.4444444444444444,
              "#bd3786"
             ],
             [
              0.5555555555555556,
              "#d8576b"
             ],
             [
              0.6666666666666666,
              "#ed7953"
             ],
             [
              0.7777777777777778,
              "#fb9f3a"
             ],
             [
              0.8888888888888888,
              "#fdca26"
             ],
             [
              1,
              "#f0f921"
             ]
            ],
            "type": "contour"
           }
          ],
          "contourcarpet": [
           {
            "colorbar": {
             "outlinewidth": 0,
             "ticks": ""
            },
            "type": "contourcarpet"
           }
          ],
          "heatmap": [
           {
            "colorbar": {
             "outlinewidth": 0,
             "ticks": ""
            },
            "colorscale": [
             [
              0,
              "#0d0887"
             ],
             [
              0.1111111111111111,
              "#46039f"
             ],
             [
              0.2222222222222222,
              "#7201a8"
             ],
             [
              0.3333333333333333,
              "#9c179e"
             ],
             [
              0.4444444444444444,
              "#bd3786"
             ],
             [
              0.5555555555555556,
              "#d8576b"
             ],
             [
              0.6666666666666666,
              "#ed7953"
             ],
             [
              0.7777777777777778,
              "#fb9f3a"
             ],
             [
              0.8888888888888888,
              "#fdca26"
             ],
             [
              1,
              "#f0f921"
             ]
            ],
            "type": "heatmap"
           }
          ],
          "histogram": [
           {
            "marker": {
             "pattern": {
              "fillmode": "overlay",
              "size": 10,
              "solidity": 0.2
             }
            },
            "type": "histogram"
           }
          ],
          "histogram2d": [
           {
            "colorbar": {
             "outlinewidth": 0,
             "ticks": ""
            },
            "colorscale": [
             [
              0,
              "#0d0887"
             ],
             [
              0.1111111111111111,
              "#46039f"
             ],
             [
              0.2222222222222222,
              "#7201a8"
             ],
             [
              0.3333333333333333,
              "#9c179e"
             ],
             [
              0.4444444444444444,
              "#bd3786"
             ],
             [
              0.5555555555555556,
              "#d8576b"
             ],
             [
              0.6666666666666666,
              "#ed7953"
             ],
             [
              0.7777777777777778,
              "#fb9f3a"
             ],
             [
              0.8888888888888888,
              "#fdca26"
             ],
             [
              1,
              "#f0f921"
             ]
            ],
            "type": "histogram2d"
           }
          ],
          "histogram2dcontour": [
           {
            "colorbar": {
             "outlinewidth": 0,
             "ticks": ""
            },
            "colorscale": [
             [
              0,
              "#0d0887"
             ],
             [
              0.1111111111111111,
              "#46039f"
             ],
             [
              0.2222222222222222,
              "#7201a8"
             ],
             [
              0.3333333333333333,
              "#9c179e"
             ],
             [
              0.4444444444444444,
              "#bd3786"
             ],
             [
              0.5555555555555556,
              "#d8576b"
             ],
             [
              0.6666666666666666,
              "#ed7953"
             ],
             [
              0.7777777777777778,
              "#fb9f3a"
             ],
             [
              0.8888888888888888,
              "#fdca26"
             ],
             [
              1,
              "#f0f921"
             ]
            ],
            "type": "histogram2dcontour"
           }
          ],
          "mesh3d": [
           {
            "colorbar": {
             "outlinewidth": 0,
             "ticks": ""
            },
            "type": "mesh3d"
           }
          ],
          "parcoords": [
           {
            "line": {
             "colorbar": {
              "outlinewidth": 0,
              "ticks": ""
             }
            },
            "type": "parcoords"
           }
          ],
          "pie": [
           {
            "automargin": true,
            "type": "pie"
           }
          ],
          "scatter": [
           {
            "fillpattern": {
             "fillmode": "overlay",
             "size": 10,
             "solidity": 0.2
            },
            "type": "scatter"
           }
          ],
          "scatter3d": [
           {
            "line": {
             "colorbar": {
              "outlinewidth": 0,
              "ticks": ""
             }
            },
            "marker": {
             "colorbar": {
              "outlinewidth": 0,
              "ticks": ""
             }
            },
            "type": "scatter3d"
           }
          ],
          "scattercarpet": [
           {
            "marker": {
             "colorbar": {
              "outlinewidth": 0,
              "ticks": ""
             }
            },
            "type": "scattercarpet"
           }
          ],
          "scattergeo": [
           {
            "marker": {
             "colorbar": {
              "outlinewidth": 0,
              "ticks": ""
             }
            },
            "type": "scattergeo"
           }
          ],
          "scattergl": [
           {
            "marker": {
             "colorbar": {
              "outlinewidth": 0,
              "ticks": ""
             }
            },
            "type": "scattergl"
           }
          ],
          "scattermap": [
           {
            "marker": {
             "colorbar": {
              "outlinewidth": 0,
              "ticks": ""
             }
            },
            "type": "scattermap"
           }
          ],
          "scattermapbox": [
           {
            "marker": {
             "colorbar": {
              "outlinewidth": 0,
              "ticks": ""
             }
            },
            "type": "scattermapbox"
           }
          ],
          "scatterpolar": [
           {
            "marker": {
             "colorbar": {
              "outlinewidth": 0,
              "ticks": ""
             }
            },
            "type": "scatterpolar"
           }
          ],
          "scatterpolargl": [
           {
            "marker": {
             "colorbar": {
              "outlinewidth": 0,
              "ticks": ""
             }
            },
            "type": "scatterpolargl"
           }
          ],
          "scatterternary": [
           {
            "marker": {
             "colorbar": {
              "outlinewidth": 0,
              "ticks": ""
             }
            },
            "type": "scatterternary"
           }
          ],
          "surface": [
           {
            "colorbar": {
             "outlinewidth": 0,
             "ticks": ""
            },
            "colorscale": [
             [
              0,
              "#0d0887"
             ],
             [
              0.1111111111111111,
              "#46039f"
             ],
             [
              0.2222222222222222,
              "#7201a8"
             ],
             [
              0.3333333333333333,
              "#9c179e"
             ],
             [
              0.4444444444444444,
              "#bd3786"
             ],
             [
              0.5555555555555556,
              "#d8576b"
             ],
             [
              0.6666666666666666,
              "#ed7953"
             ],
             [
              0.7777777777777778,
              "#fb9f3a"
             ],
             [
              0.8888888888888888,
              "#fdca26"
             ],
             [
              1,
              "#f0f921"
             ]
            ],
            "type": "surface"
           }
          ],
          "table": [
           {
            "cells": {
             "fill": {
              "color": "#EBF0F8"
             },
             "line": {
              "color": "white"
             }
            },
            "header": {
             "fill": {
              "color": "#C8D4E3"
             },
             "line": {
              "color": "white"
             }
            },
            "type": "table"
           }
          ]
         },
         "layout": {
          "annotationdefaults": {
           "arrowcolor": "#2a3f5f",
           "arrowhead": 0,
           "arrowwidth": 1
          },
          "autotypenumbers": "strict",
          "coloraxis": {
           "colorbar": {
            "outlinewidth": 0,
            "ticks": ""
           }
          },
          "colorscale": {
           "diverging": [
            [
             0,
             "#8e0152"
            ],
            [
             0.1,
             "#c51b7d"
            ],
            [
             0.2,
             "#de77ae"
            ],
            [
             0.3,
             "#f1b6da"
            ],
            [
             0.4,
             "#fde0ef"
            ],
            [
             0.5,
             "#f7f7f7"
            ],
            [
             0.6,
             "#e6f5d0"
            ],
            [
             0.7,
             "#b8e186"
            ],
            [
             0.8,
             "#7fbc41"
            ],
            [
             0.9,
             "#4d9221"
            ],
            [
             1,
             "#276419"
            ]
           ],
           "sequential": [
            [
             0,
             "#0d0887"
            ],
            [
             0.1111111111111111,
             "#46039f"
            ],
            [
             0.2222222222222222,
             "#7201a8"
            ],
            [
             0.3333333333333333,
             "#9c179e"
            ],
            [
             0.4444444444444444,
             "#bd3786"
            ],
            [
             0.5555555555555556,
             "#d8576b"
            ],
            [
             0.6666666666666666,
             "#ed7953"
            ],
            [
             0.7777777777777778,
             "#fb9f3a"
            ],
            [
             0.8888888888888888,
             "#fdca26"
            ],
            [
             1,
             "#f0f921"
            ]
           ],
           "sequentialminus": [
            [
             0,
             "#0d0887"
            ],
            [
             0.1111111111111111,
             "#46039f"
            ],
            [
             0.2222222222222222,
             "#7201a8"
            ],
            [
             0.3333333333333333,
             "#9c179e"
            ],
            [
             0.4444444444444444,
             "#bd3786"
            ],
            [
             0.5555555555555556,
             "#d8576b"
            ],
            [
             0.6666666666666666,
             "#ed7953"
            ],
            [
             0.7777777777777778,
             "#fb9f3a"
            ],
            [
             0.8888888888888888,
             "#fdca26"
            ],
            [
             1,
             "#f0f921"
            ]
           ]
          },
          "colorway": [
           "#636efa",
           "#EF553B",
           "#00cc96",
           "#ab63fa",
           "#FFA15A",
           "#19d3f3",
           "#FF6692",
           "#B6E880",
           "#FF97FF",
           "#FECB52"
          ],
          "font": {
           "color": "#2a3f5f"
          },
          "geo": {
           "bgcolor": "white",
           "lakecolor": "white",
           "landcolor": "#E5ECF6",
           "showlakes": true,
           "showland": true,
           "subunitcolor": "white"
          },
          "hoverlabel": {
           "align": "left"
          },
          "hovermode": "closest",
          "mapbox": {
           "style": "light"
          },
          "paper_bgcolor": "white",
          "plot_bgcolor": "#E5ECF6",
          "polar": {
           "angularaxis": {
            "gridcolor": "white",
            "linecolor": "white",
            "ticks": ""
           },
           "bgcolor": "#E5ECF6",
           "radialaxis": {
            "gridcolor": "white",
            "linecolor": "white",
            "ticks": ""
           }
          },
          "scene": {
           "xaxis": {
            "backgroundcolor": "#E5ECF6",
            "gridcolor": "white",
            "gridwidth": 2,
            "linecolor": "white",
            "showbackground": true,
            "ticks": "",
            "zerolinecolor": "white"
           },
           "yaxis": {
            "backgroundcolor": "#E5ECF6",
            "gridcolor": "white",
            "gridwidth": 2,
            "linecolor": "white",
            "showbackground": true,
            "ticks": "",
            "zerolinecolor": "white"
           },
           "zaxis": {
            "backgroundcolor": "#E5ECF6",
            "gridcolor": "white",
            "gridwidth": 2,
            "linecolor": "white",
            "showbackground": true,
            "ticks": "",
            "zerolinecolor": "white"
           }
          },
          "shapedefaults": {
           "line": {
            "color": "#2a3f5f"
           }
          },
          "ternary": {
           "aaxis": {
            "gridcolor": "white",
            "linecolor": "white",
            "ticks": ""
           },
           "baxis": {
            "gridcolor": "white",
            "linecolor": "white",
            "ticks": ""
           },
           "bgcolor": "#E5ECF6",
           "caxis": {
            "gridcolor": "white",
            "linecolor": "white",
            "ticks": ""
           }
          },
          "title": {
           "x": 0.05
          },
          "xaxis": {
           "automargin": true,
           "gridcolor": "white",
           "linecolor": "white",
           "ticks": "",
           "title": {
            "standoff": 15
           },
           "zerolinecolor": "white",
           "zerolinewidth": 2
          },
          "yaxis": {
           "automargin": true,
           "gridcolor": "white",
           "linecolor": "white",
           "ticks": "",
           "title": {
            "standoff": 15
           },
           "zerolinecolor": "white",
           "zerolinewidth": 2
          }
         }
        },
        "title": {
         "text": "Price Distribution by Location and Source (PKR)"
        },
        "xaxis": {
         "anchor": "y",
         "domain": [
          0,
          1
         ],
         "tickangle": 45,
         "title": {
          "text": "Location"
         }
        },
        "yaxis": {
         "anchor": "x",
         "domain": [
          0,
          1
         ],
         "title": {
          "text": "Price (PKR)"
         }
        }
       }
      }
     },
     "metadata": {},
     "output_type": "display_data"
    },
    {
     "data": {
      "application/vnd.plotly.v1+json": {
       "config": {
        "plotlyServerURL": "https://plot.ly"
       },
       "data": [
        {
         "customdata": {
          "bdata": "AAAAAAAAIkAAAAAAzL+JQQAAAAAAABRAAAAAAHawoEEAAAAAANSSQAAAAACWUYhBAAAAAAAANEAAAACAS/SCQQAAAAAAABRAAAAAAL6YgkEAAAAAAAAkQAAAAACAT3JBAAAAAAAAJkAAAAAArFN+QQAAAAAAADBAAAAAAJA6LEEAAAAAAAAUQAAAAACS/n5BAAAAAAAAJkAAAAAATKVjQQAAAAAAABRAAAAAABSoe0EAAAAAAAAkQAAAAAAkXmlBAAAAAAAAJEAAAACAcayGQQAAAAAAAD5AAAAAAGDjZkEAAAAAAAAsQAAAAAD6HUBB",
          "dtype": "f8",
          "shape": "15, 2"
         },
         "hovertemplate": "Location=%{x}<br>Average Price (PKR)=%{y}<br>property_count=%{marker.color}<br>median_price=%{customdata[1]}<extra></extra>",
         "legendgroup": "",
         "marker": {
          "color": {
           "bdata": "CQAFALUEFAAFAAoACwAQAAUACwAFAAoACgAeAA4A",
           "dtype": "i2"
          },
          "coloraxis": "coloraxis",
          "pattern": {
           "shape": ""
          }
         },
         "name": "",
         "orientation": "v",
         "showlegend": false,
         "textposition": "auto",
         "type": "bar",
         "x": [
          "Samanabad, Lahore",
          "Quaid-e-Azam Industrial Estate, Lahore",
          "DHA",
          "Cantt",
          "Architects Engineers Housing Society, Lahore",
          "Bahria Town - Block AA, Bahria Town - Sector D",
          "Lake City, Raiwind Road",
          "Multan Road, Lahore",
          "Askari 11, Lahore",
          "Bahria Town - Nishtar Block, Bahria Town - Sector E",
          "PGECHS Phase 2, Punjab Govt Employees Society",
          "Bahria Town - Tulip Block, Bahria Town - Sector C",
          "Bahria Town - Sector B, Lahore",
          "Bahria Town - Sector C, Bahria Town",
          "Bahria Town - Jasmine Block, Bahria Town - Sector C"
         ],
         "xaxis": "x",
         "y": {
          "bdata": "AAAA7CCmnUEAAACARb+bQQAAAKBIhpBBAAAAwI6yjEEAAAAAuIGGQQAAAOCf+4VBAAAAiNAohUEAAABA1UiEQQAAAACkQ4NBAAAAmCBvgkEAAAAABL2BQQAAAMBcr4BBAAAAwLcOgEEAAACArLN/QQAAAICCiH9B",
          "dtype": "f8"
         },
         "yaxis": "y"
        }
       ],
       "layout": {
        "barmode": "relative",
        "coloraxis": {
         "colorbar": {
          "title": {
           "text": "property_count"
          }
         },
         "colorscale": [
          [
           0,
           "#440154"
          ],
          [
           0.1111111111111111,
           "#482878"
          ],
          [
           0.2222222222222222,
           "#3e4989"
          ],
          [
           0.3333333333333333,
           "#31688e"
          ],
          [
           0.4444444444444444,
           "#26828e"
          ],
          [
           0.5555555555555556,
           "#1f9e89"
          ],
          [
           0.6666666666666666,
           "#35b779"
          ],
          [
           0.7777777777777778,
           "#6ece58"
          ],
          [
           0.8888888888888888,
           "#b5de2b"
          ],
          [
           1,
           "#fde725"
          ]
         ]
        },
        "height": 500,
        "legend": {
         "tracegroupgap": 0
        },
        "template": {
         "data": {
          "bar": [
           {
            "error_x": {
             "color": "#2a3f5f"
            },
            "error_y": {
             "color": "#2a3f5f"
            },
            "marker": {
             "line": {
              "color": "#E5ECF6",
              "width": 0.5
             },
             "pattern": {
              "fillmode": "overlay",
              "size": 10,
              "solidity": 0.2
             }
            },
            "type": "bar"
           }
          ],
          "barpolar": [
           {
            "marker": {
             "line": {
              "color": "#E5ECF6",
              "width": 0.5
             },
             "pattern": {
              "fillmode": "overlay",
              "size": 10,
              "solidity": 0.2
             }
            },
            "type": "barpolar"
           }
          ],
          "carpet": [
           {
            "aaxis": {
             "endlinecolor": "#2a3f5f",
             "gridcolor": "white",
             "linecolor": "white",
             "minorgridcolor": "white",
             "startlinecolor": "#2a3f5f"
            },
            "baxis": {
             "endlinecolor": "#2a3f5f",
             "gridcolor": "white",
             "linecolor": "white",
             "minorgridcolor": "white",
             "startlinecolor": "#2a3f5f"
            },
            "type": "carpet"
           }
          ],
          "choropleth": [
           {
            "colorbar": {
             "outlinewidth": 0,
             "ticks": ""
            },
            "type": "choropleth"
           }
          ],
          "contour": [
           {
            "colorbar": {
             "outlinewidth": 0,
             "ticks": ""
            },
            "colorscale": [
             [
              0,
              "#0d0887"
             ],
             [
              0.1111111111111111,
              "#46039f"
             ],
             [
              0.2222222222222222,
              "#7201a8"
             ],
             [
              0.3333333333333333,
              "#9c179e"
             ],
             [
              0.4444444444444444,
              "#bd3786"
             ],
             [
              0.5555555555555556,
              "#d8576b"
             ],
             [
              0.6666666666666666,
              "#ed7953"
             ],
             [
              0.7777777777777778,
              "#fb9f3a"
             ],
             [
              0.8888888888888888,
              "#fdca26"
             ],
             [
              1,
              "#f0f921"
             ]
            ],
            "type": "contour"
           }
          ],
          "contourcarpet": [
           {
            "colorbar": {
             "outlinewidth": 0,
             "ticks": ""
            },
            "type": "contourcarpet"
           }
          ],
          "heatmap": [
           {
            "colorbar": {
             "outlinewidth": 0,
             "ticks": ""
            },
            "colorscale": [
             [
              0,
              "#0d0887"
             ],
             [
              0.1111111111111111,
              "#46039f"
             ],
             [
              0.2222222222222222,
              "#7201a8"
             ],
             [
              0.3333333333333333,
              "#9c179e"
             ],
             [
              0.4444444444444444,
              "#bd3786"
             ],
             [
              0.5555555555555556,
              "#d8576b"
             ],
             [
              0.6666666666666666,
              "#ed7953"
             ],
             [
              0.7777777777777778,
              "#fb9f3a"
             ],
             [
              0.8888888888888888,
              "#fdca26"
             ],
             [
              1,
              "#f0f921"
             ]
            ],
            "type": "heatmap"
           }
          ],
          "histogram": [
           {
            "marker": {
             "pattern": {
              "fillmode": "overlay",
              "size": 10,
              "solidity": 0.2
             }
            },
            "type": "histogram"
           }
          ],
          "histogram2d": [
           {
            "colorbar": {
             "outlinewidth": 0,
             "ticks": ""
            },
            "colorscale": [
             [
              0,
              "#0d0887"
             ],
             [
              0.1111111111111111,
              "#46039f"
             ],
             [
              0.2222222222222222,
              "#7201a8"
             ],
             [
              0.3333333333333333,
              "#9c179e"
             ],
             [
              0.4444444444444444,
              "#bd3786"
             ],
             [
              0.5555555555555556,
              "#d8576b"
             ],
             [
              0.6666666666666666,
              "#ed7953"
             ],
             [
              0.7777777777777778,
              "#fb9f3a"
             ],
             [
              0.8888888888888888,
              "#fdca26"
             ],
             [
              1,
              "#f0f921"
             ]
            ],
            "type": "histogram2d"
           }
          ],
          "histogram2dcontour": [
           {
            "colorbar": {
             "outlinewidth": 0,
             "ticks": ""
            },
            "colorscale": [
             [
              0,
              "#0d0887"
             ],
             [
              0.1111111111111111,
              "#46039f"
             ],
             [
              0.2222222222222222,
              "#7201a8"
             ],
             [
              0.3333333333333333,
              "#9c179e"
             ],
             [
              0.4444444444444444,
              "#bd3786"
             ],
             [
              0.5555555555555556,
              "#d8576b"
             ],
             [
              0.6666666666666666,
              "#ed7953"
             ],
             [
              0.7777777777777778,
              "#fb9f3a"
             ],
             [
              0.8888888888888888,
              "#fdca26"
             ],
             [
              1,
              "#f0f921"
             ]
            ],
            "type": "histogram2dcontour"
           }
          ],
          "mesh3d": [
           {
            "colorbar": {
             "outlinewidth": 0,
             "ticks": ""
            },
            "type": "mesh3d"
           }
          ],
          "parcoords": [
           {
            "line": {
             "colorbar": {
              "outlinewidth": 0,
              "ticks": ""
             }
            },
            "type": "parcoords"
           }
          ],
          "pie": [
           {
            "automargin": true,
            "type": "pie"
           }
          ],
          "scatter": [
           {
            "fillpattern": {
             "fillmode": "overlay",
             "size": 10,
             "solidity": 0.2
            },
            "type": "scatter"
           }
          ],
          "scatter3d": [
           {
            "line": {
             "colorbar": {
              "outlinewidth": 0,
              "ticks": ""
             }
            },
            "marker": {
             "colorbar": {
              "outlinewidth": 0,
              "ticks": ""
             }
            },
            "type": "scatter3d"
           }
          ],
          "scattercarpet": [
           {
            "marker": {
             "colorbar": {
              "outlinewidth": 0,
              "ticks": ""
             }
            },
            "type": "scattercarpet"
           }
          ],
          "scattergeo": [
           {
            "marker": {
             "colorbar": {
              "outlinewidth": 0,
              "ticks": ""
             }
            },
            "type": "scattergeo"
           }
          ],
          "scattergl": [
           {
            "marker": {
             "colorbar": {
              "outlinewidth": 0,
              "ticks": ""
             }
            },
            "type": "scattergl"
           }
          ],
          "scattermap": [
           {
            "marker": {
             "colorbar": {
              "outlinewidth": 0,
              "ticks": ""
             }
            },
            "type": "scattermap"
           }
          ],
          "scattermapbox": [
           {
            "marker": {
             "colorbar": {
              "outlinewidth": 0,
              "ticks": ""
             }
            },
            "type": "scattermapbox"
           }
          ],
          "scatterpolar": [
           {
            "marker": {
             "colorbar": {
              "outlinewidth": 0,
              "ticks": ""
             }
            },
            "type": "scatterpolar"
           }
          ],
          "scatterpolargl": [
           {
            "marker": {
             "colorbar": {
              "outlinewidth": 0,
              "ticks": ""
             }
            },
            "type": "scatterpolargl"
           }
          ],
          "scatterternary": [
           {
            "marker": {
             "colorbar": {
              "outlinewidth": 0,
              "ticks": ""
             }
            },
            "type": "scatterternary"
           }
          ],
          "surface": [
           {
            "colorbar": {
             "outlinewidth": 0,
             "ticks": ""
            },
            "colorscale": [
             [
              0,
              "#0d0887"
             ],
             [
              0.1111111111111111,
              "#46039f"
             ],
             [
              0.2222222222222222,
              "#7201a8"
             ],
             [
              0.3333333333333333,
              "#9c179e"
             ],
             [
              0.4444444444444444,
              "#bd3786"
             ],
             [
              0.5555555555555556,
              "#d8576b"
             ],
             [
              0.6666666666666666,
              "#ed7953"
             ],
             [
              0.7777777777777778,
              "#fb9f3a"
             ],
             [
              0.8888888888888888,
              "#fdca26"
             ],
             [
              1,
              "#f0f921"
             ]
            ],
            "type": "surface"
           }
          ],
          "table": [
           {
            "cells": {
             "fill": {
              "color": "#EBF0F8"
             },
             "line": {
              "color": "white"
             }
            },
            "header": {
             "fill": {
              "color": "#C8D4E3"
             },
             "line": {
              "color": "white"
             }
            },
            "type": "table"
           }
          ]
         },
         "layout": {
          "annotationdefaults": {
           "arrowcolor": "#2a3f5f",
           "arrowhead": 0,
           "arrowwidth": 1
          },
          "autotypenumbers": "strict",
          "coloraxis": {
           "colorbar": {
            "outlinewidth": 0,
            "ticks": ""
           }
          },
          "colorscale": {
           "diverging": [
            [
             0,
             "#8e0152"
            ],
            [
             0.1,
             "#c51b7d"
            ],
            [
             0.2,
             "#de77ae"
            ],
            [
             0.3,
             "#f1b6da"
            ],
            [
             0.4,
             "#fde0ef"
            ],
            [
             0.5,
             "#f7f7f7"
            ],
            [
             0.6,
             "#e6f5d0"
            ],
            [
             0.7,
             "#b8e186"
            ],
            [
             0.8,
             "#7fbc41"
            ],
            [
             0.9,
             "#4d9221"
            ],
            [
             1,
             "#276419"
            ]
           ],
           "sequential": [
            [
             0,
             "#0d0887"
            ],
            [
             0.1111111111111111,
             "#46039f"
            ],
            [
             0.2222222222222222,
             "#7201a8"
            ],
            [
             0.3333333333333333,
             "#9c179e"
            ],
            [
             0.4444444444444444,
             "#bd3786"
            ],
            [
             0.5555555555555556,
             "#d8576b"
            ],
            [
             0.6666666666666666,
             "#ed7953"
            ],
            [
             0.7777777777777778,
             "#fb9f3a"
            ],
            [
             0.8888888888888888,
             "#fdca26"
            ],
            [
             1,
             "#f0f921"
            ]
           ],
           "sequentialminus": [
            [
             0,
             "#0d0887"
            ],
            [
             0.1111111111111111,
             "#46039f"
            ],
            [
             0.2222222222222222,
             "#7201a8"
            ],
            [
             0.3333333333333333,
             "#9c179e"
            ],
            [
             0.4444444444444444,
             "#bd3786"
            ],
            [
             0.5555555555555556,
             "#d8576b"
            ],
            [
             0.6666666666666666,
             "#ed7953"
            ],
            [
             0.7777777777777778,
             "#fb9f3a"
            ],
            [
             0.8888888888888888,
             "#fdca26"
            ],
            [
             1,
             "#f0f921"
            ]
           ]
          },
          "colorway": [
           "#636efa",
           "#EF553B",
           "#00cc96",
           "#ab63fa",
           "#FFA15A",
           "#19d3f3",
           "#FF6692",
           "#B6E880",
           "#FF97FF",
           "#FECB52"
          ],
          "font": {
           "color": "#2a3f5f"
          },
          "geo": {
           "bgcolor": "white",
           "lakecolor": "white",
           "landcolor": "#E5ECF6",
           "showlakes": true,
           "showland": true,
           "subunitcolor": "white"
          },
          "hoverlabel": {
           "align": "left"
          },
          "hovermode": "closest",
          "mapbox": {
           "style": "light"
          },
          "paper_bgcolor": "white",
          "plot_bgcolor": "#E5ECF6",
          "polar": {
           "angularaxis": {
            "gridcolor": "white",
            "linecolor": "white",
            "ticks": ""
           },
           "bgcolor": "#E5ECF6",
           "radialaxis": {
            "gridcolor": "white",
            "linecolor": "white",
            "ticks": ""
           }
          },
          "scene": {
           "xaxis": {
            "backgroundcolor": "#E5ECF6",
            "gridcolor": "white",
            "gridwidth": 2,
            "linecolor": "white",
            "showbackground": true,
            "ticks": "",
            "zerolinecolor": "white"
           },
           "yaxis": {
            "backgroundcolor": "#E5ECF6",
            "gridcolor": "white",
            "gridwidth": 2,
            "linecolor": "white",
            "showbackground": true,
            "ticks": "",
            "zerolinecolor": "white"
           },
           "zaxis": {
            "backgroundcolor": "#E5ECF6",
            "gridcolor": "white",
            "gridwidth": 2,
            "linecolor": "white",
            "showbackground": true,
            "ticks": "",
            "zerolinecolor": "white"
           }
          },
          "shapedefaults": {
           "line": {
            "color": "#2a3f5f"
           }
          },
          "ternary": {
           "aaxis": {
            "gridcolor": "white",
            "linecolor": "white",
            "ticks": ""
           },
           "baxis": {
            "gridcolor": "white",
            "linecolor": "white",
            "ticks": ""
           },
           "bgcolor": "#E5ECF6",
           "caxis": {
            "gridcolor": "white",
            "linecolor": "white",
            "ticks": ""
           }
          },
          "title": {
           "x": 0.05
          },
          "xaxis": {
           "automargin": true,
           "gridcolor": "white",
           "linecolor": "white",
           "ticks": "",
           "title": {
            "standoff": 15
           },
           "zerolinecolor": "white",
           "zerolinewidth": 2
          },
          "yaxis": {
           "automargin": true,
           "gridcolor": "white",
           "linecolor": "white",
           "ticks": "",
           "title": {
            "standoff": 15
           },
           "zerolinecolor": "white",
           "zerolinewidth": 2
          }
         }
        },
        "title": {
         "text": "Average Price by Location (Top 15 Areas) - PKR"
        },
        "xaxis": {
         "anchor": "y",
         "domain": [
          0,
          1
         ],
         "tickangle": 45,
         "title": {
          "text": "Location"
         }
        },
        "yaxis": {
         "anchor": "x",
         "domain": [
          0,
          1
         ],
         "title": {
          "text": "Average Price (PKR)"
         }
        }
       }
      }
     },
     "metadata": {},
     "output_type": "display_data"
    },
    {
     "data": {
      "application/vnd.plotly.v1+json": {
       "config": {
        "plotlyServerURL": "https://plot.ly"
       },
       "data": [
        {
         "branchvalues": "total",
         "customdata": {
          "bdata": "AAAA7CCmnUEAAACARb+bQQAAAKBIhpBBAAAAwI6yjEEAAAAAuIGGQQAAAOCf+4VBAAAAiNAohUEAAABA1UiEQQAAAACkQ4NBAAAAmCBvgkEAAAAABL2BQQAAAMBcr4BBAAAAwLcOgEEAAACArLN/QQAAAICCiH9BAAAA4D3/fkEAAADQwLl+QQAAAHByiX5BAAAAgDdifUEAAABwfpF8QQ==",
          "dtype": "f8",
          "shape": "20, 1"
         },
         "domain": {
          "x": [
           0,
           1
          ],
          "y": [
           0,
           1
          ]
         },
         "hovertemplate": "labels=%{label}<br>property_count=%{value}<br>parent=%{parent}<br>id=%{id}<br>avg_price=%{color}<extra></extra>",
         "ids": [
          "Samanabad, Lahore",
          "Quaid-e-Azam Industrial Estate, Lahore",
          "DHA",
          "Cantt",
          "Architects Engineers Housing Society, Lahore",
          "Bahria Town - Block AA, Bahria Town - Sector D",
          "Lake City, Raiwind Road",
          "Multan Road, Lahore",
          "Askari 11, Lahore",
          "Bahria Town - Nishtar Block, Bahria Town - Sector E",
          "PGECHS Phase 2, Punjab Govt Employees Society",
          "Bahria Town - Tulip Block, Bahria Town - Sector C",
          "Bahria Town - Sector B, Lahore",
          "Bahria Town - Sector C, Bahria Town",
          "Bahria Town - Jasmine Block, Bahria Town - Sector C",
          "Ferozepur Road, Lahore",
          "Bahria Town - Overseas B, Bahria Town - Overseas Enclave",
          "Gulberg",
          "Bedian Road, Lahore",
          "Union Town, Abdul Sattar Edhi Road"
         ],
         "labels": [
          "Samanabad, Lahore",
          "Quaid-e-Azam Industrial Estate, Lahore",
          "DHA",
          "Cantt",
          "Architects Engineers Housing Society, Lahore",
          "Bahria Town - Block AA, Bahria Town - Sector D",
          "Lake City, Raiwind Road",
          "Multan Road, Lahore",
          "Askari 11, Lahore",
          "Bahria Town - Nishtar Block, Bahria Town - Sector E",
          "PGECHS Phase 2, Punjab Govt Employees Society",
          "Bahria Town - Tulip Block, Bahria Town - Sector C",
          "Bahria Town - Sector B, Lahore",
          "Bahria Town - Sector C, Bahria Town",
          "Bahria Town - Jasmine Block, Bahria Town - Sector C",
          "Ferozepur Road, Lahore",
          "Bahria Town - Overseas B, Bahria Town - Overseas Enclave",
          "Gulberg",
          "Bedian Road, Lahore",
          "Union Town, Abdul Sattar Edhi Road"
         ],
         "marker": {
          "coloraxis": "coloraxis",
          "colors": {
           "bdata": "AAAA7CCmnUEAAACARb+bQQAAAKBIhpBBAAAAwI6yjEEAAAAAuIGGQQAAAOCf+4VBAAAAiNAohUEAAABA1UiEQQAAAACkQ4NBAAAAmCBvgkEAAAAABL2BQQAAAMBcr4BBAAAAwLcOgEEAAACArLN/QQAAAICCiH9BAAAA4D3/fkEAAADQwLl+QQAAAHByiX5BAAAAgDdifUEAAABwfpF8QQ==",
           "dtype": "f8"
          }
         },
         "name": "",
         "parents": [
          "",
          "",
          "",
          "",
          "",
          "",
          "",
          "",
          "",
          "",
          "",
          "",
          "",
          "",
          "",
          "",
          "",
          "",
          "",
          ""
         ],
         "type": "treemap",
         "values": {
          "bdata": "AAAAAAAAIkAAAAAAAAAUQAAAAAAA1JJAAAAAAAAANEAAAAAAAAAUQAAAAAAAACRAAAAAAAAAJkAAAAAAAAAwQAAAAAAAABRAAAAAAAAAJkAAAAAAAAAUQAAAAAAAACRAAAAAAAAAJEAAAAAAAAA+QAAAAAAAACxAAAAAAAAAIEAAAAAAAAAgQAAAAAAA8HNAAAAAAAAAM0AAAAAAAAAsQA==",
          "dtype": "f8"
         }
        }
       ],
       "layout": {
        "coloraxis": {
         "colorbar": {
          "title": {
           "text": "avg_price"
          }
         },
         "colorscale": [
          [
           0,
           "rgb(49,54,149)"
          ],
          [
           0.1,
           "rgb(69,117,180)"
          ],
          [
           0.2,
           "rgb(116,173,209)"
          ],
          [
           0.3,
           "rgb(171,217,233)"
          ],
          [
           0.4,
           "rgb(224,243,248)"
          ],
          [
           0.5,
           "rgb(255,255,191)"
          ],
          [
           0.6,
           "rgb(254,224,144)"
          ],
          [
           0.7,
           "rgb(253,174,97)"
          ],
          [
           0.8,
           "rgb(244,109,67)"
          ],
          [
           0.9,
           "rgb(215,48,39)"
          ],
          [
           1,
           "rgb(165,0,38)"
          ]
         ]
        },
        "height": 600,
        "legend": {
         "tracegroupgap": 0
        },
        "template": {
         "data": {
          "bar": [
           {
            "error_x": {
             "color": "#2a3f5f"
            },
            "error_y": {
             "color": "#2a3f5f"
            },
            "marker": {
             "line": {
              "color": "#E5ECF6",
              "width": 0.5
             },
             "pattern": {
              "fillmode": "overlay",
              "size": 10,
              "solidity": 0.2
             }
            },
            "type": "bar"
           }
          ],
          "barpolar": [
           {
            "marker": {
             "line": {
              "color": "#E5ECF6",
              "width": 0.5
             },
             "pattern": {
              "fillmode": "overlay",
              "size": 10,
              "solidity": 0.2
             }
            },
            "type": "barpolar"
           }
          ],
          "carpet": [
           {
            "aaxis": {
             "endlinecolor": "#2a3f5f",
             "gridcolor": "white",
             "linecolor": "white",
             "minorgridcolor": "white",
             "startlinecolor": "#2a3f5f"
            },
            "baxis": {
             "endlinecolor": "#2a3f5f",
             "gridcolor": "white",
             "linecolor": "white",
             "minorgridcolor": "white",
             "startlinecolor": "#2a3f5f"
            },
            "type": "carpet"
           }
          ],
          "choropleth": [
           {
            "colorbar": {
             "outlinewidth": 0,
             "ticks": ""
            },
            "type": "choropleth"
           }
          ],
          "contour": [
           {
            "colorbar": {
             "outlinewidth": 0,
             "ticks": ""
            },
            "colorscale": [
             [
              0,
              "#0d0887"
             ],
             [
              0.1111111111111111,
              "#46039f"
             ],
             [
              0.2222222222222222,
              "#7201a8"
             ],
             [
              0.3333333333333333,
              "#9c179e"
             ],
             [
              0.4444444444444444,
              "#bd3786"
             ],
             [
              0.5555555555555556,
              "#d8576b"
             ],
             [
              0.6666666666666666,
              "#ed7953"
             ],
             [
              0.7777777777777778,
              "#fb9f3a"
             ],
             [
              0.8888888888888888,
              "#fdca26"
             ],
             [
              1,
              "#f0f921"
             ]
            ],
            "type": "contour"
           }
          ],
          "contourcarpet": [
           {
            "colorbar": {
             "outlinewidth": 0,
             "ticks": ""
            },
            "type": "contourcarpet"
           }
          ],
          "heatmap": [
           {
            "colorbar": {
             "outlinewidth": 0,
             "ticks": ""
            },
            "colorscale": [
             [
              0,
              "#0d0887"
             ],
             [
              0.1111111111111111,
              "#46039f"
             ],
             [
              0.2222222222222222,
              "#7201a8"
             ],
             [
              0.3333333333333333,
              "#9c179e"
             ],
             [
              0.4444444444444444,
              "#bd3786"
             ],
             [
              0.5555555555555556,
              "#d8576b"
             ],
             [
              0.6666666666666666,
              "#ed7953"
             ],
             [
              0.7777777777777778,
              "#fb9f3a"
             ],
             [
              0.8888888888888888,
              "#fdca26"
             ],
             [
              1,
              "#f0f921"
             ]
            ],
            "type": "heatmap"
           }
          ],
          "histogram": [
           {
            "marker": {
             "pattern": {
              "fillmode": "overlay",
              "size": 10,
              "solidity": 0.2
             }
            },
            "type": "histogram"
           }
          ],
          "histogram2d": [
           {
            "colorbar": {
             "outlinewidth": 0,
             "ticks": ""
            },
            "colorscale": [
             [
              0,
              "#0d0887"
             ],
             [
              0.1111111111111111,
              "#46039f"
             ],
             [
              0.2222222222222222,
              "#7201a8"
             ],
             [
              0.3333333333333333,
              "#9c179e"
             ],
             [
              0.4444444444444444,
              "#bd3786"
             ],
             [
              0.5555555555555556,
              "#d8576b"
             ],
             [
              0.6666666666666666,
              "#ed7953"
             ],
             [
              0.7777777777777778,
              "#fb9f3a"
             ],
             [
              0.8888888888888888,
              "#fdca26"
             ],
             [
              1,
              "#f0f921"
             ]
            ],
            "type": "histogram2d"
           }
          ],
          "histogram2dcontour": [
           {
            "colorbar": {
             "outlinewidth": 0,
             "ticks": ""
            },
            "colorscale": [
             [
              0,
              "#0d0887"
             ],
             [
              0.1111111111111111,
              "#46039f"
             ],
             [
              0.2222222222222222,
              "#7201a8"
             ],
             [
              0.3333333333333333,
              "#9c179e"
             ],
             [
              0.4444444444444444,
              "#bd3786"
             ],
             [
              0.5555555555555556,
              "#d8576b"
             ],
             [
              0.6666666666666666,
              "#ed7953"
             ],
             [
              0.7777777777777778,
              "#fb9f3a"
             ],
             [
              0.8888888888888888,
              "#fdca26"
             ],
             [
              1,
              "#f0f921"
             ]
            ],
            "type": "histogram2dcontour"
           }
          ],
          "mesh3d": [
           {
            "colorbar": {
             "outlinewidth": 0,
             "ticks": ""
            },
            "type": "mesh3d"
           }
          ],
          "parcoords": [
           {
            "line": {
             "colorbar": {
              "outlinewidth": 0,
              "ticks": ""
             }
            },
            "type": "parcoords"
           }
          ],
          "pie": [
           {
            "automargin": true,
            "type": "pie"
           }
          ],
          "scatter": [
           {
            "fillpattern": {
             "fillmode": "overlay",
             "size": 10,
             "solidity": 0.2
            },
            "type": "scatter"
           }
          ],
          "scatter3d": [
           {
            "line": {
             "colorbar": {
              "outlinewidth": 0,
              "ticks": ""
             }
            },
            "marker": {
             "colorbar": {
              "outlinewidth": 0,
              "ticks": ""
             }
            },
            "type": "scatter3d"
           }
          ],
          "scattercarpet": [
           {
            "marker": {
             "colorbar": {
              "outlinewidth": 0,
              "ticks": ""
             }
            },
            "type": "scattercarpet"
           }
          ],
          "scattergeo": [
           {
            "marker": {
             "colorbar": {
              "outlinewidth": 0,
              "ticks": ""
             }
            },
            "type": "scattergeo"
           }
          ],
          "scattergl": [
           {
            "marker": {
             "colorbar": {
              "outlinewidth": 0,
              "ticks": ""
             }
            },
            "type": "scattergl"
           }
          ],
          "scattermap": [
           {
            "marker": {
             "colorbar": {
              "outlinewidth": 0,
              "ticks": ""
             }
            },
            "type": "scattermap"
           }
          ],
          "scattermapbox": [
           {
            "marker": {
             "colorbar": {
              "outlinewidth": 0,
              "ticks": ""
             }
            },
            "type": "scattermapbox"
           }
          ],
          "scatterpolar": [
           {
            "marker": {
             "colorbar": {
              "outlinewidth": 0,
              "ticks": ""
             }
            },
            "type": "scatterpolar"
           }
          ],
          "scatterpolargl": [
           {
            "marker": {
             "colorbar": {
              "outlinewidth": 0,
              "ticks": ""
             }
            },
            "type": "scatterpolargl"
           }
          ],
          "scatterternary": [
           {
            "marker": {
             "colorbar": {
              "outlinewidth": 0,
              "ticks": ""
             }
            },
            "type": "scatterternary"
           }
          ],
          "surface": [
           {
            "colorbar": {
             "outlinewidth": 0,
             "ticks": ""
            },
            "colorscale": [
             [
              0,
              "#0d0887"
             ],
             [
              0.1111111111111111,
              "#46039f"
             ],
             [
              0.2222222222222222,
              "#7201a8"
             ],
             [
              0.3333333333333333,
              "#9c179e"
             ],
             [
              0.4444444444444444,
              "#bd3786"
             ],
             [
              0.5555555555555556,
              "#d8576b"
             ],
             [
              0.6666666666666666,
              "#ed7953"
             ],
             [
              0.7777777777777778,
              "#fb9f3a"
             ],
             [
              0.8888888888888888,
              "#fdca26"
             ],
             [
              1,
              "#f0f921"
             ]
            ],
            "type": "surface"
           }
          ],
          "table": [
           {
            "cells": {
             "fill": {
              "color": "#EBF0F8"
             },
             "line": {
              "color": "white"
             }
            },
            "header": {
             "fill": {
              "color": "#C8D4E3"
             },
             "line": {
              "color": "white"
             }
            },
            "type": "table"
           }
          ]
         },
         "layout": {
          "annotationdefaults": {
           "arrowcolor": "#2a3f5f",
           "arrowhead": 0,
           "arrowwidth": 1
          },
          "autotypenumbers": "strict",
          "coloraxis": {
           "colorbar": {
            "outlinewidth": 0,
            "ticks": ""
           }
          },
          "colorscale": {
           "diverging": [
            [
             0,
             "#8e0152"
            ],
            [
             0.1,
             "#c51b7d"
            ],
            [
             0.2,
             "#de77ae"
            ],
            [
             0.3,
             "#f1b6da"
            ],
            [
             0.4,
             "#fde0ef"
            ],
            [
             0.5,
             "#f7f7f7"
            ],
            [
             0.6,
             "#e6f5d0"
            ],
            [
             0.7,
             "#b8e186"
            ],
            [
             0.8,
             "#7fbc41"
            ],
            [
             0.9,
             "#4d9221"
            ],
            [
             1,
             "#276419"
            ]
           ],
           "sequential": [
            [
             0,
             "#0d0887"
            ],
            [
             0.1111111111111111,
             "#46039f"
            ],
            [
             0.2222222222222222,
             "#7201a8"
            ],
            [
             0.3333333333333333,
             "#9c179e"
            ],
            [
             0.4444444444444444,
             "#bd3786"
            ],
            [
             0.5555555555555556,
             "#d8576b"
            ],
            [
             0.6666666666666666,
             "#ed7953"
            ],
            [
             0.7777777777777778,
             "#fb9f3a"
            ],
            [
             0.8888888888888888,
             "#fdca26"
            ],
            [
             1,
             "#f0f921"
            ]
           ],
           "sequentialminus": [
            [
             0,
             "#0d0887"
            ],
            [
             0.1111111111111111,
             "#46039f"
            ],
            [
             0.2222222222222222,
             "#7201a8"
            ],
            [
             0.3333333333333333,
             "#9c179e"
            ],
            [
             0.4444444444444444,
             "#bd3786"
            ],
            [
             0.5555555555555556,
             "#d8576b"
            ],
            [
             0.6666666666666666,
             "#ed7953"
            ],
            [
             0.7777777777777778,
             "#fb9f3a"
            ],
            [
             0.8888888888888888,
             "#fdca26"
            ],
            [
             1,
             "#f0f921"
            ]
           ]
          },
          "colorway": [
           "#636efa",
           "#EF553B",
           "#00cc96",
           "#ab63fa",
           "#FFA15A",
           "#19d3f3",
           "#FF6692",
           "#B6E880",
           "#FF97FF",
           "#FECB52"
          ],
          "font": {
           "color": "#2a3f5f"
          },
          "geo": {
           "bgcolor": "white",
           "lakecolor": "white",
           "landcolor": "#E5ECF6",
           "showlakes": true,
           "showland": true,
           "subunitcolor": "white"
          },
          "hoverlabel": {
           "align": "left"
          },
          "hovermode": "closest",
          "mapbox": {
           "style": "light"
          },
          "paper_bgcolor": "white",
          "plot_bgcolor": "#E5ECF6",
          "polar": {
           "angularaxis": {
            "gridcolor": "white",
            "linecolor": "white",
            "ticks": ""
           },
           "bgcolor": "#E5ECF6",
           "radialaxis": {
            "gridcolor": "white",
            "linecolor": "white",
            "ticks": ""
           }
          },
          "scene": {
           "xaxis": {
            "backgroundcolor": "#E5ECF6",
            "gridcolor": "white",
            "gridwidth": 2,
            "linecolor": "white",
            "showbackground": true,
            "ticks": "",
            "zerolinecolor": "white"
           },
           "yaxis": {
            "backgroundcolor": "#E5ECF6",
            "gridcolor": "white",
            "gridwidth": 2,
            "linecolor": "white",
            "showbackground": true,
            "ticks": "",
            "zerolinecolor": "white"
           },
           "zaxis": {
            "backgroundcolor": "#E5ECF6",
            "gridcolor": "white",
            "gridwidth": 2,
            "linecolor": "white",
            "showbackground": true,
            "ticks": "",
            "zerolinecolor": "white"
           }
          },
          "shapedefaults": {
           "line": {
            "color": "#2a3f5f"
           }
          },
          "ternary": {
           "aaxis": {
            "gridcolor": "white",
            "linecolor": "white",
            "ticks": ""
           },
           "baxis": {
            "gridcolor": "white",
            "linecolor": "white",
            "ticks": ""
           },
           "bgcolor": "#E5ECF6",
           "caxis": {
            "gridcolor": "white",
            "linecolor": "white",
            "ticks": ""
           }
          },
          "title": {
           "x": 0.05
          },
          "xaxis": {
           "automargin": true,
           "gridcolor": "white",
           "linecolor": "white",
           "ticks": "",
           "title": {
            "standoff": 15
           },
           "zerolinecolor": "white",
           "zerolinewidth": 2
          },
          "yaxis": {
           "automargin": true,
           "gridcolor": "white",
           "linecolor": "white",
           "ticks": "",
           "title": {
            "standoff": 15
           },
           "zerolinecolor": "white",
           "zerolinewidth": 2
          }
         }
        },
        "title": {
         "text": "Property Count by Location (Size) and Average Price in PKR (Color)"
        }
       }
      }
     },
     "metadata": {},
     "output_type": "display_data"
    },
    {
     "name": "stdout",
     "output_type": "stream",
     "text": [
      "✅ Interactive visualizations created!\n"
     ]
    }
   ],
   "source": [
    "# Interactive Plotly Visualizations\n",
    "print(\"🎯 CREATING INTERACTIVE VISUALIZATIONS\")\n",
    "print(\"=\"*45)\n",
    "\n",
    "# 1. Interactive Price Distribution by Location\n",
    "fig_price_location = px.box(\n",
    "    analysis_df[analysis_df['price_numeric'] < 300000000],  # Cap at 30 Crore PKR for better visualization\n",
    "    x='location_standardized',\n",
    "    y='price_numeric',\n",
    "    color='source',\n",
    "    title='Price Distribution by Location and Source (PKR)',\n",
    "    labels={'price_numeric': 'Price (PKR)', 'location_standardized': 'Location'}\n",
    ")\n",
    "\n",
    "fig_price_location.update_xaxes(tickangle=45)\n",
    "fig_price_location.update_layout(height=600, showlegend=True)\n",
    "fig_price_location.show()\n",
    "\n",
    "# 2. Interactive Bar Chart: Average Price by Location\n",
    "location_avg_price = location_stats_filtered.head(15).reset_index()\n",
    "\n",
    "fig_bar = px.bar(\n",
    "    location_avg_price,\n",
    "    x='location_standardized',\n",
    "    y='avg_price',\n",
    "    color='property_count',\n",
    "    title='Average Price by Location (Top 15 Areas) - PKR',\n",
    "    labels={'avg_price': 'Average Price (PKR)', 'location_standardized': 'Location'},\n",
    "    hover_data=['property_count', 'median_price'],\n",
    "    color_continuous_scale='Viridis'\n",
    ")\n",
    "\n",
    "fig_bar.update_xaxes(tickangle=45)\n",
    "fig_bar.update_layout(height=500)\n",
    "fig_bar.show()\n",
    "\n",
    "# 3. Treemap: Property Count by Location\n",
    "fig_treemap = px.treemap(\n",
    "    location_stats_filtered.head(20).reset_index(),\n",
    "    path=['location_standardized'],\n",
    "    values='property_count',\n",
    "    color='avg_price',\n",
    "    title='Property Count by Location (Size) and Average Price in PKR (Color)',\n",
    "    color_continuous_scale='RdYlBu_r'\n",
    ")\n",
    "\n",
    "fig_treemap.update_layout(height=600)\n",
    "fig_treemap.show()\n",
    "\n",
    "print(\"✅ Interactive visualizations created!\")\n"
   ]
  },
  {
   "cell_type": "code",
   "execution_count": null,
   "id": "5c54e96a",
   "metadata": {},
   "outputs": [
    {
     "name": "stdout",
     "output_type": "stream",
     "text": [
      "💡 LAHORE REAL ESTATE MARKET INSIGHTS\n",
      "==================================================\n",
      "🏆 KEY MARKET FINDINGS:\n",
      "========================================\n",
      "1. MARKET SIZE & SCOPE:\n",
      "   • Total Properties Analyzed: 3,837\n",
      "   • Properties with Price Data: 3,837 (100.0%)\n",
      "   • Average Market Price: 38,100,397 PKR\n",
      "   • Median Market Price: 14,200,000 PKR\n",
      "\n",
      "2. MARKET SEGMENTS (PKR):\n",
      "   • Affordable (<10 Cr): 3,500 (91.2%)\n",
      "   • Mid-Range (10-20 Cr): 225 (5.9%)\n",
      "   • Premium (>20 Cr): 112 (2.9%)\n",
      "\n",
      "3. PREMIUM LOCATIONS:\n",
      "   1. Samanabad, Lahore: 124,356,667 PKR avg (9 properties)\n",
      "   2. Quaid-e-Azam Industrial Estate, Lahore: 116,380,000 PKR avg (5 properties)\n",
      "   3. DHA: 69,308,968 PKR avg (1205 properties)\n",
      "\n",
      "4. AFFORDABLE LOCATIONS:\n",
      "   1. Faisal Town: 2,245,815 PKR avg (27 properties)\n",
      "   2. DHA 9 Town - Block D, DHA 9 Town: 2,049,600 PKR avg (5 properties)\n",
      "   3. Askari 11 - Sector C, Askari 11: 40,833 PKR avg (6 properties)\n",
      "\n",
      "5. SOURCE COMPARISON:\n",
      "   • Zameen.com: 2,323 properties, Avg: 45,834,144 PKR\n",
      "   • Graana.com: 1,514 properties, Avg: 26,234,153 PKR\n",
      "   • Average Price Difference: 19,599,990 PKR\n",
      "\n",
      "📊 MARKET RECOMMENDATIONS:\n",
      "===================================\n",
      "🎯 FOR BUYERS:\n",
      "   • Best Value Areas: Faisal Town, DHA 9 Town - Block D, DHA 9 Town\n",
      "   • Largest Selection: DHA, Gulberg\n",
      "   • Budget-Friendly: Focus on properties under 10 Crore PKR (91.2% of market)\n",
      "\n",
      "🏘️ FOR INVESTORS:\n",
      "   • Premium Growth Areas: Samanabad, Lahore, Quaid-e-Azam Industrial Estate, Lahore\n",
      "   • High Activity Zones: DHA, Gulberg, Johar Town\n",
      "   • Emerging Markets: Areas with 10-50 properties for potential growth\n",
      "\n",
      "📱 FOR DATA SOURCES:\n",
      "   • Zameen.com: 2,323 properties (60.5%)\n",
      "   • Graana.com: 1,514 properties (39.5%)\n",
      "   • Combined Coverage: Comprehensive market view across both platforms\n",
      "\n",
      "✅ ANALYSIS COMPLETE!\n",
      "Total insights generated from 3,837 property records\n"
     ]
    }
   ],
   "source": [
    "# Market Insights and Key Findings\n",
    "print(\"💡 LAHORE REAL ESTATE MARKET INSIGHTS\")\n",
    "print(\"=\"*50)\n",
    "\n",
    "# Calculate key market metrics\n",
    "total_properties = len(combined_df)\n",
    "total_with_prices = len(analysis_df)\n",
    "avg_market_price = analysis_df['price_numeric'].mean()\n",
    "median_market_price = analysis_df['price_numeric'].median()\n",
    "\n",
    "# Premium vs Affordable segments (all in PKR)\n",
    "premium_threshold = 200000000  # 20 Crore PKR\n",
    "affordable_threshold = 100000000  # 10 Crore PKR\n",
    "\n",
    "premium_properties = analysis_df[analysis_df['price_numeric'] > premium_threshold]\n",
    "affordable_properties = analysis_df[analysis_df['price_numeric'] < affordable_threshold]\n",
    "mid_range_properties = analysis_df[\n",
    "    (analysis_df['price_numeric'] >= affordable_threshold) & \n",
    "    (analysis_df['price_numeric'] <= premium_threshold)\n",
    "]\n",
    "\n",
    "print(\"🏆 KEY MARKET FINDINGS:\")\n",
    "print(\"=\"*40)\n",
    "\n",
    "print(f\"1. MARKET SIZE & SCOPE:\")\n",
    "print(f\"   • Total Properties Analyzed: {total_properties:,}\")\n",
    "print(f\"   • Properties with Price Data: {total_with_prices:,} ({total_with_prices/total_properties*100:.1f}%)\")\n",
    "print(f\"   • Average Market Price: {avg_market_price:,.0f} PKR\")\n",
    "print(f\"   • Median Market Price: {median_market_price:,.0f} PKR\")\n",
    "\n",
    "print(f\"\\n2. MARKET SEGMENTS (PKR):\")\n",
    "print(f\"   • Affordable (<10 Cr): {len(affordable_properties):,} ({len(affordable_properties)/total_with_prices*100:.1f}%)\")\n",
    "print(f\"   • Mid-Range (10-20 Cr): {len(mid_range_properties):,} ({len(mid_range_properties)/total_with_prices*100:.1f}%)\")\n",
    "print(f\"   • Premium (>20 Cr): {len(premium_properties):,} ({len(premium_properties)/total_with_prices*100:.1f}%)\")\n",
    "\n",
    "# Most and least expensive areas\n",
    "most_expensive = location_stats_filtered.head(3)\n",
    "most_affordable = location_stats_filtered.tail(3)\n",
    "\n",
    "print(f\"\\n3. PREMIUM LOCATIONS:\")\n",
    "for idx, (location, data) in enumerate(most_expensive.iterrows(), 1):\n",
    "    print(f\"   {idx}. {location}: {data['avg_price']:,.0f} PKR avg ({int(data['property_count'])} properties)\")\n",
    "\n",
    "print(f\"\\n4. AFFORDABLE LOCATIONS:\")\n",
    "for idx, (location, data) in enumerate(most_affordable.iterrows(), 1):\n",
    "    print(f\"   {idx}. {location}: {data['avg_price']:,.0f} PKR avg ({int(data['property_count'])} properties)\")\n",
    "\n",
    "# Source comparison\n",
    "zameen_data = analysis_df[analysis_df['source'] == 'Zameen.com']\n",
    "graana_data = analysis_df[analysis_df['source'] == 'Graana.com']\n",
    "\n",
    "print(f\"\\n5. SOURCE COMPARISON:\")\n",
    "if len(zameen_data) > 0 and len(graana_data) > 0:\n",
    "    print(f\"   • Zameen.com: {len(zameen_data):,} properties, Avg: {zameen_data['price_numeric'].mean():,.0f} PKR\")\n",
    "    print(f\"   • Graana.com: {len(graana_data):,} properties, Avg: {graana_data['price_numeric'].mean():,.0f} PKR\")\n",
    "    \n",
    "    # Price difference\n",
    "    price_diff = abs(zameen_data['price_numeric'].mean() - graana_data['price_numeric'].mean())\n",
    "    print(f\"   • Average Price Difference: {price_diff:,.0f} PKR\")\n",
    "\n",
    "print(f\"\\n📊 MARKET RECOMMENDATIONS:\")\n",
    "print(\"=\"*35)\n",
    "\n",
    "print(f\"🎯 FOR BUYERS:\")\n",
    "print(f\"   • Best Value Areas: {', '.join(most_affordable.index[:2])}\")\n",
    "print(f\"   • Largest Selection: {', '.join(location_stats_filtered.sort_values('property_count', ascending=False).head(2).index)}\")\n",
    "print(f\"   • Budget-Friendly: Focus on properties under 10 Crore PKR ({len(affordable_properties)/total_with_prices*100:.1f}% of market)\")\n",
    "\n",
    "print(f\"\\n🏘️ FOR INVESTORS:\")\n",
    "print(f\"   • Premium Growth Areas: {', '.join(most_expensive.index[:2])}\")\n",
    "print(f\"   • High Activity Zones: {', '.join(location_stats_filtered.sort_values('property_count', ascending=False).head(3).index)}\")\n",
    "print(f\"   • Emerging Markets: Areas with 10-50 properties for potential growth\")\n",
    "\n",
    "print(f\"\\n📱 FOR DATA SOURCES:\")\n",
    "zameen_count = len(combined_df[combined_df['source'] == 'Zameen.com'])\n",
    "graana_count = len(combined_df[combined_df['source'] == 'Graana.com'])\n",
    "print(f\"   • Zameen.com: {zameen_count:,} properties ({zameen_count/total_properties*100:.1f}%)\")\n",
    "print(f\"   • Graana.com: {graana_count:,} properties ({graana_count/total_properties*100:.1f}%)\")\n",
    "print(f\"   • Combined Coverage: Comprehensive market view across both platforms\")\n",
    "\n",
    "print(f\"\\n✅ ANALYSIS COMPLETE!\")\n",
    "print(f\"Total insights generated from {total_properties:,} property records\")"
   ]
  },
  {
   "cell_type": "code",
   "execution_count": null,
   "id": "e8a34163",
   "metadata": {},
   "outputs": [
    {
     "name": "stdout",
     "output_type": "stream",
     "text": [
      "💾 EXPORTING ANALYSIS RESULTS\n",
      "===================================\n",
      "✅ Combined dataset saved to: combined_lahore_property_data.csv\n",
      "✅ Location analysis saved to: location_analysis_results.csv\n",
      "✅ Market summary saved to: market_summary_stats.csv\n",
      "\n",
      "📋 FINAL ANALYSIS SUMMARY\n",
      "========================================\n",
      "📊 Dataset Overview:\n",
      "   • Combined Properties: 3,837\n",
      "   • Analysis-Ready Properties: 3,837\n",
      "   • Unique Locations: 449\n",
      "   • Data Sources: 2\n",
      "\n",
      "💰 Market Insights:\n",
      "   • Average Price: 3.81 Crores\n",
      "   • Price Range: 0.0 - 90.0 Lac-Cr\n",
      "   • Most Expensive Area: Samanabad, Lahore (12.44 Cr avg)\n",
      "   • Highest Volume Area: DHA (1205 properties)\n",
      "\n",
      "📁 Generated Files:\n",
      "   1. combined_lahore_property_data.csv - Full combined dataset\n",
      "   2. location_analysis_results.csv - Location-wise statistics\n",
      "   3. market_summary_stats.csv - Key market metrics\n",
      "\n",
      "🎯 Next Steps:\n",
      "   • Use combined dataset for further analysis\n",
      "   • Monitor price trends over time\n",
      "   • Expand analysis to other cities\n",
      "   • Integrate additional data sources\n",
      "\n",
      "✅ EDA ANALYSIS COMPLETE!\n",
      "🏠 Lahore Real Estate Market comprehensively analyzed\n",
      "📊 Ready for business insights and decision making\n"
     ]
    }
   ],
   "source": [
    "# Export Results and Summary\n",
    "print(\"💾 EXPORTING ANALYSIS RESULTS\")\n",
    "print(\"=\"*35)\n",
    "\n",
    "# Create summary statistics for export\n",
    "summary_stats = {\n",
    "    'total_properties': len(combined_df),\n",
    "    'properties_with_prices': len(analysis_df),\n",
    "    'avg_market_price_pkr': analysis_df['price_numeric'].mean(),\n",
    "    'median_market_price_pkr': analysis_df['price_numeric'].median(),\n",
    "    'price_std_pkr': analysis_df['price_numeric'].std(),\n",
    "    'zameen_properties': len(combined_df[combined_df['source'] == 'Zameen.com']),\n",
    "    'graana_properties': len(combined_df[combined_df['source'] == 'Graana.com']),\n",
    "    'unique_locations': combined_df['location_standardized'].nunique(),\n",
    "    'analysis_date': pd.Timestamp.now().strftime('%Y-%m-%d %H:%M:%S')\n",
    "}\n",
    "\n",
    "# Export location statistics\n",
    "location_stats_export = location_stats_filtered.copy()\n",
    "location_stats_export['avg_price_crores'] = location_stats_export['avg_price'] / 10000000\n",
    "location_stats_export['median_price_crores'] = location_stats_export['median_price'] / 10000000\n",
    "\n",
    "# Save to CSV files\n",
    "try:\n",
    "    # Combined dataset\n",
    "    combined_df.to_csv('combined_lahore_property_data.csv', index=False)\n",
    "    print(\"✅ Combined dataset saved to: combined_lahore_property_data.csv\")\n",
    "    \n",
    "    # Location statistics\n",
    "    location_stats_export.to_csv('location_analysis_results.csv')\n",
    "    print(\"✅ Location analysis saved to: location_analysis_results.csv\")\n",
    "    \n",
    "    # Summary statistics\n",
    "    pd.DataFrame([summary_stats]).to_csv('market_summary_stats.csv', index=False)\n",
    "    print(\"✅ Market summary saved to: market_summary_stats.csv\")\n",
    "    \n",
    "except Exception as e:\n",
    "    print(f\"❌ Error saving files: {e}\")\n",
    "\n",
    "# Display final summary\n",
    "print(f\"\\n📋 FINAL ANALYSIS SUMMARY\")\n",
    "print(\"=\"*40)\n",
    "print(f\"📊 Dataset Overview:\")\n",
    "print(f\"   • Combined Properties: {len(combined_df):,}\")\n",
    "print(f\"   • Analysis-Ready Properties: {len(analysis_df):,}\")\n",
    "print(f\"   • Unique Locations: {combined_df['location_standardized'].nunique()}\")\n",
    "print(f\"   • Data Sources: {combined_df['source'].nunique()}\")\n",
    "\n",
    "print(f\"\\n💰 Market Insights:\")\n",
    "print(f\"   • Average Price: {analysis_df['price_numeric'].mean()/10000000:.2f} Crores\")\n",
    "print(f\"   • Price Range: {analysis_df['price_numeric'].min()/100000:.1f} - {analysis_df['price_numeric'].max()/10000000:.1f} Lac-Cr\")\n",
    "print(f\"   • Most Expensive Area: {location_stats_filtered.index[0]} ({location_stats_filtered.iloc[0]['avg_price']/10000000:.2f} Cr avg)\")\n",
    "print(f\"   • Highest Volume Area: {location_stats_filtered.sort_values('property_count', ascending=False).index[0]} ({int(location_stats_filtered.sort_values('property_count', ascending=False).iloc[0]['property_count'])} properties)\")\n",
    "\n",
    "print(f\"\\n📁 Generated Files:\")\n",
    "print(f\"   1. combined_lahore_property_data.csv - Full combined dataset\")\n",
    "print(f\"   2. location_analysis_results.csv - Location-wise statistics\")  \n",
    "print(f\"   3. market_summary_stats.csv - Key market metrics\")\n",
    "\n",
    "print(f\"\\n🎯 Next Steps:\")\n",
    "print(f\"   • Use combined dataset for further analysis\")\n",
    "print(f\"   • Monitor price trends over time\")\n",
    "print(f\"   • Expand analysis to other cities\")\n",
    "print(f\"   • Integrate additional data sources\")\n",
    "\n",
    "print(f\"\\n✅ EDA ANALYSIS COMPLETE!\")\n",
    "print(f\"🏠 Lahore Real Estate Market comprehensively analyzed\")\n",
    "print(f\"📊 Ready for business insights and decision making\")"
   ]
  }
 ],
 "metadata": {
  "kernelspec": {
   "display_name": "Python 3",
   "language": "python",
   "name": "python3"
  },
  "language_info": {
   "codemirror_mode": {
    "name": "ipython",
    "version": 3
   },
   "file_extension": ".py",
   "mimetype": "text/x-python",
   "name": "python",
   "nbconvert_exporter": "python",
   "pygments_lexer": "ipython3",
   "version": "3.11.9"
  }
 },
 "nbformat": 4,
 "nbformat_minor": 5
}
